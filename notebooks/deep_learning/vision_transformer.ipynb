{
 "cells": [
  {
   "cell_type": "code",
   "execution_count": 1,
   "id": "48f1e23b-5489-4c0b-854b-274e72bc6601",
   "metadata": {},
   "outputs": [
    {
     "name": "stderr",
     "output_type": "stream",
     "text": [
      "/home/ayush.sharma/miniconda3/envs/prep/lib/python3.9/site-packages/torchvision/io/image.py:13: UserWarning: Failed to load image Python extension: /home/ayush.sharma/miniconda3/envs/prep/lib/python3.9/site-packages/torchvision/image.so: undefined symbol: _ZN3c105ErrorC2ENS_14SourceLocationESs\n",
      "  warn(f\"Failed to load image Python extension: {e}\")\n"
     ]
    }
   ],
   "source": [
    "import sys\n",
    "import os, os.path as osp\n",
    "import numpy as np\n",
    "import torch\n",
    "import torch.nn as nn\n",
    "import torchvision\n",
    "from torchvision import datasets, transforms\n",
    "import matplotlib.pyplot as plt\n",
    "import pandas as pd"
   ]
  },
  {
   "cell_type": "markdown",
   "id": "8ea5eaab-193a-489f-8a2e-dfc9b09cb472",
   "metadata": {},
   "source": [
    "## Globals"
   ]
  },
  {
   "cell_type": "code",
   "execution_count": 3,
   "id": "4c52c7ff-6910-4356-86d4-f54b5357c436",
   "metadata": {},
   "outputs": [],
   "source": [
    "root_dir = \"~/prep/data/\"\n"
   ]
  },
  {
   "cell_type": "markdown",
   "id": "b5e4e266-bf3b-4328-b7c8-7d0a4eb39b31",
   "metadata": {},
   "source": [
    "## Data Loader"
   ]
  },
  {
   "cell_type": "code",
   "execution_count": 4,
   "id": "90c6ed5a-c80c-424b-832f-613ab99a9d11",
   "metadata": {},
   "outputs": [],
   "source": [
    "# Define transformations (resize to 32x32 as ViT generally takes larger inputs)\n",
    "transform = transforms.Compose([\n",
    "    transforms.Resize((32, 32)),  # Resize to 32x32 for ViT input\n",
    "    transforms.ToTensor(),\n",
    "    transforms.Normalize((0.5,), (0.5,))  # Normalize MNIST data: The MNIST dataset has pixel values in the range [0, 1]\n",
    "])\n",
    "\n",
    "## The data will now be in the range [-1, 1]\n",
    "\n",
    "train_dataset = datasets.MNIST(root=root_dir, train=True, download=True, transform=transform)\n",
    "test_dataset = datasets.MNIST(root=root_dir, train=False, download=True, transform=transform)\n",
    "\n",
    "train_loader = torch.utils.data.DataLoader(train_dataset, batch_size=64, shuffle=True)\n",
    "test_loader = torch.utils.data.DataLoader(test_dataset, batch_size=64, shuffle=False) # No shuffle as test set. \n",
    "\n"
   ]
  },
  {
   "cell_type": "markdown",
   "id": "b6a10ea8-96ed-4a5f-882a-29cc7ef1ba1a",
   "metadata": {},
   "source": [
    "### Sanity check"
   ]
  },
  {
   "cell_type": "code",
   "execution_count": 5,
   "id": "2cc577fc-01fe-4591-a3d1-fe6b977f64f1",
   "metadata": {},
   "outputs": [
    {
     "data": {
      "text/plain": [
       "(torch.Size([64, 1, 32, 32]), torch.Size([64]))"
      ]
     },
     "execution_count": 5,
     "metadata": {},
     "output_type": "execute_result"
    }
   ],
   "source": [
    "dataiter = iter(train_loader)\n",
    "images, labels = dataiter.next()\n",
    "images.shape, labels.shape"
   ]
  },
  {
   "cell_type": "markdown",
   "id": "a3d1b630-9707-48a3-881b-e58808975832",
   "metadata": {},
   "source": [
    "## Config"
   ]
  },
  {
   "cell_type": "code",
   "execution_count": 6,
   "id": "30e05223-b7e3-4434-927f-9479e32198ba",
   "metadata": {},
   "outputs": [],
   "source": [
    "from dataclasses import dataclass\n",
    "\n",
    "@dataclass\n",
    "class Config():\n",
    "    num_epochs: int = 10\n",
    "    batch_size: int = 64\n",
    "    channels: int = 1\n",
    "    image_size: int = 32\n",
    "    patch_size: int = 16 # should divide image size\n",
    "    num_patches: int = (image_size // patch_size) ** 2\n",
    "    embed_dim: int = patch_size * patch_size\n",
    "    num_transformer_blocks: int = 6 # Paper uses 12 blocks. But since MNIST is small, I use 6\n",
    "    num_heads: int = 4\n",
    "    num_classes: int=10 # 10 classes in MNIST\n",
    "    device: str = \"cuda\" \n",
    "   \n",
    "    \n",
    "    \n",
    "    \n"
   ]
  },
  {
   "cell_type": "markdown",
   "id": "63929a25-a809-4a2e-bdcd-f349d6ea78b9",
   "metadata": {},
   "source": [
    "## Auxiliary function"
   ]
  },
  {
   "cell_type": "code",
   "execution_count": 7,
   "id": "387b06c3-5e0e-47ab-b836-187704d71d56",
   "metadata": {},
   "outputs": [],
   "source": [
    "def patchify_image(data: torch.Tensor, patch_size: int) -> torch.Tensor:\n",
    "    batch_size, channels, H, W = data.shape\n",
    "    assert H % patch_size == 0 and W % patch_size == 0\n",
    "    patches = data.unfold(dimension=2, size=patch_size, step=patch_size).unfold(dimension=3, size=patch_size, step=patch_size)\n",
    "    \n",
    "    patches = patches.contiguous().view(batch_size, -1, patch_size * patch_size * channels)\n",
    "    # Patches has shape [num_batch, num_patch, patch_size * patch_size]. Note seq_len is also called num_patch \n",
    "    return patches\n",
    "    \n",
    "# patches = patchify_image(images, Config.patch_size)\n",
    "# patches.shape\n",
    "    \n",
    "    \n"
   ]
  },
  {
   "cell_type": "markdown",
   "id": "d1872751-d105-49f1-94dc-fbf862a1d3a9",
   "metadata": {},
   "source": [
    "## Model architecture"
   ]
  },
  {
   "cell_type": "markdown",
   "id": "ce7771bc-8395-4db0-af02-ef24532a1dd9",
   "metadata": {},
   "source": [
    "### Multi head attention block\n",
    "\n",
    "<img src=\"../assets/mha.png\" alt=\"Multi head attention\"> <br>\n"
   ]
  },
  {
   "cell_type": "code",
   "execution_count": 8,
   "id": "7943c429-f837-4a94-b086-206b6f3bff2f",
   "metadata": {},
   "outputs": [],
   "source": [
    "class SelfAttentionBlock(nn.Module):\n",
    "    \n",
    "    def __init__(self, num_heads: int, input_dim: int, embed_dim: int):\n",
    "        super(SelfAttentionBlock, self).__init__()\n",
    "        self.num_heads = num_heads\n",
    "        self.input_dim = input_dim\n",
    "        self.embed_dim = embed_dim\n",
    "        \n",
    "        # Linear projections for queries, keys, and values\n",
    "        self.queries = nn.Linear(input_dim, embed_dim)\n",
    "        self.keys = nn.Linear(input_dim, embed_dim)\n",
    "        self.values = nn.Linear(input_dim, embed_dim)\n",
    "        \n",
    "        # Now we need to combine the output. A layer for that\n",
    "        self.out = nn.Linear(embed_dim, input_dim)\n",
    "        \n",
    "    def forward(self, x: torch.tensor):\n",
    "        batch_size, seq_len, input_dim = x.shape   \n",
    "        assert input_dim == self.input_dim # the one provided in cofig and the one in input should match\n",
    "        per_head_dim = self.embed_dim // self.num_heads\n",
    "                            \n",
    "                             \n",
    "        # Projecting the input to find queries, keys and values\n",
    "        Q = self.queries(x)\n",
    "        K = self.keys(x)\n",
    "        V = self.values(x)\n",
    "                                 \n",
    "        # split the Q, K, V across individual heads \n",
    "        # Note that we want the output to be [batch_size, num_heads, seq_len, per_head_dim]\n",
    "        Q = Q.view(x.size(0), x.size(1), self.num_heads, per_head_dim).transpose(1, 2)\n",
    "        K = K.view(x.size(0), x.size(1), self.num_heads, per_head_dim).transpose(1, 2)\n",
    "        V = V.view(x.size(0), x.size(1), self.num_heads, per_head_dim).transpose(1, 2)\n",
    "        \n",
    "        scale = torch.sqrt(torch.tensor(per_head_dim, dtype=torch.float32))\n",
    "        attention_scores = torch.matmul(Q, K.transpose(-2, -1)) / scale # shape: [batch_size, num_heads, seq_len, seq_len]\n",
    "        attention_weights = torch.softmax(attention_scores, dim=-1)\n",
    "        \n",
    "        # Multiply by V to get the attention output. \n",
    "        # Note we don't use * as its element wise multiplicaton. We want matmul usch as:\n",
    "        # [batch_size, num_heads, seq_len, seq_len] <dot> [batch_size, num_heads, seq_len, per_head_dim]\n",
    "        attention_output = torch.matmul(attention_weights, V) # shape: [batch_size, num_heads, seq_len, per_head_dim]\n",
    "        \n",
    "        attention_output_og_shape = attention_output.transpose(1,2).contiguous() # transpose makes a tensor not-contiguous. So , make a new contigous copy\n",
    "        attention_output_og_shape = attention_output_og_shape.view(batch_size, seq_len, self.embed_dim)\n",
    "        \n",
    "        # Note that we cold have also done it using reshape\n",
    "        # attention_output_og_shape = attention_output.transpose(1, 2).reshape(x.size(0), x.size(1), self.embed_dim)\n",
    "        \n",
    "        output = self.out(attention_output_og_shape)\n",
    "        return output\n",
    "\n",
    "        \n",
    "        \n"
   ]
  },
  {
   "cell_type": "markdown",
   "id": "16355f7c-8550-4721-81a2-f94918f9d1ee",
   "metadata": {},
   "source": [
    "### Questions <br>\n",
    "\n",
    "\n",
    "#### 1. What is sequence length here?\n",
    "Answer: THe sequence length here is the number of patches of the image. The ViT authors make the analogy being each grid is a word and `[patch_size x patch_size` is the dimension of the embedding of that word.\n",
    "\n",
    "#### 2. Why do we use transpose in this part of the code? <br>\n",
    "```\n",
    "Q = Q.view(x.size(0), x.size(1), self.num_heads, per_head_dim).transpose(1, 2)\n",
    "K = K.view(x.size(0), x.size(1), self.num_heads, per_head_dim).transpose(1, 2)\n",
    "V = V.view(x.size(0), x.size(1), self.num_heads, per_head_dim).transpose(1, 2)\n",
    "```\n",
    "\n",
    "Answer:\n",
    " - After reshaping the tensor into [batch_size, seq_len, num_heads, head_dim], we need to change the order of the dimensions so that the num_heads dimension comes before the sequence length (seq_len). This is necessary because we want to compute attention independently for each head.\n",
    " - By transposing, we rearrange the tensor into:\n",
    "   `[batch_size, num_heads, seq_len, per_head_dim]`\n",
    "   we can now apply attention on the last 2 dimensions which is `sequence_length`, `per_head_dim`\n",
    "\n",
    "\n",
    "#### 3. (Important) Given word embeddings of dimension 128 for a sequence of 10 words (so, shape [batch_size, 10, 128]), if we linearly project these into queries of shape [batch_size, 10, 128], and then apply multi-head attention:\n",
    " - Why does multi-head attention split the word embedding into chunks?\n",
    " - **Doesn't this splitting lose the meaning of the word embedding**?\n",
    " \n",
    "Answer: <br>\n",
    "- Let's take an input example <br>\n",
    "    Input Example: Word embedding has shape [batch_size, 10, 128], where:\n",
    "    - 10 is the number of words in the sequence.\n",
    "    - 128 is the word embedding dimension.\n",
    "\n",
    "- Linear Projection:\n",
    "  Each word embedding (128-dimensional) is linearly projected into queries, keys, and values before splitting into heads.\n",
    "  \n",
    "- Splitting Across Heads:\n",
    "  After projection, multi-head attention splits the transformed representations, not the raw word embeddings.\n",
    "  For 8 heads, the projected queries are split into 8 parts of size 16 (128 / 8 = 16).\n",
    "  \n",
    "- The linear projections allow each head to attend to a **different transformed representation of the word embedding**, enabling multiple diverse attention patterns.\n",
    "\n",
    "- Each head focuses on a portion of the transformed embedding, but not directly splitting the original embedding.\n",
    "\n",
    "- The core reason we don’t directly project into a [batch_size, seq_len, num_heads, head_dim] space (where num_heads × head_dim = input_dim) is **primarily for flexibility and efficient parameter sharing**\n",
    "\n"
   ]
  },
  {
   "cell_type": "markdown",
   "id": "be687d1f-c982-4370-b085-889fdd61f7f5",
   "metadata": {},
   "source": [
    "<img src=\"../assets/transformer_model_architecture.png\" alt=\"ViT architecture\"> <br>\n"
   ]
  },
  {
   "cell_type": "code",
   "execution_count": 9,
   "id": "6e558a08-b977-45a8-820f-05633fe6e569",
   "metadata": {},
   "outputs": [],
   "source": [
    "class TransformerBlock(nn.Module):\n",
    "    \n",
    "    def __init__(self, num_heads: int, \n",
    "                 input_dim: int, \n",
    "                 embed_dim: int):\n",
    "        super(TransformerBlock, self).__init__()\n",
    "        self.input_dim = input_dim\n",
    "        self.embed_dim = embed_dim\n",
    "        self.norm1 = nn.LayerNorm(input_dim) ## Normalize before attention\n",
    "        self.mha = SelfAttentionBlock(num_heads, input_dim, embed_dim)\n",
    "        self.norm2 = nn.LayerNorm(embed_dim) # layer norm after the transformer MHA block\n",
    "        self.ffn = nn.Sequential(\n",
    "                      nn.Linear(embed_dim, embed_dim * 4), \n",
    "                      nn.ReLU(),\n",
    "                      nn.Linear(embed_dim * 4, embed_dim)\n",
    "        )\n",
    "        \n",
    "    def forward(self, x: torch.tensor):\n",
    "        batch_size, seq_len, input_dim = x.shape\n",
    "        assert input_dim == self.input_dim, \"The shapes of input dim specified in constructor and the data are not same\"\n",
    "\n",
    "        # Multi-head attention block\n",
    "        attn_output = self.mha(self.norm1(x))  # Apply LayerNorm first\n",
    "        x = x + attn_output  # Residual connection after attention\n",
    "\n",
    "        # Feed-forward network block\n",
    "        ffn_output = self.ffn(self.norm2(x))  # Apply LayerNorm first\n",
    "        output = x + ffn_output  # Residual connection after feed-forward\n",
    "        return output\n",
    "\n",
    "        \n",
    "        "
   ]
  },
  {
   "cell_type": "markdown",
   "id": "bdd6790b-3ca6-4915-b5a9-6237ed2e72bc",
   "metadata": {},
   "source": [
    "### 4. Why do we use LayerNorm in Transformers?\n",
    "\n",
    "Answer: There are multiple benefits to using LayerNorm in Transformer. The main reason we use it with Transformer, is that because transformers attend to individual tokens independently. So taking norm across the layer dimensions gives a more representative output as each token in `[batch, seq_len, embed_dim]` has its own feature space of `[embed_dim]`\n",
    "- LayerNorm is especially useful for transformers since each token is processed individually in attention mechanisms, and LayerNorm ensures that the representation of each token is properly normalized, leading to more effective training.\n",
    "- LayerNorm helps stabilize the training process by normalizing the inputs across the feature dimensions (i.e. normalizing with each token) and ensuring they have zeron mean and variance. This tackles the problem of exploding or vanishing gradients. \n",
    "- It helps stabilize residual connections by preventing large values from accumulating when residuals are added, ensuring smooth information flow through the network.\n",
    "\n",
    "\n",
    "### 5. Why don't we apply ReLU after second linear layer?\n",
    "```\n",
    "self.ffn = nn.Sequential(\n",
    "                      nn.Linear(embed_dim, embed_dim * 4), \n",
    "                      nn.ReLU(),\n",
    "                      nn.Linear(embed_dim * 4, embed_dim)\n",
    "        )\n",
    "```\n",
    "- **Loss of information before sum**: The final output from the FFN (after the second linear layer) is typically added to the residual connection, which expects the full range of values (both positive and negative) to maintain flexibility in representation. Applying ReLU after the second layer would clip all negative values, potentially losing information.\n",
    "- **Redundant Non Linearity**: \n",
    "    - The purpose of the ReLU (or GELU) activation function is to introduce non-linearity to the model, which helps it learn more complex patterns. After the first linear layer, the ReLU adds this non-linearity.\n",
    "    - Applying another ReLU after the second linear layer would reduce flexibility because the second linear layer's purpose is to project back to the original feature space. Keeping it linear allows the output to maintain the structure needed for the next layer.\n"
   ]
  },
  {
   "cell_type": "code",
   "execution_count": 10,
   "id": "b41acc04-d82b-4474-b56f-4dc5c573702e",
   "metadata": {},
   "outputs": [
    {
     "name": "stdout",
     "output_type": "stream",
     "text": [
      "Config(num_epochs=10, batch_size=64, channels=1, image_size=32, patch_size=16, num_patches=4, embed_dim=256, num_transformer_blocks=6, num_heads=4, num_classes=10, device='cuda')\n"
     ]
    }
   ],
   "source": [
    "cfg = Config()\n",
    "print(cfg)"
   ]
  },
  {
   "cell_type": "code",
   "execution_count": null,
   "id": "b72f1c86-1cad-44ba-8108-cb713c801888",
   "metadata": {},
   "outputs": [],
   "source": []
  },
  {
   "cell_type": "code",
   "execution_count": 11,
   "id": "56b5b363-dcf7-4e6f-b3a9-654de963e7dd",
   "metadata": {},
   "outputs": [],
   "source": [
    "class ViT(nn.Module):\n",
    "    \n",
    "    def __init__(self, cfg: Config):\n",
    "        super(ViT, self).__init__()\n",
    "        self.cfg = cfg\n",
    "        num_patches = cfg.num_patches\n",
    "        embed_dim = cfg.embed_dim\n",
    "        input_dim = cfg.patch_size ** 2\n",
    "        \n",
    "        \n",
    "        # parameters for positional embedding\n",
    "        # we use a learable positional embed as used in ViT paper\n",
    "        self.pos_embed = nn.Parameter(torch.randn(1, num_patches, input_dim))\n",
    "        self.transformers = nn.Sequential(\n",
    "                                *[TransformerBlock(cfg.num_heads, cfg.patch_size ** 2, cfg.embed_dim) for _ in range(cfg.num_transformer_blocks)]\n",
    "                            )\n",
    "        \n",
    "        self.global_avg_pool = nn.AdaptiveAvgPool1d(1)\n",
    "        self.classifier = nn.Linear(cfg.patch_size ** 2, cfg.num_classes)  # For 10 MNIST classes\n",
    "\n",
    "        \n",
    "    def forward(self, x: torch.tensor):\n",
    "        patches = patchify_image(x, self.cfg.patch_size)\n",
    "        assert patches.shape[1] == self.cfg.num_patches, \\\n",
    "            f\"Number of patches {patches.shape[1]} should match {self.cfg.num_patches}\"\n",
    "       \n",
    "        # At this point patches shape: [batch_size,  seq_len, input_dim]\n",
    "        patches = patches + self.pos_embed  \n",
    "        x = patches.contiguous()\n",
    "        x = self.transformers(x) # [batch_size,  seq_len, embed_dim]\n",
    "        \n",
    "        # Transpose for AdaptiveAvgPool1d to pool over the sequence length\n",
    "        x = x.transpose(1, 2)  # Shape: [batch_size, embed_dim, seq_len]\n",
    "        x = self.global_avg_pool(x) # Apply adaptive pooling to get [batch_size, embed_dim, 1]\n",
    "        x = x.squeeze(-1)\n",
    "        out = self.classifier(x)\n",
    "        return out"
   ]
  },
  {
   "cell_type": "code",
   "execution_count": null,
   "id": "a9979c65-54e3-4860-abac-93fe36378c43",
   "metadata": {},
   "outputs": [],
   "source": []
  },
  {
   "cell_type": "markdown",
   "id": "1e4136ec-d9cd-45c7-865f-14702bb9b7e0",
   "metadata": {},
   "source": [
    "## Training loop"
   ]
  },
  {
   "cell_type": "code",
   "execution_count": 12,
   "id": "b5d6301c-5a4e-4020-b0df-86a1310562b0",
   "metadata": {},
   "outputs": [
    {
     "data": {
      "application/vnd.jupyter.widget-view+json": {
       "model_id": "8f4a06579c064a38a257c43888d904c2",
       "version_major": 2,
       "version_minor": 0
      },
      "text/plain": [
       "Epoch 1/10:   0%|          | 0/938 [00:00<?, ?it/s]"
      ]
     },
     "metadata": {},
     "output_type": "display_data"
    },
    {
     "name": "stdout",
     "output_type": "stream",
     "text": [
      "Epoch 1 finished. Training Accuracy: 92.50%\n"
     ]
    },
    {
     "data": {
      "application/vnd.jupyter.widget-view+json": {
       "model_id": "b583564500ee4a87a628f5294080d28c",
       "version_major": 2,
       "version_minor": 0
      },
      "text/plain": [
       "Epoch 2/10:   0%|          | 0/938 [00:00<?, ?it/s]"
      ]
     },
     "metadata": {},
     "output_type": "display_data"
    },
    {
     "name": "stdout",
     "output_type": "stream",
     "text": [
      "Epoch 2 finished. Training Accuracy: 96.97%\n"
     ]
    },
    {
     "data": {
      "application/vnd.jupyter.widget-view+json": {
       "model_id": "e26fd24a064543e3ac0fb405a0978ce8",
       "version_major": 2,
       "version_minor": 0
      },
      "text/plain": [
       "Epoch 3/10:   0%|          | 0/938 [00:00<?, ?it/s]"
      ]
     },
     "metadata": {},
     "output_type": "display_data"
    },
    {
     "name": "stdout",
     "output_type": "stream",
     "text": [
      "Epoch 3 finished. Training Accuracy: 97.63%\n"
     ]
    },
    {
     "data": {
      "application/vnd.jupyter.widget-view+json": {
       "model_id": "b22cbd3ba4a84d92ba40c8c90628148c",
       "version_major": 2,
       "version_minor": 0
      },
      "text/plain": [
       "Epoch 4/10:   0%|          | 0/938 [00:00<?, ?it/s]"
      ]
     },
     "metadata": {},
     "output_type": "display_data"
    },
    {
     "name": "stdout",
     "output_type": "stream",
     "text": [
      "Epoch 4 finished. Training Accuracy: 97.88%\n"
     ]
    },
    {
     "data": {
      "application/vnd.jupyter.widget-view+json": {
       "model_id": "e13c9daf0b4741cda7a4809af1954cb2",
       "version_major": 2,
       "version_minor": 0
      },
      "text/plain": [
       "Epoch 5/10:   0%|          | 0/938 [00:00<?, ?it/s]"
      ]
     },
     "metadata": {},
     "output_type": "display_data"
    },
    {
     "name": "stdout",
     "output_type": "stream",
     "text": [
      "Epoch 5 finished. Training Accuracy: 98.27%\n"
     ]
    },
    {
     "data": {
      "application/vnd.jupyter.widget-view+json": {
       "model_id": "3b320c3826bc4f3c9d73bb3c9fc0f794",
       "version_major": 2,
       "version_minor": 0
      },
      "text/plain": [
       "Epoch 6/10:   0%|          | 0/938 [00:00<?, ?it/s]"
      ]
     },
     "metadata": {},
     "output_type": "display_data"
    },
    {
     "name": "stdout",
     "output_type": "stream",
     "text": [
      "Epoch 6 finished. Training Accuracy: 98.38%\n"
     ]
    },
    {
     "data": {
      "application/vnd.jupyter.widget-view+json": {
       "model_id": "c06dfa84bc22494d83a2c191823ddd09",
       "version_major": 2,
       "version_minor": 0
      },
      "text/plain": [
       "Epoch 7/10:   0%|          | 0/938 [00:00<?, ?it/s]"
      ]
     },
     "metadata": {},
     "output_type": "display_data"
    },
    {
     "name": "stdout",
     "output_type": "stream",
     "text": [
      "Epoch 7 finished. Training Accuracy: 98.41%\n"
     ]
    },
    {
     "data": {
      "application/vnd.jupyter.widget-view+json": {
       "model_id": "83a302736da543c8a63a820b697924d9",
       "version_major": 2,
       "version_minor": 0
      },
      "text/plain": [
       "Epoch 8/10:   0%|          | 0/938 [00:00<?, ?it/s]"
      ]
     },
     "metadata": {},
     "output_type": "display_data"
    },
    {
     "name": "stdout",
     "output_type": "stream",
     "text": [
      "Epoch 8 finished. Training Accuracy: 98.62%\n"
     ]
    },
    {
     "data": {
      "application/vnd.jupyter.widget-view+json": {
       "model_id": "e09332b04df24a6db1065891ff67765a",
       "version_major": 2,
       "version_minor": 0
      },
      "text/plain": [
       "Epoch 9/10:   0%|          | 0/938 [00:00<?, ?it/s]"
      ]
     },
     "metadata": {},
     "output_type": "display_data"
    },
    {
     "name": "stdout",
     "output_type": "stream",
     "text": [
      "Epoch 9 finished. Training Accuracy: 98.73%\n"
     ]
    },
    {
     "data": {
      "application/vnd.jupyter.widget-view+json": {
       "model_id": "e7c691d0d2ec407d91ab1d5277ed0838",
       "version_major": 2,
       "version_minor": 0
      },
      "text/plain": [
       "Epoch 10/10:   0%|          | 0/938 [00:00<?, ?it/s]"
      ]
     },
     "metadata": {},
     "output_type": "display_data"
    },
    {
     "name": "stdout",
     "output_type": "stream",
     "text": [
      "Epoch 10 finished. Training Accuracy: 98.66%\n",
      "Finished Training\n"
     ]
    }
   ],
   "source": [
    "import torch.optim as optim\n",
    "from tqdm.notebook import tqdm  # Use tqdm.notebook for Jupyter Lab (From stack Overflow)\n",
    "\n",
    "\n",
    "\n",
    "def train(cfg: Config,\n",
    "          model: nn.Module,\n",
    "          train_loader: torch.utils.data.DataLoader,\n",
    "          criterion, \n",
    "         ):\n",
    "    num_epochs = cfg.num_epochs\n",
    "    device = cfg.device\n",
    "    model.to(device)\n",
    "    model.train()\n",
    "    for epoch in range(num_epochs):\n",
    "        running_loss = 0\n",
    "        correct = 0\n",
    "        total = 0\n",
    "        \n",
    "        progress_bar = tqdm(enumerate(train_loader), total=len(train_loader), desc=f'Epoch {epoch+1}/{num_epochs}', leave=False)\n",
    "\n",
    "        for idx, (images, labels) in enumerate(train_loader):\n",
    "            images, labels = images.to(device), labels.to(device)\n",
    "            # print(images.shape, labels.shape)\n",
    "            optimizer.zero_grad()\n",
    "\n",
    "            outputs = model(images)\n",
    "            loss = criterion(outputs, labels)\n",
    "\n",
    "            loss.backward()\n",
    "            optimizer.step()\n",
    "\n",
    "            running_loss += loss.item()\n",
    "            _, predicted = torch.max(outputs, 1)\n",
    "            total += labels.size(0)\n",
    "            correct += (predicted == labels).sum().item()\n",
    "\n",
    "            # Update progress bar\n",
    "            progress_bar.set_postfix({\n",
    "                'Loss': running_loss / (idx + 1), \n",
    "                'Accuracy': 100 * correct / total\n",
    "            })\n",
    "\n",
    "        print(f'Epoch {epoch+1} finished. Training Accuracy: {100 * correct / total:.2f}%')\n",
    "    print(\"Finished Training\")            \n",
    "        \n",
    "\n",
    "cfg = Config()\n",
    "model = ViT(cfg)\n",
    "criterion = nn.CrossEntropyLoss()  \n",
    "optimizer = optim.Adam(model.parameters(), lr=3e-4)\n",
    "train(cfg, model, train_loader, criterion)\n",
    "        "
   ]
  },
  {
   "cell_type": "code",
   "execution_count": null,
   "id": "45250c42-3724-4a8a-810e-f9094f0584d6",
   "metadata": {},
   "outputs": [],
   "source": []
  },
  {
   "cell_type": "markdown",
   "id": "913cf8b3-b902-4e56-aa59-f12746e18daf",
   "metadata": {},
   "source": [
    "# Test the model"
   ]
  },
  {
   "cell_type": "code",
   "execution_count": 18,
   "id": "2f75b781-9f9e-4153-9e39-50932b1d84c4",
   "metadata": {},
   "outputs": [],
   "source": [
    "from sklearn.metrics import precision_score, recall_score\n",
    "\n",
    "\n",
    "\n",
    "def test(model, test_loader, criterion):\n",
    "    device = cfg.device\n",
    "    model.to(device)  \n",
    "    model.eval()  # Set model to evaluation mode. Don't forget this.\n",
    "    \n",
    "    test_loss = 0.0\n",
    "    all_labels = []\n",
    "    all_preds = []\n",
    "\n",
    "    with torch.no_grad():  # No need to track gradients during testing\n",
    "        for images, labels in tqdm(test_loader, desc='Testing', leave=False):\n",
    "            images, labels = images.to(device), labels.to(device)\n",
    "\n",
    "            # Forward pass\n",
    "            outputs = model(images)\n",
    "            loss = criterion(outputs, labels)\n",
    "            test_loss += loss.item()\n",
    "\n",
    "            # Store predictions and labels for precision/recall\n",
    "            _, predicted = torch.max(outputs, 1)\n",
    "            all_labels.extend(labels.cpu().numpy())\n",
    "            all_preds.extend(predicted.cpu().numpy())\n",
    "\n",
    "    # Calculate precision and recall for the test set\n",
    "    precision = precision_score(all_labels, all_preds, average='macro')\n",
    "    recall = recall_score(all_labels, all_preds, average='macro')\n",
    "    avg_loss = test_loss / len(test_loader)\n",
    "    print(f'Test Loss: {avg_loss:.4f}, Precision: {precision:.4f}, Recall: {recall:.4f}')\n",
    "\n",
    "    return avg_loss, precision, recall"
   ]
  },
  {
   "cell_type": "code",
   "execution_count": 19,
   "id": "9733f995-5a94-49b6-a203-fdf3859c4270",
   "metadata": {},
   "outputs": [
    {
     "data": {
      "application/vnd.jupyter.widget-view+json": {
       "model_id": "3672c603b4954d80b439c1eee1f8838c",
       "version_major": 2,
       "version_minor": 0
      },
      "text/plain": [
       "Testing:   0%|          | 0/157 [00:00<?, ?it/s]"
      ]
     },
     "metadata": {},
     "output_type": "display_data"
    },
    {
     "name": "stdout",
     "output_type": "stream",
     "text": [
      "Test Loss: 0.0859, Precision: 0.9760, Recall: 0.9742\n"
     ]
    }
   ],
   "source": [
    "avg_test_loss, precision, recall = test(model, test_loader, criterion)"
   ]
  },
  {
   "cell_type": "markdown",
   "id": "151c9d87-205d-4af7-b5aa-82d294062844",
   "metadata": {},
   "source": [
    "## Visualize results"
   ]
  },
  {
   "cell_type": "code",
   "execution_count": 24,
   "id": "9f8863ca-8e56-4aee-bc6b-4308be5d0424",
   "metadata": {},
   "outputs": [
    {
     "data": {
      "image/png": "[encoded data removed]",
      "text/plain": [
       "<Figure size 1500x1500 with 8 Axes>"
      ]
     },
     "metadata": {},
     "output_type": "display_data"
    }
   ],
   "source": [
    " from torchvision.utils import make_grid\n",
    "\n",
    "def visualize_results(cfg, model, test_loader,num_images=8):\n",
    "    device = cfg.device\n",
    "    classes = [str(i) for i in range(cfg.num_classes)]  # For MNIST, class labels are 0-9\n",
    "\n",
    "    model.eval()  # Set the model to evaluation mode\n",
    "    \n",
    "    data_iter = iter(test_loader)\n",
    "    images, labels = next(data_iter)\n",
    "    \n",
    "    # Move the images and labels to the appropriate device (GPU or CPU)\n",
    "    images, labels = images.to(device), labels.to(device)\n",
    "    \n",
    "    # Make predictions\n",
    "    with torch.no_grad():  # No need to calculate gradients during inference\n",
    "        outputs = model(images)\n",
    "        _, preds = torch.max(outputs, 1)\n",
    "    \n",
    "    # Move the images and labels back to the CPU for visualization\n",
    "    images = images.cpu()\n",
    "    labels = labels.cpu()\n",
    "    preds = preds.cpu()\n",
    "    \n",
    "    # Plot the images with predicted and true labels\n",
    "    fig, axes = plt.subplots(1, num_images, figsize=(15, 15))\n",
    "    for i in range(num_images):\n",
    "        ax = axes[i]\n",
    "        img = images[i].squeeze().numpy()  # Convert to NumPy array and remove single channel\n",
    "        ax.imshow(img, cmap='gray')\n",
    "        ax.set_title(f'Pred: {classes[preds[i]]}\\nTrue: {classes[labels[i]]}')\n",
    "        ax.axis('off')\n",
    "    \n",
    "    plt.show()\n",
    "\n",
    "# Example usage\n",
    "visualize_results(cfg, model, test_loader)\n"
   ]
  },
  {
   "cell_type": "code",
   "execution_count": null,
   "id": "04153b3d-f658-41b0-b4db-8752a050a8b8",
   "metadata": {},
   "outputs": [],
   "source": []
  }
 ],
 "metadata": {
  "kernelspec": {
   "display_name": "Python 3 (ipykernel)",
   "language": "python",
   "name": "python3"
  },
  "language_info": {
   "codemirror_mode": {
    "name": "ipython",
    "version": 3
   },
   "file_extension": ".py",
   "mimetype": "text/x-python",
   "name": "python",
   "nbconvert_exporter": "python",
   "pygments_lexer": "ipython3",
   "version": "3.9.19"
  }
 },
 "nbformat": 4,
 "nbformat_minor": 5
}
