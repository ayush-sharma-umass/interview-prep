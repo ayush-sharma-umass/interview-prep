{
 "cells": [
  {
   "cell_type": "code",
   "execution_count": 1,
   "id": "d6ef0912-e7b7-4971-8e4d-eeb3bad1df2e",
   "metadata": {
    "tags": []
   },
   "outputs": [],
   "source": [
    "import os\n",
    "import numpy as np\n",
    "import pandas as pd\n",
    "import matplotlib.pyplot as plt\n",
    "from copy import deepcopy"
   ]
  },
  {
   "cell_type": "markdown",
   "id": "60903e00-b063-4053-9940-db31f3fc7271",
   "metadata": {},
   "source": [
    "# 1. Table of contents:\n",
    "* [What is Logistic Regression](#2)\n",
    "    * [Overview of the algorithm](#2.1)\n",
    "    * [A word on the Activation functions](#2.2)\n",
    "* [Implementation: Binary Logistic Regression](#3)\n",
    "    * [Understanding the model ](#3.1)\n",
    "    * [Data Preparation](#3.2)\n",
    "    * [Code](#3.3)\n",
    "* [Implementation: Multiclass Logistic Regression](#4)\n",
    "    * [Categorical cross entropy ](#4.1)\n",
    "    * [Softmax and its derivative](#4.2)\n",
    "    * [Data Preparation](#4.3)\n",
    "    * [Code](#4.4)\n",
    "* [More Questions](#5)\n",
    "\n",
    "# 2. Q & A:\n",
    "* [What makes the sigmoid a good choice for modeling probabilities?](#q1)\n",
    "* [Why do we use softmax function for multiclass classification? ](#q1)\n",
    "* [What is the origin of the BCE loss function?](#q3)\n",
    "* [Why don't we use base 2 in log in the cross entropy loss function?](#q4)\n",
    "* [Why is initialization of weights important?](#q5)\n",
    "* [What happens if weights are not initialized properly?](#q5.1)\n",
    "* [What happens if keeping everything same, we change the weight initialization?](#q5.2)\n",
    "* [What is the effect on regularization on test and training accuracy?](#q6)\n",
    "* [What are the limitations of the CCE function?](#q7)\n",
    "* [What are the limitations of softmax function?](#q8)\n",
    "* [What are some limitations of logistic regression?](#q9)\n",
    "* [What are some assumptions we make when we use Logistic regression?](#q10)"
   ]
  },
  {
   "cell_type": "markdown",
   "id": "dae52f6e-308b-48c7-b039-bc8524c0d12e",
   "metadata": {},
   "source": [
    "# 3. What is Logistic regression? <a class=\"anchor\" id=\"2\"></a>\n",
    "\n",
    "Logistic regression is a statistical modeling technique used to analyze the relationship between a dependent variable and one or more independent variables, where the dependent variable represents a binary outcome or a categorical outcome with multiple classes. "
   ]
  },
  {
   "cell_type": "markdown",
   "id": "d8d405c8-b4e9-42ed-b07c-6156995d9ac4",
   "metadata": {},
   "source": [
    "## 3.1 Overview of the algorithm <a class=\"anchor\" id=\"2.1\"></a>\n",
    "\n",
    "* *Data processing:* <br>\n",
    "    Since the logistic regression is sensitive to the scales of the features of the input data, we need to normalize the data. If we don't normalize the data, some input variables with higher scales will end up having uneven influence on the model.\n",
    "* *Removing outliers* <br>\n",
    "    Unlike decision trees, logistic regression is sensitive to outliers. Thus, it is important to visualize the data and remove the outliers.\n",
    "* *Linear combination of independent variables:* <br>\n",
    "    Logistic regression creates a linear combination of input variables by multiplying them to the coefficients of the weights. The results are then summed up.\n",
    "* *Sigmoid function:* <br>\n",
    "    The linear combination output is then non-linearly mapped to a value between $[0,1]$ representing the estimated probability of the outcome.\n",
    "* *Gradient Descent or Maximum Likelihood Estimation:* <br>\n",
    "    The coefficients for the independent variables which we called weights are estimated using **Gradient Descent** or **Maximum likelihood estimation**. We want to find the parameters which maximize the probability of occurence of the data given its predictions.\n",
    "* *Evaluation:* <br>\n",
    "    The model can be evaluaed using several metrics such as acuracy or precision & recall."
   ]
  },
  {
   "cell_type": "markdown",
   "id": "1ded4f5d-8520-45fb-b45d-218b68424349",
   "metadata": {},
   "source": [
    "## 3.2. A word on the Activation functions <a class=\"anchor\" id=\"2.2\"></a>\n",
    "\n",
    "### **Logistic function:** \n",
    "\n",
    "$$ f(x)= {L \\over (1+e^{-k(x−x0)}) }$$ \n",
    "\n",
    "In a logistic fundtion : <br>\n",
    " * $L$ controls the max value the function can take\n",
    " * $k$ controls the steepness of the curve\n",
    " * $x_0$ controls where the function is centered on the x axis\n",
    "\n",
    "### **Sigmoid function:**\n",
    "\n",
    "$$ S(x) = { 1 \\over (1 + e^{-x}) }$$\n",
    "\n",
    "Sigmoid function is a special case of logistic function where, \n",
    " * max value the function can take is $1$\n",
    " * $x_0 = 0$ i.e. the function is centered at 0\n",
    " * The steepnes of the curve is $1$\n",
    "\n",
    "The Sigmoid function takes an unbounded real value and maps it to a real value between 0 and 1. <br>\n",
    "\n",
    "**Q: But what makes it a good choice for modeling probabilities? <br>**\n",
    " * We can map the linear combination of input variables to a value to $[0, 1]$.\n",
    " * It is a continous function.\n",
    " * It is non linear\n",
    " * It is monotonously increasing.\n",
    " * It is a differentiable function.\n",
    " \n",
    "**Q: What are some limitations of the sigmoid function?**\n",
    " * It gives rise to vanishing gradients: when the x values are large in magnitude (towards the extremeties), it tends to produce a very small change in the Y value. Hence, the gradients produced are near 0.\n",
    "\n",
    "### **Softmax function:** <a class=\"anchor\" id=\"q1\"></a>\n",
    "\n",
    "$$ Softmax(x) = {e^{-x} \\over {\\sum_{i=0}^N e^{-x}}} $$\n",
    "\n",
    "### **Q: Why do we use softmax function for multiclass classification?** <a class=\"anchor\" id=\"q2\"></a>\n",
    "\n",
    " * The Sigmoid function can map a value to [0, 1] and gives probability of one variable. The softmax function provides a probability distribution over all classes that sums to 1. \n",
    " * Sigmoid models each class independently. Softmax can handle modeling dependencies between multiple classes. \n",
    " * If we use Sigmoid for Multi class, the output probs will not sum to 1 as each class is modeled independently.\n",
    " * Numerical stability: Softmax helps avoid numerical underflow issues when there are many classes. Sigmoid is stable for binary case."
   ]
  },
  {
   "cell_type": "markdown",
   "id": "6692074e-daf2-4ca2-b65e-ee7d1f8b747e",
   "metadata": {},
   "source": [
    "---"
   ]
  },
  {
   "cell_type": "markdown",
   "id": "b9d567cb-8923-4374-9226-7d2531e6f042",
   "metadata": {},
   "source": [
    "# 4. Implementation: Binary Logistic Regression <a class=\"anchor\" id=\"3\"></a>\n"
   ]
  },
  {
   "cell_type": "markdown",
   "id": "3895673e-6877-4bf2-ad6c-31641b7d1558",
   "metadata": {},
   "source": [
    "## 4.1. Understanding the model <a class=\"anchor\" id=\"3.1\"></a>"
   ]
  },
  {
   "cell_type": "markdown",
   "id": "ac337876-b467-4850-8949-38d4bae31f4e",
   "metadata": {
    "tags": []
   },
   "source": [
    "\n",
    " * Let's have a look at the **forward pass**: <br>\n",
    " \n",
    "   Let $X$ be our input data consistting of $N$ samples, $W$ be our weights and $b$ be the bias, and $Y_T$ be the ground truth. <br>\n",
    "   \n",
    "   All the sample points are normalized in the `_normalize_data` function <br>\n",
    "   \n",
    "   $$ H = W.X + b $$ <br>\n",
    "   \n",
    "   Pass it through the non linear Sigmoid Activation\n",
    "   \n",
    "   $$ Y_{pred} = Sigmoid(H) $$  <br>\n",
    "   \n",
    "```python\n",
    "# If X is our input data with shape (N, num_feats)\n",
    "\n",
    "X = np.random.randn(100, 5)\n",
    "weights = np.random.rand(X.shape[0])\n",
    "bias = 0\n",
    "\n",
    "def _forward_pass(X):\n",
    "    H = np.dot(X, weights) + bias\n",
    "    # Clip predicted probabilities to prevent overflow\n",
    "    ypred = np.clip(self._sigmoid(H), self.eps, 1 - self.eps)\n",
    "    return ypred\n",
    "  ```\n",
    "   \n",
    " * **Backward pass**: We use gradient descent here to optimize: <br>\n",
    " \n",
    "   We compute Binary Cross Entropy Loss as,\n",
    "   \n",
    "   $$ BCE_{loss} = L = -{\\sum_{i=1}^N( Y_T{log}(Y_pred) + (1 - Y_T) log (1 - Y_pred) ) \\over N }$$ <br>\n",
    "   So, now when we compute the gradient wrt loss, we get, \n",
    "   $$ {{\\partial L} \\over {\\partial Y_{pred}}}  = { {-1\\over N}[ {Y_T \\over Y_pred} - {(1-Y_T) \\over (1-Y_pred)} ] }$$\n",
    "   Partial gradient of predictions over sigmoid output<br>\n",
    "   (check stack overflow or derive yourself, its easy takes a few equation manipulations)\n",
    "   $$ {\\partial Y_{pred} \\over \\partial H}  = H * (1 - H)$$ <br>\n",
    "   Partial gradient of $H$ over weights $W$\n",
    "   $$ {\\partial H \\over \\partial W} = X $$\n",
    "   Partial gradient of $H$ over bias $b$\n",
    "   $$ {\\partial H \\over \\partial b} = 1 $$\n",
    "   \n",
    "   Now, using **chain-rule** of derivatives, we can stitch to find the gradient of loss $L$ wrt weights $W$ and bias $W$,\n",
    "   \n",
    "   $$ {\\partial H \\over \\partial W} = {\\partial L \\over \\partial Y_{pred}} * {\\partial Y_{pred} \\over \\partial H}* {\\partial H \\over \\partial W} $$\n",
    "   \n",
    "   Similary for bias $b$, \n",
    "\n",
    "   $$ {\\partial H \\over \\partial b} = {\\partial L \\over \\partial Y_{pred}} * {\\partial Y_{pred} \\over \\partial H} * {\\partial H \\over \\partial b} $$\n",
    " * Note that in this code, we use **Xavier initialization** for initialize our weights. We can also use normal initialization for this. You can run it with either and see the effect on the process. Random initialization converges slower and yields less accuracy as compared to Xavier initialization. <br>\n",
    " Checkout the function: `xavier_init`\n",
    " *  Checkout the functions `_forward_pass` and `_update_weights` on how these equations are used"
   ]
  },
  {
   "cell_type": "markdown",
   "id": "a267e916-af3c-4c4d-9d82-ee130655bb2f",
   "metadata": {
    "tags": []
   },
   "source": [
    "### **Q: What is the origin of the BCE loss function?** <a class=\"anchor\" id=\"q3\"></a>\n",
    "\n",
    "The Binary Cross Entropy (BCE) loss function originates from information theory and is commonly used in binary classification problems. It measures the dissimilarity between the predicted probabilities and the true binary labels. <br>\n",
    "The concept of entropy is also derived from Information theory, where we say that how many bits it takes to store an information. If the information is distributed, then entropy is high, i.e. randomness is high.\n",
    "\n",
    "### **Q: Then why don't we use base 2 in log in the loss function?** <a class=\"anchor\" id=\"q4\"></a>\n",
    "\n",
    "In the derivatives, it doesn't make a difference, because the factor of log 2 will just be an extra constant multiplied. So, to simplify, we use base $e$."
   ]
  },
  {
   "cell_type": "markdown",
   "id": "77d26852-0e06-4ff5-8e12-0a638d99714a",
   "metadata": {},
   "source": [
    "## 4.2 Data preparation <a class=\"anchor\" id=\"3.2\"></a>\n",
    "\n",
    "THe data we are using is breast cancer data from scikit learn. \n",
    "It provides featues for a region adn categorizes it as *Benign* or *Malignant*"
   ]
  },
  {
   "cell_type": "code",
   "execution_count": 88,
   "id": "d93e048e-57e4-438c-8257-fdf1220a4eb2",
   "metadata": {
    "tags": []
   },
   "outputs": [],
   "source": [
    "from sklearn.datasets import load_breast_cancer\n",
    "from sklearn.linear_model import LogisticRegression\n",
    "from sklearn.model_selection import train_test_split\n",
    "from sklearn.metrics import accuracy_score\n",
    "\n",
    "# load breast cancer dataset\n",
    "data = load_breast_cancer()\n",
    "\n",
    "# split data into training and test sets\n",
    "X_train, X_test, Y_train, Y_test = train_test_split(data.data, data.target, test_size=0.2, random_state=42)\n"
   ]
  },
  {
   "cell_type": "markdown",
   "id": "1c716039-a683-4206-a79c-093aa3f3a34a",
   "metadata": {
    "tags": []
   },
   "source": [
    "## 4.3 Code <a class=\"anchor\" id=\"3.3\"></a>"
   ]
  },
  {
   "cell_type": "code",
   "execution_count": 117,
   "id": "763dca68-3694-40e0-b5b8-bca1c2b04a5a",
   "metadata": {
    "tags": []
   },
   "outputs": [],
   "source": [
    "class BinaryLogisticRegression:\n",
    "    \n",
    "    def __init__(self, lr=1e-4, niter=5000, lambda_reg=0.0):\n",
    "        self.lr = lr\n",
    "        self.niter = niter\n",
    "        self.lambda_reg = lambda_reg\n",
    "        self.num_features = None\n",
    "        self.weights = None\n",
    "        self.bias = 0\n",
    "        self.eps = 1e-6\n",
    "        self.loss_history = None\n",
    "        \n",
    "    def fit(self, X, Y, init_wt='xavier', verbose=False):\n",
    "        self.nsamples, self.nfeatures = X.shape\n",
    "        if init_wt == 'random':\n",
    "            self.weights = np.random.rand(self.nfeatures)\n",
    "        elif init_wt == 'xavier':\n",
    "            self.weights = self.xavier_init(X.shape, (self.nfeatures, 1))\n",
    "        else:\n",
    "            raise ValueError(\"Invalid initialization given for weights\")\n",
    "\n",
    "        self.weights = self.weights.flatten()\n",
    "        self.bias = 0\n",
    "        self.loss_history = []\n",
    "        X = self._normalize_data(X)\n",
    "        for i in range(self.niter):\n",
    "            ypred = self.forward_pass(X)\n",
    "            loss = self._bceloss(ypred, Y)\n",
    "            self.loss_history.append(loss)\n",
    "            if verbose:\n",
    "                if i % 500 == 0:   \n",
    "                    print(f\"iter: {i+1} --> Loss: {loss}\")\n",
    "            self._update_weights(X, Y, ypred)\n",
    "        return self.loss_history\n",
    "       \n",
    "    \n",
    "    def predict(self, Xtest, Ytest):\n",
    "        Xtest = self._normalize_data(Xtest)\n",
    "        Ypred = self.forward_pass(Xtest)\n",
    "        th = 0.5\n",
    "        prP = Ypred > th \n",
    "        prN = Ypred <= th\n",
    "        gtP = Ytest == 1\n",
    "        gtN = Ytest == 0\n",
    "        tp = np.sum(prP & gtP)\n",
    "        tn = np.sum(prN & gtN)\n",
    "        fp = np.sum(prP & gtN)\n",
    "        fn = np.sum(prN & gtP)\n",
    "        precision = tp/(tp + fp)\n",
    "        recall = tp/(tp + fn)\n",
    "        accuracy = tp/len(Xtest)\n",
    "        print(f\"Precision = {np.round(precision, 2)}\")\n",
    "        print(f\"recall = {np.round(recall, 2)}\")\n",
    "        return Ypred\n",
    "    \n",
    "    def forward_pass(self, X):\n",
    "        H = np.dot(X, self.weights) + self.bias\n",
    "        # Clip predicted probabilities to prevent overflow\n",
    "        ypred = np.clip(self._sigmoid(H), self.eps, 1 - self.eps)\n",
    "        return ypred\n",
    "\n",
    "    \n",
    "    def _bceloss(self, ypred, ytrue):\n",
    "        \"\"\"\n",
    "        BInary cross entropy loss\n",
    "        \"\"\"\n",
    "        assert len(ypred) == len(ytrue) and len(ypred) > 0\n",
    "        nsamples = len(ypred)\n",
    "        loss = (-1./nsamples) * np.sum( (ytrue)* np.log(ypred + self.eps) + (1. - ytrue) * np.log(1 - ypred + self.eps) )\n",
    "        reg = (self.lambda_reg/2) * np.sum(self.weights ** 2)   # L2-norm\n",
    "        return loss + reg\n",
    "        \n",
    "    \n",
    "    def _update_weights(self, X, Yt, Yp):\n",
    "        # dLoss/dy = -1/N[ Yt/Yp - (1-Yt)/(1-Yp) ]\n",
    "        # dY/dH = H*(1-H)\n",
    "        # dH/dW = X\n",
    "        # dH/dB = 1\n",
    "        nsamples = len(X)\n",
    "        dLoss_dy = (-1./nsamples) * np.sum( Yt/(Yp + self.eps) - (1 - Yt)/(1 - Yp + self.eps) )\n",
    "        dy_dH = Yp * (1 - Yp)\n",
    "        dH_dW = X\n",
    "        dW = np.dot(dLoss_dy * dy_dH, dH_dW) + self.lambda_reg * self.weights # mine\n",
    "        dB = np.mean(dLoss_dy * dy_dH * 1.)\n",
    "        self.weights = self.weights - self.lr * dW\n",
    "        self.bias = self.bias - self.lr * dB\n",
    "    \n",
    "    def _sigmoid(self, X):\n",
    "        X = np.clip(X, -5, 5) # we clip the input to avoid unstabilities\n",
    "        return 1. / (1. + np.exp(-X))\n",
    "    \n",
    "    def xavier_init(self, input_shape, output_shape):\n",
    "        \"\"\"\n",
    "        Xavier initialization for weights in a linear layer\n",
    "        :param input_shape: tuple, shape of input to layer\n",
    "        :param output_shape: tuple, shape of output from layer\n",
    "        :return: ndarray, initialized weights for layer\n",
    "        \"\"\"\n",
    "        scale = np.sqrt(2 / (input_shape[0] + output_shape[0]))\n",
    "        return np.random.randn(input_shape[1], output_shape[1]) * scale\n",
    "    \n",
    "    def _normalize_data(self, X):\n",
    "        \"\"\"\n",
    "        Normalizes the data by subtracing the mean and dividing by std.\n",
    "        Note that this doesn't fix the range between -1 to 1. \n",
    "        X: data with shape: (num_samples, num_feats)\n",
    "        \"\"\"\n",
    "        mu = np.mean(X, axis=0, keepdims=True)\n",
    "        std = np.std(X, axis=0, keepdims=True)\n",
    "        Xnew = (X - mu) / (std + self.eps)\n",
    "        return Xnew\n",
    "        "
   ]
  },
  {
   "cell_type": "code",
   "execution_count": 118,
   "id": "c71918cb-f580-44fd-aff7-2b8a69e7b2f8",
   "metadata": {
    "tags": []
   },
   "outputs": [
    {
     "data": {
      "text/plain": [
       "[<matplotlib.lines.Line2D at 0x7f307a668070>]"
      ]
     },
     "execution_count": 118,
     "metadata": {},
     "output_type": "execute_result"
    },
    {
     "data": {
      "image/png": "[encoded data removed]",
      "text/plain": [
       "<Figure size 640x480 with 1 Axes>"
      ]
     },
     "metadata": {},
     "output_type": "display_data"
    }
   ],
   "source": [
    "blr = BinaryLogisticRegression(lr=1e-3, niter=1000, lambda_reg=0.)\n",
    "loss = blr.fit(X_train, Y_train, init_wt='random')\n",
    "\n",
    "plt.plot(loss)\n"
   ]
  },
  {
   "cell_type": "code",
   "execution_count": 119,
   "id": "70e53371-1fe8-4165-92f8-75a599e989a1",
   "metadata": {
    "tags": []
   },
   "outputs": [
    {
     "name": "stdout",
     "output_type": "stream",
     "text": [
      "Precision = 0.74\n",
      "recall = 0.72\n"
     ]
    }
   ],
   "source": [
    "Ypred = blr.predict(X_test, Y_test)"
   ]
  },
  {
   "cell_type": "markdown",
   "id": "469d6ee1-69e4-4a1c-ac40-7782949b0b1d",
   "metadata": {
    "tags": []
   },
   "source": [
    "### **Q: Why is initialization of weights important?**  <a class=\"anchor\" id=\"q5\"></a>\n",
    "\n",
    "Initialization of the weights or coefficients is crucial as it sets the starting values for the optimization algorithm used to estimate the model parameters. Proper initialization helps ensure the convergence of the optimization process and the stability of the estimated coefficients. \n",
    "\n",
    "**What happens if weights are not initialized properly?** <a class=\"anchor\" id=\"q5.1\"></a>\n",
    "\n",
    "1. *Slow /Poor convergence:* <br>\n",
    "   Poor initialization may lead to slow convergence or the algorithm getting stuck in local optima. \n",
    "2. *Degeneracy*: <br>\n",
    "    If the model fails to converge, we may get unreliable results. This is called degeneracy. This can happen especially especially when the input features of the data are highly correlated.\n",
    "4. *Stability issues:* <br>\n",
    "   Well-initialized weights ensure that the optimization algorithm explores a reasonable parameter space, avoiding extreme or unrealistic estimates.If the weights are not initialized properly, model may explore the regions which have poor interpretability and may yield non-sensical results.\n",
    "4. *Influence on regularization:* <br>\n",
    "   If the weights are not initialized, then an $L1$ or $L2$ which depends on the weights can cause undesirable effects on the weights update.\n",
    "\n",
    "\n",
    "**What happens if keeping everything same, we change the weight initialization?** <a class=\"anchor\" id=\"q5.2\"></a>\n",
    "\n",
    " * As you will see below when we move to xavier initialization, the loss function is much more smoother than the random initialization "
   ]
  },
  {
   "cell_type": "code",
   "execution_count": 120,
   "id": "19336c20-a8f9-46c1-ba93-1cde9bd42cb2",
   "metadata": {
    "tags": []
   },
   "outputs": [
    {
     "data": {
      "text/plain": [
       "[<matplotlib.lines.Line2D at 0x7f307a248790>]"
      ]
     },
     "execution_count": 120,
     "metadata": {},
     "output_type": "execute_result"
    },
    {
     "data": {
      "image/png": "[encoded data removed]",
      "text/plain": [
       "<Figure size 640x480 with 1 Axes>"
      ]
     },
     "metadata": {},
     "output_type": "display_data"
    }
   ],
   "source": [
    "blr = BinaryLogisticRegression(lr=1e-3, niter=1000, lambda_reg=0.)\n",
    "loss = blr.fit(X_train, Y_train, init_wt='xavier')\n",
    "\n",
    "plt.plot(loss)"
   ]
  },
  {
   "cell_type": "code",
   "execution_count": 121,
   "id": "764cd982-3093-4ff5-8dbe-fb0b0aa3367e",
   "metadata": {
    "tags": []
   },
   "outputs": [
    {
     "name": "stdout",
     "output_type": "stream",
     "text": [
      "Precision = 0.95\n",
      "recall = 0.97\n"
     ]
    }
   ],
   "source": [
    "Ypred = blr.predict(X_test, Y_test)"
   ]
  },
  {
   "cell_type": "markdown",
   "id": "0da6e6bb-a8ec-4202-8b42-604ff31137de",
   "metadata": {},
   "source": [
    "### **Q: What is the effect on regularization on test and training accuracy?** <a class=\"anchor\" id=\"q6\"></a>\n",
    "\n",
    "As we increase the regularizaiton, the training metrics reduce, yet the test metrics should improve because the model is not overfitting. \n",
    "\n",
    "Let's see what effect does it have on our model?"
   ]
  },
  {
   "cell_type": "code",
   "execution_count": 129,
   "id": "3d8be8fd-4a6a-4b60-992d-c566257766d7",
   "metadata": {
    "tags": []
   },
   "outputs": [
    {
     "name": "stdout",
     "output_type": "stream",
     "text": [
      "\n",
      "Regulariaztion: 0.0 ----------------\n",
      "Train metrics\n",
      "Precision = 0.89\n",
      "recall = 0.96\n",
      "Test metrics\n",
      "Precision = 0.95\n",
      "recall = 0.97\n",
      "\n",
      "Regulariaztion: 0.1 ----------------\n",
      "Train metrics\n",
      "Precision = 0.88\n",
      "recall = 0.96\n",
      "Test metrics\n",
      "Precision = 0.95\n",
      "recall = 0.97\n",
      "\n",
      "Regulariaztion: 0.2 ----------------\n",
      "Train metrics\n",
      "Precision = 0.88\n",
      "recall = 0.96\n",
      "Test metrics\n",
      "Precision = 0.95\n",
      "recall = 0.97\n",
      "\n",
      "Regulariaztion: 0.3 ----------------\n",
      "Train metrics\n",
      "Precision = 0.63\n",
      "recall = 0.72\n",
      "Test metrics\n",
      "Precision = 0.74\n",
      "recall = 0.77\n",
      "\n",
      "Regulariaztion: 0.4 ----------------\n",
      "Train metrics\n",
      "Precision = 0.88\n",
      "recall = 0.96\n",
      "Test metrics\n",
      "Precision = 0.95\n",
      "recall = 0.97\n",
      "\n",
      "Regulariaztion: 0.5 ----------------\n",
      "Train metrics\n",
      "Precision = 0.88\n",
      "recall = 0.96\n",
      "Test metrics\n",
      "Precision = 0.95\n",
      "recall = 0.97\n",
      "\n",
      "Regulariaztion: 0.6 ----------------\n",
      "Train metrics\n",
      "Precision = 0.65\n",
      "recall = 0.75\n",
      "Test metrics\n",
      "Precision = 0.79\n",
      "recall = 0.79\n",
      "\n",
      "Regulariaztion: 0.7 ----------------\n",
      "Train metrics\n",
      "Precision = 0.88\n",
      "recall = 0.96\n",
      "Test metrics\n",
      "Precision = 0.95\n",
      "recall = 0.97\n",
      "\n",
      "Regulariaztion: 0.8 ----------------\n",
      "Train metrics\n",
      "Precision = 0.88\n",
      "recall = 0.96\n",
      "Test metrics\n",
      "Precision = 0.95\n",
      "recall = 0.97\n",
      "\n",
      "Regulariaztion: 0.9 ----------------\n",
      "Train metrics\n",
      "Precision = 0.88\n",
      "recall = 0.96\n",
      "Test metrics\n",
      "Precision = 0.95\n",
      "recall = 0.97\n"
     ]
    }
   ],
   "source": [
    "regs = np.arange(0, 1, 0.1)\n",
    "\n",
    "for reg in regs:\n",
    "    blr = BinaryLogisticRegression(lr=1e-3, niter=5000, lambda_reg=reg)\n",
    "    loss = blr.fit(X_train, Y_train, init_wt='xavier')\n",
    "    print(f\"\\nRegulariaztion: {np.round(reg, 2)} ----------------\")\n",
    "    print(\"Train metrics\")\n",
    "    Ypred = blr.predict(X_train, Y_train)\n",
    "    print(\"Test metrics\")\n",
    "    Ypred = blr.predict(X_test, Y_test)\n",
    "    \n"
   ]
  },
  {
   "cell_type": "markdown",
   "id": "48d6c525-45e3-4c8a-b3a5-e059a7fa7936",
   "metadata": {},
   "source": [
    "Here are some observations from our experiment: <br>\n",
    "\n",
    "* There is now a more evident dip in training performance at lambda values of 0.3 and 0.6, indicating the model is regularizing more.\n",
    "* The corresponding test metrics also decrease at those lambda values, suggesting the regularization is helpful for generalization.\n",
    "* Beyond 0.6 regularization, there is no clear improvement (or decline) in test metrics.\n",
    "* Best test metrics occur in the range of lambda 0.1 to 0.4 approximately.\n",
    "\n",
    "So in summary, some moderate regularization is beneficial for this model, with a \"sweet spot\" seems to be around 0.1 to 0.4 based on the validation set performance."
   ]
  },
  {
   "cell_type": "markdown",
   "id": "82ec72ff-eb9a-4fbe-bfea-f93934f19593",
   "metadata": {},
   "source": [
    "---\n",
    "***"
   ]
  },
  {
   "cell_type": "markdown",
   "id": "8544af47-4f86-4d41-a848-7c1b5e8e1c0b",
   "metadata": {},
   "source": [
    "# 5. Implementation: Multiclass Logistic Regression <a class=\"anchor\" id=\"4\"></a>\n",
    "\n",
    "Multiclass Logistic regression is more involved than the Binary logistic regression. <br>\n",
    "That's the reason, I found no implementation from scratch which applied and demonstrated chain rule. <br>\n",
    "But nothing to worry, I have implemented it from scratch using chain rule of differentiation to update weights."
   ]
  },
  {
   "cell_type": "markdown",
   "id": "e934d9cd-68b4-4cf4-b901-57c637105e75",
   "metadata": {},
   "source": [
    "## 5.1. Categorical cross Entropy function <a class=\"anchor\" id=\"4.1\"></a>\n",
    "\n",
    "This is a generalized form of Binary cross Entropy function. It is known by multiple names:\n",
    "* MultiClass Cross Entropy function\n",
    "* Categorical Cross Entropy function\n",
    "* Log Loss\n",
    "\n",
    "$$\n",
    "CE(y_{true}, y_{pred}) = -∑(y_{true} * log(y_{pred}))\n",
    "$$\n",
    "\n",
    "where $y_{true}$ is a **one-hot-encoded** vector.\n",
    "\n",
    "A very easy way to encode any 1D vector into a one-hot vector is:\n",
    "\n",
    "```python\n",
    "def encode_one_hot(y_true, nclasses):\n",
    "    yt_onehot = np.eye(nclasses)[y_true]\n",
    "    return yt_onehot\n",
    "```\n",
    "\n",
    "**Derivative**:\n",
    "$$\n",
    "\\frac{{\\partial L}}{{\\partial y_i}} = \\frac{{\\partial}}{{\\partial y_i}} \\left( -\\sum_{j} yt_j \\log(y_j) \\right)\n",
    "$$\n",
    "\n",
    "$$\n",
    "\\frac{{\\partial}}{{\\partial y_i}} \\left( -\\sum_{j} yt_j \\log(y_j) \\right) = -\\frac{{yt_i}}{{y_i}}\n",
    "$$\n",
    "\n",
    "### **Q: What are the limitations of the CCE function?** <a class=\"anchor\" id=\"q7\"></a>\n",
    "\n",
    "* Non-convex: <br>\n",
    "It is a non-convex function just like BCE. Makes the optimization harder. Optimization can get stuck in local minimas.\n",
    "* Non-robustness to outliers: <br>\n",
    "The categorical cross-entropy loss treats all misclassifications equally, without considering the degree of error. It can be sensitive to outliers or mislabeled examples, potentially leading to suboptimal solutions.\n",
    "* Imbalanced data: <br>\n",
    "We need to weigh the classes differently for an effective learning on imbalanced data or use other loss functions like focal loss.\n"
   ]
  },
  {
   "cell_type": "markdown",
   "id": "79c9b5d5-ad1f-47b9-91d8-dd08eaa11572",
   "metadata": {},
   "source": [
    "## 5.2. Softmax and its derivative <a class=\"anchor\" id=\"4.2\"></a>\n",
    "\n",
    "\n",
    "Let's understand  what a softmax function does: <br>\n",
    "\n",
    "It takes a vector of real-valued numbers as input and transforms them into a probability distribution over multiple classes. The output of the softmax function is a vector of probabilities, where each element represents the likelihood of the corresponding class. In another words, it computes the exponential of each element in the input vector and divides it by the sum of the exponentials of all elements in the vector. This normalization ensures that the resulting probabilities sum up to 1.\n",
    "$$\n",
    "softmax_i = \\frac{e^{a_i}}{\\sum_j e^{a_j}}\n",
    "$$\n",
    "\n",
    "\n",
    "Derivative of softmax is complicated. \n",
    "\n",
    "Since, in the denominator we sum all the inputs, we will need to use the **quotient rule** for differentiation.  <br>\n",
    "Also, note that when we take derivative of a softmax output wrt a softmax input, we have two cases, when the input and output indices match, and when they don't.\n",
    "\n",
    "A much more detailed explanation is provided in this [Youtube Video](https://www.youtube.com/watch?v=5-rVLSc2XdE)\n",
    "\n",
    "**case 1** where: *softmax output index **=** softmax input index*\n",
    "\n",
    "$$\n",
    "\\frac{\\partial y_i}{\\partial a_i} = \\frac{e^{a_i} \\sum_j e^{a_j} - e^{a_i}e^{a_i}}{(\\sum_j e^{a_j})^2} = \\frac{e^{a_i}}{\\sum_j e^{a_j}} \\frac{\\sum_j e^{a_j} - e^{a_i}}{\\sum_j e^{a_j}} = y_i(1-y_i) = y_i - y_i y_i\n",
    "\\\n",
    "$$\n",
    "\n",
    "**case 2** where: *softmax output index **$\\neq$** softmax input index*\n",
    "$$\n",
    "\\frac{\\partial y_i}{\\partial a_k} = \\frac{- e^{a_i}e^{a_k}}{(\\sum_j e^{a_j})^2} = -\\frac{e^{a_i}}{\\sum_j e^{a_j}}\\frac{e^{a_k}}{\\sum_j e^{a_j}} = -y_i y_k\n",
    "$$\n",
    "We can think of them as two different matrices: One with all the values in ther diagonal and other as outer product $(V.V^T)$\n",
    "\n",
    "**Matrix 1**:\n",
    "\\begin{bmatrix}\n",
    "  y_1 & 0 & 0 & \\cdots & 0 \\\\\n",
    "  0 & y_2 & 0 & \\cdots & 0 \\\\\n",
    "  \\vdots & \\vdots & \\vdots & \\ddots & \\vdots \\\\\n",
    "  0 & 0 & 0 & \\cdots & y_n\n",
    "\\end{bmatrix}\n",
    "\n",
    "\n",
    "**Matrix 2**:\n",
    "\\begin{bmatrix}\n",
    "  y_1 y_1 & y_1 y_2 & y_1 y_3 & \\cdots & y_1 y_n \\\\\n",
    "  y_2 y_1 & y_2 y_2 & y_2 y_3 & \\cdots & y_2 y_n \\\\\n",
    "  \\vdots & \\vdots & \\vdots & \\ddots & \\vdots \\\\\n",
    "  y_n y_1 & y_n y_2 & y_n y_3 & \\cdots & y_n y_n\n",
    "\\end{bmatrix}\n",
    "\n",
    "Thus, our derivative of softmax is the difference of these two: $M1 - M2$. \n",
    "\n",
    "In code, this is how it will look like\n",
    "\n",
    "```python\n",
    "def _softmax(logits):\n",
    "    \"\"\"\n",
    "    Softmax function (different from sigmoid)\n",
    "    logits: un-normalized scores Nsamples, Nclasses\n",
    "    \"\"\"\n",
    "    logits = np.clip(logits, -10, 10) # we clip the input to avoid unstabilities\n",
    "    exp_logits = np.exp(logits - logits.max(axis=0, keepdims=True))\n",
    "    return exp_logits / (np.sum(exp_logits, axis=1, keepdims=True) + self.eps)\n",
    "\n",
    "\n",
    "def _softmax_derivative(self, softmax_output):\n",
    "    \"\"\"\n",
    "    Computes derivative of a softmax function.\n",
    "    Note that softmax derivative is different where numerator and denominator match and where they don't\n",
    "    \"\"\"\n",
    "    nclasses = softmax_output.shape[1]\n",
    "    # M1 in the description \n",
    "    M1 = softmax_output[:, :, np.newaxis] * np.eye(nclasses)\n",
    "    # M2 in the description\n",
    "    M2 = softmax_output[:, np.newaxis, :] * softmax_output[:, :, np.newaxis]\n",
    "    derivative = M1 - M2\n",
    "    return derivative\n",
    "```\n",
    "\n",
    "### **Q: What are the limitations of softmax function?** <a class=\"anchor\" id=\"q8\"></a>\n",
    "\n",
    "* Outlier sensitivity: <br>\n",
    "The softmax function is sensitive to outliers or extreme values in the input vector. If the input values are very large or very small, the exponentiation step in the softmax function can lead to numerical instability or overflow. Hence, in the code below, I use clipping to clip the values of the logits. See `_softmax` above.\n",
    "* Class dependence: <br>\n",
    "The probabilities are not independent due to the normalization. Changing one class affects others.\n",
    "* Vanishing gradients: <br>\n",
    "With peaky probabilities near 0 or 1, gradients of softmax can vanish.\n"
   ]
  },
  {
   "cell_type": "markdown",
   "id": "0ad0eaab-5058-4f5f-9a6a-6ce9bcd4bae8",
   "metadata": {
    "tags": []
   },
   "source": []
  },
  {
   "cell_type": "markdown",
   "id": "0f0acfbe-781d-4654-834d-637590d9d566",
   "metadata": {},
   "source": [
    "## 5.3. Data Preparation <a class=\"anchor\" id=\"4.3\"></a>\n",
    "\n",
    "\n",
    "We will run this on the **Iris dataset**."
   ]
  },
  {
   "cell_type": "code",
   "execution_count": 126,
   "id": "4c8f4744-a23b-45c0-abf5-139b3fca8a71",
   "metadata": {
    "tags": []
   },
   "outputs": [],
   "source": [
    "rootpath = \"../../\""
   ]
  },
  {
   "cell_type": "code",
   "execution_count": 127,
   "id": "fadc0b5e-0fe2-45e2-88d6-f936be61f082",
   "metadata": {
    "tags": []
   },
   "outputs": [
    {
     "name": "stdout",
     "output_type": "stream",
     "text": [
      "Total samples: 150\n",
      "Total features: 5\n",
      "Features: ['sepal_length', 'sepal_width', 'petal_length', 'petal_width', 'species']\n"
     ]
    },
    {
     "data": {
      "text/plain": [
       "species\n",
       "setosa        50\n",
       "versicolor    50\n",
       "virginica     50\n",
       "Name: count, dtype: int64"
      ]
     },
     "execution_count": 127,
     "metadata": {},
     "output_type": "execute_result"
    }
   ],
   "source": [
    "csvpath = os.path.join(rootpath, \"assets/iris.csv\")\n",
    "df = pd.read_csv(csvpath)\n",
    "num_samples, num_feats = df.shape\n",
    "print(f\"Total samples: {num_samples}\")\n",
    "print(f\"Total features: {num_feats}\")\n",
    "feat_names = list(df)\n",
    "print(f\"Features: {feat_names}\")\n",
    "\n",
    "## Count the frequency\n",
    "df.species.value_counts()"
   ]
  },
  {
   "cell_type": "code",
   "execution_count": 128,
   "id": "faedfe2c-1801-4d5d-9f07-a7e49e70a3f7",
   "metadata": {
    "tags": []
   },
   "outputs": [],
   "source": [
    "# Create a unique string-->int label map\n",
    "\n",
    "\n",
    "unique_labels = np.unique(df.species.to_numpy())\n",
    "label_dict = {label: index for index, label in enumerate(unique_labels)}\n"
   ]
  },
  {
   "cell_type": "code",
   "execution_count": 129,
   "id": "0ffee108-b396-4871-b604-db1f895230d7",
   "metadata": {
    "tags": []
   },
   "outputs": [
    {
     "data": {
      "text/plain": [
       "((120, 5), (30, 5))"
      ]
     },
     "execution_count": 129,
     "metadata": {},
     "output_type": "execute_result"
    }
   ],
   "source": [
    "random_state = 42 # this is the answer. But what is the question?\n",
    "df_random = df.sample(frac=1, random_state=random_state)\n",
    "\n",
    "dftrain = df_random[0:120]\n",
    "dftest = df_random[120:]\n",
    "dftrain.shape, dftest.shape"
   ]
  },
  {
   "cell_type": "code",
   "execution_count": 130,
   "id": "27186b9e-b2b8-4f4e-875d-d3549ed309a4",
   "metadata": {
    "tags": []
   },
   "outputs": [],
   "source": [
    "# Create Train and Test Split\n",
    "\n",
    "X_train = dftrain.drop([\"species\"], axis=1).to_numpy()\n",
    "Y_train = np.array([label_dict[x] for x in dftrain[\"species\"].to_numpy()])\n",
    "X_test = dftest.drop([\"species\"], axis=1).to_numpy()\n",
    "Y_test = np.array([label_dict[x] for x in dftest[\"species\"].to_numpy()])"
   ]
  },
  {
   "cell_type": "markdown",
   "id": "6ed61b69-6855-4be9-a7ae-9ee99673cbf8",
   "metadata": {},
   "source": [
    "## 5.4. Code <a class=\"anchor\" id=\"4.4\"></a>\n"
   ]
  },
  {
   "cell_type": "code",
   "execution_count": 131,
   "id": "7aea2847-73b1-4015-bbc3-37da24a277d9",
   "metadata": {
    "tags": []
   },
   "outputs": [],
   "source": [
    "np.random.seed(42)"
   ]
  },
  {
   "cell_type": "code",
   "execution_count": 132,
   "id": "5fc6acce-082e-4a62-a7b2-ec470bc891d2",
   "metadata": {},
   "outputs": [],
   "source": [
    "class MultiClassLogisticRegression:\n",
    "    \n",
    "    def __init__(self, nclasses, lr=1e-4, niter=10000, lambda_reg=0.0):\n",
    "        self.nclasses = nclasses\n",
    "        self.lr = lr\n",
    "        self.niter = niter\n",
    "        self.lambda_reg = lambda_reg\n",
    "        self.nfeatures = None\n",
    "        self.weights = None\n",
    "        self.bias = None\n",
    "        self.eps = 1e-8\n",
    "        self.loss_history = None\n",
    "        \n",
    "    def fit(self, X_, Y_, init_wt='glorot', verbose=False):\n",
    "        X = deepcopy(X_)\n",
    "        Y = deepcopy(Y_)\n",
    "        self.nsamples, self.nfeatures = X.shape\n",
    "        if init_wt == 'random':\n",
    "            self.weights = np.random.rand(self.nfeatures, self.nclasses)\n",
    "        elif init_wt == 'xavier':\n",
    "            self.weights = self.xavier_init(X.shape, (self.nfeatures, self.nclasses))\n",
    "        elif init_wt == 'glorot':\n",
    "            self.weights = self.glorot_init((self.nfeatures, self.nclasses))\n",
    "        else:\n",
    "            raise ValueError(\"Invalid initialization given for weights\")\n",
    "\n",
    "        # self.weights = self.weights.flatten()\n",
    "        self.bias = np.zeros(self.nclasses)\n",
    "        self.loss_history = []\n",
    "        X = self._normalize_data(X)\n",
    "        for i in range(self.niter):\n",
    "            dataset = np.hstack([X, Y.reshape(-1, 1)])\n",
    "            np.random.shuffle(dataset)\n",
    "            X, Y = dataset[:, :-1], dataset[:, -1].astype(int)            \n",
    "            ypred = self._forward_pass(X)\n",
    "            loss = self._mceloss(ypred, Y)\n",
    "            self.loss_history.append(loss)\n",
    "            if verbose:\n",
    "                if i % 500 == 0:   \n",
    "                    print(f\"iter: {i+1} --> Loss: {loss}\")\n",
    "            self._update_weights(X, Y, ypred)\n",
    "        return self.loss_history\n",
    "       \n",
    "    \n",
    "    def predict(self, Xtest, Ytest):\n",
    "        Xtest = self._normalize_data(Xtest)\n",
    "        Yprob = self._forward_pass(Xtest)\n",
    "        Ypred = np.argmax(Yprob, axis=1)\n",
    "        return Ypred\n",
    "    \n",
    "    def _mceloss(self, yprob, ytrue):\n",
    "        \"\"\"\n",
    "        Multiclass cross-entropy loss\n",
    "        \"\"\"\n",
    "        assert len(yprob) == len(ytrue) and len(yprob) > 0\n",
    "        yprob = np.clip(yprob, self.eps, 1 - self.eps)\n",
    "        yt_one_hot = np.eye(self.nclasses)[ytrue]  # we convert the Ytrue to one hot for convenience\n",
    "        loss = -np.sum(yt_one_hot * np.log(yprob)) / self.nsamples \n",
    "        # L2- reg\n",
    "        reg = (self.lambda_reg/2) * np.sum(self.weights ** 2)\n",
    "        return loss  + reg     \n",
    "    \n",
    "    def _forward_pass(self, X):\n",
    "        H = np.dot(X, self.weights) + self.bias\n",
    "        # Clip predicted probabilities to prevent overflow\n",
    "        yprob = np.clip(self._softmax(H), self.eps, 1 - self.eps)\n",
    "        return yprob\n",
    "        \n",
    "    \n",
    "    def _update_weights(self, X, Yt, Yp):\n",
    "        # dLoss/dY = (Yt==c) / Yp\n",
    "        # dY/dH_i = softmax_i * (1 - softmax_i)\n",
    "        # dY/dH_j = -softmax_i * softmax_j for i not equal to j\n",
    "        # dH/dW = X\n",
    "        # dH/dB = 1\n",
    "        dW = np.zeros_like(self.weights)           # Nfeats, Nclasses\n",
    "        dB = np.zeros_like(self.bias)              # Nclasses\n",
    "        dY_dsoftmax = self._softmax_derivative(Yp) # Nsamples, Nclasses, Nclasses\n",
    "        dsoftmax_dw = X                            # Nsamples, Nfeats\n",
    "        \n",
    "        # Calculate gradient for each class\n",
    "        # we will take each class one by one. \n",
    "        # We will \n",
    "        for c in range(self.nclasses):\n",
    "            mask = (Yt==c)\n",
    "            dLoss_dy = -(mask / (Yp[:, c] + self.eps)) / self.nsamples\n",
    "            \n",
    "            # MISTAKE to avoid: Don't sum it up as below\n",
    "            # The loss needs to be cascaded to each parameter whic contributed to it.\n",
    "            # dLoss_dy = np.sum(dLoss_dy) / self.nsamples\n",
    "            z = np.dot(dsoftmax_dw.T, (dLoss_dy[:, np.newaxis] * dY_dsoftmax[:, :, c]))  # Nfeats, Nclasses\n",
    "            dW += z\n",
    "            dB += np.sum(dLoss_dy[:, np.newaxis] * dY_dsoftmax[:, :, c]) \n",
    "        \n",
    "        dW /= self.nclasses\n",
    "        dB /= self.nclasses\n",
    "        \n",
    "        # Regularization and weights update\n",
    "        dW += self.lambda_reg * self.weights\n",
    "        self.weights -= self.lr * dW  \n",
    "        # Bias update\n",
    "        self.bias -= self.lr * dB\n",
    "\n",
    "        \n",
    "    def _softmax(self, logits):\n",
    "        \"\"\"\n",
    "        Softmax function (different from sigmoid)\n",
    "        logits: un-normalized scores Nsamples, Nclasses\n",
    "        \"\"\"\n",
    "        logits = np.clip(logits, -10, 10) # we clip the input to avoid unstabilities\n",
    "        exp_logits = np.exp(logits - logits.max(axis=0, keepdims=True))\n",
    "        return exp_logits / (np.sum(exp_logits, axis=1, keepdims=True) + self.eps)\n",
    "    \n",
    "    \n",
    "    def _softmax_derivative(self, softmax_output):\n",
    "        \"\"\"\n",
    "        Computes derivative of a softmax function.\n",
    "        Note that softmax derivative is different where numerator and denominator match and where they don't\n",
    "        \"\"\"\n",
    "        # M1 in the description \n",
    "        M1 = softmax_output[:, :, np.newaxis] * np.eye(self.nclasses)\n",
    "        M2 = softmax_output[:, np.newaxis, :] * softmax_output[:, :, np.newaxis]\n",
    "        \n",
    "        derivative = M1 - M2\n",
    "        return derivative\n",
    "\n",
    "# #       NOTE: I tried using the below written for loop implementation, but it would give me gradients to the oder of 10^-9. \n",
    "# #               It is not numerically stable. Hence, use the vectorized form\n",
    "# #         \n",
    "# #         for i in range(self.nclasses):\n",
    "# #             for j in range(self.nclasses):\n",
    "# #                 if i == j:\n",
    "# #                     dsoftmax[:, i] += softmax_output[:, i] * (1 - softmax_output[:, i])\n",
    "# #                 else:\n",
    "# #                     dsoftmax[:, i] -= softmax_output[:, j] * softmax_output[:, i]\n",
    "# #\n",
    "# #         return dsoftmax\n",
    "\n",
    "    def glorot_init(self, weights_shape):\n",
    "        fan_in, fan_out = weights_shape[0], weights_shape[1]\n",
    "        limit = np.sqrt(6 / (fan_in + fan_out))\n",
    "        weights = np.random.uniform(-limit, limit, weights_shape)\n",
    "        return weights\n",
    "    \n",
    "    def xavier_init(self, input_shape, output_shape):\n",
    "        \"\"\"\n",
    "        Xavier initialization for weights in a linear layer\n",
    "        input_shape: tuple, shape of input to layer\n",
    "        output_shape: tuple, shape of output from layer\n",
    "        return: ndarray, initialized weights for layer\n",
    "        \"\"\"\n",
    "        scale = np.sqrt(2 / (input_shape[0] + output_shape[0]))\n",
    "        return np.random.randn(input_shape[1], output_shape[1]) * scale\n",
    "    \n",
    "    def _normalize_data(self, X):\n",
    "        \"\"\"\n",
    "        Normalizes the data by subtracing the mean and dividing by std.\n",
    "        Note that this doesn't fix the range between -1 to 1. \n",
    "        X: data with shape: (num_samples, num_feats)\n",
    "        \"\"\"\n",
    "        mu = np.mean(X, axis=0, keepdims=True)\n",
    "        std = np.std(X, axis=0, keepdims=True)\n",
    "        Xnew = (X - mu) / (std + self.eps)\n",
    "        return Xnew\n",
    "        "
   ]
  },
  {
   "cell_type": "markdown",
   "id": "3f4edc7c-9c00-4908-a4c1-3c610a27cfd4",
   "metadata": {},
   "source": [
    "**Xavier Init, Lr = 0.01, No regularization**"
   ]
  },
  {
   "cell_type": "code",
   "execution_count": 136,
   "id": "3ecc2c6c-a8fa-4c81-82ed-cc347a275160",
   "metadata": {
    "tags": []
   },
   "outputs": [
    {
     "name": "stdout",
     "output_type": "stream",
     "text": [
      "----------- Testing.... ----------\n",
      "Accuracy: 93.33%\n"
     ]
    },
    {
     "data": {
      "image/png": "[encoded data removed]",
      "text/plain": [
       "<Figure size 640x480 with 1 Axes>"
      ]
     },
     "metadata": {},
     "output_type": "display_data"
    }
   ],
   "source": [
    "# No regularization -- with xavier initialization\n",
    "\n",
    "mlr = MultiClassLogisticRegression(nclasses=3, lr=1e-2, niter=20000, lambda_reg=0.)\n",
    "loss = mlr.fit(X_train, Y_train, init_wt='xavier', verbose=False)\n",
    "Ypred = mlr.predict(X_test, Y_test)\n",
    "plt.plot(loss)\n",
    "\n",
    "print(\"----------- Testing.... ----------\")\n",
    "acc = np.sum(Ypred == Y_test) / len(Y_test)\n",
    "print(f\"Accuracy: {np.round(acc, 4)* 100}%\")"
   ]
  },
  {
   "cell_type": "markdown",
   "id": "2c4b2c49-5421-4252-b959-231be22366e0",
   "metadata": {
    "tags": []
   },
   "source": [
    "**Glorot Init, Lr = 0.01, No regularization**\n",
    "\n",
    "As we can see, Both xavier and glorot give about the same performance"
   ]
  },
  {
   "cell_type": "code",
   "execution_count": 137,
   "id": "17edc15d-5dd3-4540-8fe8-79eabef1c670",
   "metadata": {
    "tags": []
   },
   "outputs": [
    {
     "name": "stdout",
     "output_type": "stream",
     "text": [
      "----------- Testing.... ----------\n",
      "Accuracy: 93.33%\n"
     ]
    },
    {
     "data": {
      "image/png": "[encoded data removed]",
      "text/plain": [
       "<Figure size 640x480 with 1 Axes>"
      ]
     },
     "metadata": {},
     "output_type": "display_data"
    }
   ],
   "source": [
    "# No regularization -- with glorot initialization\n",
    "\n",
    "mlr = MultiClassLogisticRegression(nclasses=3, lr=1e-2, niter=20000, lambda_reg=0.)\n",
    "loss = mlr.fit(X_train, Y_train, init_wt='glorot', verbose=False)\n",
    "Ypred = mlr.predict(X_test, Y_test)\n",
    "plt.plot(loss)\n",
    "\n",
    "print(\"----------- Testing.... ----------\")\n",
    "acc = np.sum(Ypred == Y_test) / len(Y_test)\n",
    "print(f\"Accuracy: {np.round(acc, 4)* 100}%\")"
   ]
  },
  {
   "cell_type": "markdown",
   "id": "89c18d06-c701-4615-8a4a-49d45ff42916",
   "metadata": {},
   "source": [
    "**If we reduce learning rate, the curve becomes smoother, but the learning decreases**"
   ]
  },
  {
   "cell_type": "code",
   "execution_count": 122,
   "id": "91010ed7-a973-4140-8263-56900ef0d5fc",
   "metadata": {
    "tags": []
   },
   "outputs": [
    {
     "name": "stdout",
     "output_type": "stream",
     "text": [
      "----------- Testing.... ----------\n",
      "Accuracy: 70.0%\n"
     ]
    },
    {
     "data": {
      "image/png": "[encoded data removed]",
      "text/plain": [
       "<Figure size 640x480 with 1 Axes>"
      ]
     },
     "metadata": {},
     "output_type": "display_data"
    }
   ],
   "source": [
    "# No regularization -- with glorot initialization\n",
    "\n",
    "mlr = MultiClassLogisticRegression(nclasses=3, lr=1e-3, niter=20000, lambda_reg=0.)\n",
    "loss = mlr.fit(X_train, Y_train, init_wt='glorot', verbose=False)\n",
    "Ypred = mlr.predict(X_test, Y_test)\n",
    "plt.plot(loss)\n",
    "\n",
    "print(\"----------- Testing.... ----------\")\n",
    "acc = np.sum(Ypred == Y_test) / len(Y_test)\n",
    "print(f\"Accuracy: {np.round(acc, 4)* 100}%\")"
   ]
  },
  {
   "cell_type": "markdown",
   "id": "caebb3c6-fcf7-452b-bb30-0a984ef6e989",
   "metadata": {},
   "source": [
    "***"
   ]
  },
  {
   "cell_type": "markdown",
   "id": "b06eedc7-e517-4da7-8762-6a5b34328413",
   "metadata": {
    "tags": []
   },
   "source": [
    "# 6. More questions <a class=\"anchor\" id=\"5\"></a>\n",
    "\n"
   ]
  },
  {
   "cell_type": "markdown",
   "id": "b528342b-beb3-4a99-9568-80fa236f3912",
   "metadata": {
    "tags": []
   },
   "source": [
    "### **Q: What are some limitations of logistic regression?** <a class=\"anchor\" id=\"q9\"></a>\n",
    "\n",
    "* Non-linear relationships: <br>\n",
    "If the relationship is highly non-linear, logistic regression may not capture it effectively. Some non-linearity can be modeled.\n",
    "\n",
    "* Non-linear decision boundaries: <br>\n",
    "Logistic regression assumes linear decision boundaries between classes. If the classes are not linearly separable like in the image below where we see there's an overlap in 1-D data or if the decision boundaries are highly complex, we need some other model like Decision trees, Neural nets etc.\n",
    "\n",
    "<img src=\"../../assets/1d_overlapdata.jpg\" width=400> <img src=\"../../assets/unseparable_data.png\" width=400>\n",
    "\n",
    "* Complex feature interactions: <br>\n",
    "Logistic regression assumes that the effect of each predictor on the target variable is independent of other predictors. But if the features are highly correlated, Logistic regression may have problems.\n",
    "\n",
    "* High dimensional features: <br>\n",
    "If the number of features in the dataset are high, Logistic regression fails.\n",
    "\n",
    "* Categorical features: <br>\n",
    "Logistic regression assumes features are numerical. It cannot directly handle categorical features like one-hot encodings. \n",
    "\n",
    "* Structured/sequence data :<br> \n",
    "Cannot naturally handle sequence, structured data like graph, text or genomic data. Requires embedding into fixed features. Can be used with other modifications."
   ]
  },
  {
   "cell_type": "markdown",
   "id": "977974e1-30f2-4e4b-9156-3396e9c6bcb3",
   "metadata": {},
   "source": [
    "### **Q: What are some assumptions we make when we use Logistic regression?** <a class=\"anchor\" id=\"q10\"></a>\n",
    "\n",
    "* Linear relationship: <br>\n",
    "There is a linear relationship between the logits and the predictor variables.\n",
    "\n",
    "* Non correlated inpute features : <br>\n",
    "The predictor variables are not too highly correlated with each other. Multicollinearity can cause coefficient estimates to swing wildly.\n",
    "\n",
    "* No significant outliers: <br>\n",
    "There are no significant outlier data points that can skew the fitted model. LR will be influenced by the outliers.\n",
    "\n",
    "* Large sample size: <br> \n",
    "Logistic regression requires a large sample size, generally at least 10 cases per predictor variable in the model.\n",
    "\n",
    "* Independent errors: <br> \n",
    "Derivative of non correlated input features. The errors or residuals of the model should be uncorrelated and independent.\n",
    "\n",
    "* Non-zero variance: <br>\n",
    "The predictor variables show some variation and are not constants or nearly constant. That's why its a good idea to do preprocessing and remove such features.\n",
    "\n"
   ]
  },
  {
   "cell_type": "code",
   "execution_count": 156,
   "id": "1b5942b1-18d3-464a-ac52-6295aa40b31b",
   "metadata": {
    "tags": []
   },
   "outputs": [
    {
     "data": {
      "image/png": "[encoded data removed]",
      "text/plain": [
       "<Figure size 640x480 with 1 Axes>"
      ]
     },
     "metadata": {},
     "output_type": "display_data"
    }
   ],
   "source": [
    "import matplotlib.pyplot as plt\n",
    "\n",
    "# Generate example data\n",
    "class_0_data = np.random.uniform(0, .7, (20,))\n",
    "class_1_data = np.random.uniform(0.4, 1, (20,))\n",
    "\n",
    "# Plot the data\n",
    "plt.scatter(class_0_data, [0] * len(class_0_data), color='red', label='Class 0')\n",
    "plt.scatter(class_1_data, [0] * len(class_1_data), color='blue', label='Class 1')\n",
    "\n",
    "# Set plot properties\n",
    "plt.xlabel('X')\n",
    "plt.ylabel('Class')\n",
    "plt.title('There is no linear boundary to separate the data into two labels')\n",
    "plt.legend()\n",
    "\n",
    "# Display the plot\n",
    "plt.show()\n"
   ]
  },
  {
   "cell_type": "code",
   "execution_count": null,
   "id": "cf6aafc1-c794-4c1f-ad94-c7e0f057fdc3",
   "metadata": {},
   "outputs": [],
   "source": []
  }
 ],
 "metadata": {
  "kernelspec": {
   "display_name": "Python 3 (ipykernel)",
   "language": "python",
   "name": "python3"
  },
  "language_info": {
   "codemirror_mode": {
    "name": "ipython",
    "version": 3
   },
   "file_extension": ".py",
   "mimetype": "text/x-python",
   "name": "python",
   "nbconvert_exporter": "python",
   "pygments_lexer": "ipython3",
   "version": "3.8.17"
  },
  "toc-autonumbering": true,
  "toc-showmarkdowntxt": false
 },
 "nbformat": 4,
 "nbformat_minor": 5
}
