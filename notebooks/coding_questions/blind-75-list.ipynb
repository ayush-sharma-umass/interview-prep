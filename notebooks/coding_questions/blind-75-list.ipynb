{
 "cells": [
  {
   "cell_type": "code",
   "execution_count": 1,
   "id": "b0cd4ccc-d07f-4b4b-9553-3c9a0533784f",
   "metadata": {
    "tags": []
   },
   "outputs": [],
   "source": [
    "from collections import deque\n",
    "from queue import Queue\n",
    "import heapq\n",
    "from collections import Counter\n",
    "from typing import List, Dict, Union, Optional"
   ]
  },
  {
   "cell_type": "markdown",
   "id": "1a78e907-12a2-413c-90d6-06849bb98696",
   "metadata": {
    "tags": [],
    "toc-hr-collapsed": true
   },
   "source": [
    "# Concept 1: Arrays"
   ]
  },
  {
   "cell_type": "markdown",
   "id": "eabf4171-821f-44b6-a7e6-9957e3eebc27",
   "metadata": {
    "tags": []
   },
   "source": [
    "## 1. Two Sum\n",
    "\n",
    "[Question Link](https://leetcode.com/problems/two-sum/description/)"
   ]
  },
  {
   "cell_type": "markdown",
   "id": "728f2c87-5660-447d-9bee-ecc2373368f9",
   "metadata": {},
   "source": [
    "Given an array of integers nums and an integer target, return indices of the two numbers such that they add up to target.\n",
    "\n",
    "You may assume that each input would have exactly one solution, and you may not use the same element twice.\n",
    "\n",
    "You can return the answer in any order.\n",
    "\n",
    " \n",
    "\n",
    "Example 1:\n",
    "\n",
    "Input: nums = [2,7,11,15], target = 9\n",
    "Output: [0,1]\n",
    "Explanation: Because nums[0] + nums[1] == 9, we return [0, 1].\n",
    "Example 2:\n",
    "\n",
    "Input: nums = [3,2,4], target = 6\n",
    "Output: [1,2]\n",
    "Example 3:\n",
    "\n",
    "Input: nums = [3,3], target = 6\n",
    "Output: [0,1]\n",
    " \n",
    "\n",
    "Constraints:\n",
    "\n",
    "2 <= nums.length <= 104\n",
    "-109 <= nums[i] <= 109\n",
    "-109 <= target <= 109\n",
    "Only one valid answer exists."
   ]
  },
  {
   "cell_type": "markdown",
   "id": "7857e5b7-8ff9-4e65-88b6-357fc43922ec",
   "metadata": {},
   "source": [
    "### Approach\n",
    "\n",
    "Keep a map of complement -> index of number"
   ]
  },
  {
   "cell_type": "code",
   "execution_count": 2,
   "id": "2c8fee16-4453-4c89-89b2-4daf4c22ed04",
   "metadata": {
    "tags": []
   },
   "outputs": [],
   "source": [
    "class Solution(object):\n",
    "    def twoSum(self, nums, target):\n",
    "        \"\"\"\n",
    "        :type nums: List[int]\n",
    "        :type target: int\n",
    "        :rtype: List[int]\n",
    "        \"\"\"\n",
    "        map_ = {}\n",
    "        for i in range(len(nums)):\n",
    "            if nums[i] in map_:\n",
    "                return i, map_[nums[i]]\n",
    "            map_[target - nums[i]] = i"
   ]
  },
  {
   "cell_type": "markdown",
   "id": "380d468f-9c3f-4294-92dc-b994b8c60103",
   "metadata": {
    "tags": []
   },
   "source": [
    "## 2. Best Time to Buy and Sell Stock\n",
    "\n",
    "[Question Link](https://leetcode.com/problems/best-time-to-buy-and-sell-stock/)"
   ]
  },
  {
   "cell_type": "markdown",
   "id": "14c30d9f-86c8-4a9c-b3bb-ac09ba001ac6",
   "metadata": {},
   "source": [
    "You are given an array prices where prices[i] is the price of a given stock on the ith day.\n",
    "\n",
    "You want to maximize your profit by choosing a single day to buy one stock and choosing a different day in the future to sell that stock.\n",
    "\n",
    "Return the maximum profit you can achieve from this transaction. If you cannot achieve any profit, return 0.\n",
    "\n",
    " \n",
    "\n",
    "Example 1:\n",
    "\n",
    "Input: prices = [7,1,5,3,6,4] <br>\n",
    "Output: 5 <br>\n",
    "Explanation: Buy on day 2 (price = 1) and sell on day 5 (price = 6), profit = 6-1 = 5. <br>\n",
    "Note that buying on day 2 and selling on day 1 is not allowed because you must buy before you sell. <br>\n",
    "\n",
    "\n",
    "Example 2:\n",
    "\n",
    "Input: prices = [7,6,4,3,1] <br>\n",
    "Output: 0 <br>\n",
    "Explanation: In this case, no transactions are done and the max profit = 0.\n",
    " \n",
    "\n",
    "Constraints:\n",
    "\n",
    "1 <= prices.length <= 105 <br>\n",
    "0 <= prices[i] <= 104"
   ]
  },
  {
   "cell_type": "markdown",
   "id": "f683817d-e4f5-4747-926e-698488f2a8a4",
   "metadata": {},
   "source": [
    "### Approach\n",
    "\n",
    "We want to find the max delta which exists in two numbers A[i] and A[k] in the array where i < k  <br>\n",
    "Maintain a running cache of minimum value found, if any lower value is found thatn this, then your profit compared to previous minimum will be higher."
   ]
  },
  {
   "cell_type": "code",
   "execution_count": 3,
   "id": "568752d4-4163-486f-b811-1d3a34135a5c",
   "metadata": {
    "tags": []
   },
   "outputs": [],
   "source": [
    "class Solution(object):\n",
    "    def maxProfit(self, prices):\n",
    "        \"\"\"\n",
    "        :type prices: List[int]\n",
    "        :rtype: int\n",
    "        \"\"\"\n",
    "        minval = prices[0]\n",
    "        bestprofit = 0\n",
    "        for x in prices:\n",
    "            if x - minval > bestprofit:\n",
    "                bestprofit = x - minval\n",
    "            if x < minval:\n",
    "                minval = x\n",
    "\n",
    "        return bestprofit"
   ]
  },
  {
   "cell_type": "markdown",
   "id": "ec4a0c71-2a87-4428-9cf1-c2005de018fb",
   "metadata": {},
   "source": [
    "## 3. Contains Duplicate\n",
    "\n",
    "[Question Link](https://leetcode.com/problems/contains-duplicate/)\n",
    "\n",
    "Tags: Easy, "
   ]
  },
  {
   "cell_type": "markdown",
   "id": "97039a00-b780-4fbf-982a-114a8d0c4a9c",
   "metadata": {},
   "source": [
    "Given an integer array nums, return true if any value appears at least twice in the array, and return false if every element is distinct.\n",
    "\n",
    " \n",
    "\n",
    "Example 1:\n",
    "\n",
    "Input: nums = [1,2,3,1] <br>\n",
    "Output: true <br>\n",
    "\n",
    "\n",
    "Example 2:\n",
    "\n",
    "Input: nums = [1,2,3,4] <br>\n",
    "Output: false <br>\n",
    "Example 3: <br>\n",
    "\n",
    "Input: nums = [1,1,1,3,3,4,3,2,4,2] <br>\n",
    "Output: true\n",
    " \n",
    "\n",
    "Constraints:\n",
    "\n",
    "1 <= nums.length <= 105 <br>\n",
    "-109 <= nums[i] <= 109"
   ]
  },
  {
   "cell_type": "markdown",
   "id": "db6ee96b-0999-4420-bb08-621b846518ba",
   "metadata": {},
   "source": [
    "### Approach\n",
    "\n",
    "Maintain a set of unique values, if a collission occurs, it is the duplicate value"
   ]
  },
  {
   "cell_type": "code",
   "execution_count": 4,
   "id": "1395102a-8c49-4090-8b8e-e494c21c103b",
   "metadata": {
    "tags": []
   },
   "outputs": [],
   "source": [
    "class Solution(object):\n",
    "    def containsDuplicate(self, nums):\n",
    "        \"\"\"\n",
    "        :type nums: List[int]\n",
    "        :rtype: bool\n",
    "        \"\"\"\n",
    "        S = set()\n",
    "        for i in range(0, len(nums)):\n",
    "            if nums[i] in S:\n",
    "                return True\n",
    "            else: \n",
    "                S.add(nums[i])\n",
    "        return False"
   ]
  },
  {
   "cell_type": "markdown",
   "id": "731f198e-042f-4006-857f-6f83ffba51c0",
   "metadata": {},
   "source": [
    "## 4. Product of array except self\n",
    "\n",
    "[Question Link](https://leetcode.com/problems/product-of-array-except-self/)"
   ]
  },
  {
   "cell_type": "markdown",
   "id": "373e7c4a-629a-4a87-8b23-5b82e6755164",
   "metadata": {},
   "source": [
    "Given an integer array nums, return an array answer such that answer[i] is equal to the product of all the elements of nums except nums[i].\n",
    "\n",
    "The product of any prefix or suffix of nums is guaranteed to fit in a 32-bit integer.\n",
    "\n",
    "You must write an algorithm that runs in O(n) time and without using the division operation.\n",
    "\n",
    " \n",
    "\n",
    "Example 1:\n",
    "\n",
    "Input: nums = [1,2,3,4] <br>\n",
    "Output: [24,12,8,6] <br>\n",
    "\n",
    "Example 2:\n",
    "\n",
    "Input: nums = [-1,1,0,-3,3] <br>\n",
    "Output: [0,0,9,0,0] <br>\n",
    " \n",
    "\n",
    "Constraints:\n",
    "\n",
    "2 <= nums.length <= 105 <br>\n",
    "-30 <= nums[i] <= 30 <br>\n",
    "The product of any prefix or suffix of nums is guaranteed to fit in a 32-bit integer. <br>\n",
    " \n",
    "\n",
    "Follow up: Can you solve the problem in O(1) extra space complexity? (The output array does not count as extra space for space complexity analysis.)"
   ]
  },
  {
   "cell_type": "markdown",
   "id": "061381cb-1995-4f03-b7d1-b549e85b2c3c",
   "metadata": {},
   "source": [
    "### Approach\n",
    "\n",
    "Pre-compute two arrays `PreProd[i]` which stores product of all numbers before the ith element of array <br>\n",
    "and `PostProd[i]` which stores the product of all numbers after the ith element of the array. <br>\n",
    "The answer that you need is `PreProd[i] * PostProd[i]` for element i."
   ]
  },
  {
   "cell_type": "code",
   "execution_count": 5,
   "id": "e34f8b6a-8144-4d95-b50e-58f9241f325d",
   "metadata": {
    "tags": []
   },
   "outputs": [],
   "source": [
    "class Solution(object):\n",
    "\n",
    "    def __init__(self):\n",
    "        self.prod = None\n",
    "\n",
    "\n",
    "    def productExceptSelf(self, nums):\n",
    "        \"\"\"\n",
    "        :type nums: List[int]\n",
    "        :rtype: List[int]\n",
    "        \"\"\"\n",
    "        prod_pre = {}\n",
    "        prod_pre[-1] = 1\n",
    "        N = len(nums)\n",
    "        for i in range(N):\n",
    "            prod_pre[i] = prod_pre[i-1] * nums[i]\n",
    "        \n",
    "        prod_post = {}\n",
    "        prod_post[N] = 1\n",
    "        for i in range(N-1, -1, -1):\n",
    "            prod_post[i] = prod_post[i+1] * nums[i]\n",
    "        \n",
    "        answers = [0] * N\n",
    "        for i in range(N):\n",
    "            answers[i] = prod_pre[i-1] * prod_post[i+1]\n",
    "        return answers"
   ]
  },
  {
   "cell_type": "markdown",
   "id": "19899ab3-5c80-4b26-ada4-ca7106df092e",
   "metadata": {},
   "source": [
    "## 5. Maximum Subarray\n",
    "\n",
    "[Question Link](https://leetcode.com/problems/maximum-subarray/)"
   ]
  },
  {
   "cell_type": "markdown",
   "id": "160fb5b1-7686-42a3-904d-404dcc3436a5",
   "metadata": {},
   "source": [
    "Given an integer array nums, find the  subarray with the largest sum, and return its sum.\n",
    "\n",
    " \n",
    "\n",
    "`Example 1:`\n",
    "\n",
    "Input: nums = [-2,1,-3,4,-1,2,1,-5,4] <br>\n",
    "Output: 6 <br>\n",
    "Explanation: The subarray [4,-1,2,1] has the largest sum 6.\n",
    "\n",
    "\n",
    "`Example 2:`\n",
    "\n",
    "Input: nums = [1] <br>\n",
    "Output: 1 <br>\n",
    "Explanation: The subarray [1] has the largest sum 1.\n",
    "\n",
    "\n",
    "`Example 3:`\n",
    "\n",
    "Input: nums = [5,4,-1,7,8] <br>\n",
    "Output: 23 <br>\n",
    "Explanation: The subarray [5,4,-1,7,8] has the largest sum 23.\n",
    " \n",
    "\n",
    "`Constraints:`\n",
    "\n",
    "1 <= nums.length <= 10^5 <br>\n",
    "-104 <= nums[i] <= 10^4 <br>\n",
    " \n",
    "\n",
    "Follow up: If you have figured out the O(n) solution, try coding another solution using the divide and conquer approach, which is more subtle."
   ]
  },
  {
   "cell_type": "markdown",
   "id": "8a0e65e9-7d5b-42c5-bcca-6c7462ba38ef",
   "metadata": {},
   "source": [
    "### Approach\n",
    "\n",
    "Let's say we have an array maxSum[i-1] which stores the maximum subarray sum till index *i-1* <br>\n",
    "Now, when a new element A[i] comes, we want to compute maxSum[i] <br>\n",
    "We can either add it to currentSum or we can choose to just take current value. <br>\n",
    "We make that choice and return the maxSum at the end."
   ]
  },
  {
   "cell_type": "code",
   "execution_count": 6,
   "id": "9085ab6c-7615-40b4-8579-35c8f04f2c73",
   "metadata": {
    "tags": []
   },
   "outputs": [],
   "source": [
    "class Solution(object):\n",
    "    def maxSubArray(self, nums):\n",
    "        \"\"\"\n",
    "        :type nums: List[int]\n",
    "        :rtype: int\n",
    "        \"\"\"\n",
    "\n",
    "        maxSum = nums[0]\n",
    "        curSum = 0\n",
    "        for i, x in enumerate(nums):\n",
    "            curSum = max(curSum + x, x)\n",
    "            maxSum = max(curSum, maxSum)\n",
    "        return maxSum"
   ]
  },
  {
   "cell_type": "markdown",
   "id": "6996d881-acaa-4ceb-9cb7-9a8e62263b15",
   "metadata": {
    "tags": []
   },
   "source": [
    "## 6. Maximum Product Subarray\n",
    "\n",
    "[Question Link](https://leetcode.com/problems/maximum-product-subarray/)"
   ]
  },
  {
   "cell_type": "markdown",
   "id": "ed852fd0-12bd-46c3-a747-5f700da4e218",
   "metadata": {},
   "source": [
    "Given an integer array nums, find a subarray that has the largest product, and return the product.\n",
    "\n",
    "The test cases are generated so that the answer will fit in a 32-bit integer.\n",
    "\n",
    " \n",
    "\n",
    "Example 1:\n",
    "\n",
    "Input: nums = [2,3,-2,4] <br>\n",
    "Output: 6 <br>\n",
    "Explanation: [2,3] has the largest product 6.\n",
    "\n",
    "\n",
    "Example 2:\n",
    "\n",
    "Input: nums = [-2,0,-1] <br>\n",
    "Output: 0 <br>\n",
    "Explanation: The result cannot be 2, because [-2,-1] is not a subarray.\n",
    " \n",
    "\n",
    "Constraints:\n",
    "\n",
    "1 <= nums.length <= 2 * 104 <br>\n",
    "-10 <= nums[i] <= 10 <br>\n",
    "The product of any prefix or suffix of nums is guaranteed to fit in a 32-bit integer."
   ]
  },
  {
   "cell_type": "markdown",
   "id": "60a007b3-a362-43d2-9129-f86e24591f5d",
   "metadata": {},
   "source": [
    "### Approach\n",
    "\n",
    "In product, our min and max can change because of a sign. <br>\n",
    "So, just like abobve problem, we keep track of two values, minimumProduct till current index and max product till current index."
   ]
  },
  {
   "cell_type": "code",
   "execution_count": 7,
   "id": "c8539f9d-be77-40c3-9e06-70d8e7e097a7",
   "metadata": {
    "tags": []
   },
   "outputs": [],
   "source": [
    "class Solution(object):\n",
    "    def maxProduct(self, nums):\n",
    "        \"\"\"\n",
    "        :type nums: List[int]\n",
    "        :rtype: int\n",
    "        \"\"\"\n",
    "        if len(nums) > 0:\n",
    "            min_cur = nums[0]\n",
    "            max_cur = nums[0]\n",
    "            N = len(nums)\n",
    "            result = nums[0]\n",
    "            for i in range(1, N):\n",
    "                x = nums[i]\n",
    "                temp_max  = max(min_cur * x, max_cur * x, x)\n",
    "                min_cur = min(min_cur * x, max_cur * x, x)\n",
    "                max_cur = temp_max\n",
    "\n",
    "                result = max(max_cur, result)\n",
    "\n",
    "            return result"
   ]
  },
  {
   "cell_type": "markdown",
   "id": "88985578-b681-490a-81c7-bd63ffe1d7b7",
   "metadata": {},
   "source": [
    "## 7. Find Minimum in rotated array\n",
    "\n",
    "[Question Link](https://leetcode.com/problems/find-minimum-in-rotated-sorted-array/)"
   ]
  },
  {
   "cell_type": "markdown",
   "id": "8becf3ce-5631-4784-b628-f1f522fb4017",
   "metadata": {
    "tags": []
   },
   "source": [
    "Suppose an array of length n sorted in ascending order is rotated between 1 and n times. \n",
    "\n",
    "For example, the array nums = [0,1,2,4,5,6,7] might become:\n",
    "\n",
    "[4,5,6,7,0,1,2] if it was rotated 4 times. <br>\n",
    "[0,1,2,4,5,6,7] if it was rotated 7 times. <br>\n",
    "Notice that rotating an array [a[0], a[1], a[2], ..., a[n-1]] 1 time results in the array [a[n-1], a[0], a[1], a[2], ..., a[n-2]]. <br>\n",
    "\n",
    "Given the sorted rotated array nums of unique elements, return the minimum element of this array.\n",
    "\n",
    "You must write an algorithm that runs in O(log n) time.\n",
    "\n",
    " \n",
    "\n",
    "Example 1:\n",
    "\n",
    "Input: nums = [3,4,5,1,2] <br>\n",
    "Output: 1 <br>\n",
    "Explanation: The original array was [1,2,3,4,5] rotated 3 times. <br>\n",
    "\n",
    "Example 2:\n",
    "\n",
    "Input: nums = [4,5,6,7,0,1,2] <br>\n",
    "Output: 0 <br>\n",
    "Explanation: The original array was [0,1,2,4,5,6,7] and it was rotated 4 times. <br>\n",
    "\n",
    "Example 3:\n",
    "\n",
    "Input: nums = [11,13,15,17] <br>\n",
    "Output: 11 <br>\n",
    "Explanation: The original array was [11,13,15,17] and it was rotated 4 times. \n",
    " \n",
    "\n",
    "Constraints:\n",
    "\n",
    "n == nums.length <br>\n",
    "1 <= n <= 5000 <br>\n",
    "-5000 <= nums[i] <= 5000 <br>\n",
    "All the integers of nums are unique. <br>\n",
    "nums is sorted and rotated between 1 and n times r"
   ]
  },
  {
   "cell_type": "markdown",
   "id": "5262659d-ad52-4043-bbc5-9d0a2cd11f9d",
   "metadata": {},
   "source": [
    "### Approach\n",
    "\n",
    "The array initially is sorted and looks like this. The inflection point is marked in the array. We will take right side of the graph from thios point and move it to the left.\n",
    "\n",
    "<img src=\"../assets/minimum_in_rotated_array_1.png\" alt=\"What a sorted aray looks like\"> <br>\n",
    "\n",
    "\n",
    "When we rotate array along an inflection point, it looks like this.\n",
    "\n",
    "<img src=\"../assets/minimum_in_rotated_array_2.png\" alt=\"What a sorted rotated aray looks like\"> <br>\n",
    "\n",
    "\n",
    " - If its an inflection point, say index **k**, then both A[k-1] and A[k+1] will be grater than A[k]. This is a characteristic.\n",
    " - If the mid value is greater than lo, then we need to move in direction of mid + 1.\n",
    " - Id the mid value is less than lo value, then it means the low value is in left part of the rotated graph and hi value in right side of rotated graph, hence we should move in direction of mid-1\n"
   ]
  },
  {
   "cell_type": "code",
   "execution_count": 8,
   "id": "3f6b588f-514b-4c38-bd76-2919f471cc83",
   "metadata": {
    "tags": []
   },
   "outputs": [],
   "source": [
    "class Solution(object):\n",
    "    def findMin(self, nums):\n",
    "        \"\"\"\n",
    "        :type nums: List[int]\n",
    "        :rtype: int\n",
    "        \"\"\"\n",
    "        def bs(lo, hi):\n",
    "            while hi >= lo:\n",
    "                mid = (lo + hi) >> 1\n",
    "                if nums[mid] > nums[mid + 1]:\n",
    "                    return nums[mid+1]\n",
    "                if nums[mid-1] > nums[mid]:\n",
    "                    return nums[mid]\n",
    "                \n",
    "                if nums[mid] > nums[lo]:\n",
    "                    lo = mid + 1\n",
    "                else:\n",
    "                    hi = mid - 1\n",
    "\n",
    "        if len(nums) == 1:\n",
    "            return nums[0]\n",
    "        N= len(nums)\n",
    "        if nums[N-1] > nums[0]: # no rotation:\n",
    "            return nums[0]       \n",
    "        return bs(0, N-1)\n",
    "            "
   ]
  },
  {
   "cell_type": "markdown",
   "id": "9584336c-09cb-4083-adbf-5ec196559eb5",
   "metadata": {},
   "source": [
    "## 8. Search in Rotated Sorted array\n",
    "\n",
    "[Question link](https://leetcode.com/problems/search-in-rotated-sorted-array/)"
   ]
  },
  {
   "cell_type": "markdown",
   "id": "9cc86086-71f0-4508-9c71-424caf23c69e",
   "metadata": {},
   "source": [
    "There is an integer array nums sorted in ascending order (with distinct values).\n",
    "\n",
    "Prior to being passed to your function, nums is possibly rotated at an unknown pivot index k (1 <= k < nums.length) such that the resulting array is [nums[k], nums[k+1], ..., nums[n-1], nums[0], nums[1], ..., nums[k-1]] (0-indexed). \n",
    "\n",
    "For example, [0,1,2,4,5,6,7] might be rotated at pivot index 3 and become [4,5,6,7,0,1,2].\n",
    "\n",
    "Given the array nums after the possible rotation and an integer target, return the index of target if it is in nums, or -1 if it is not in nums.\n",
    "\n",
    "You must write an algorithm with O(log n) runtime complexity.\n",
    "\n",
    " \n",
    "\n",
    "Example 1:\n",
    "\n",
    "Input: nums = [4,5,6,7,0,1,2], target = 0 <br>\n",
    "Output: 4 <br>\n",
    "\n",
    "\n",
    "Example 2:\n",
    "\n",
    "Input: nums = [4,5,6,7,0,1,2], target = 3 <br>\n",
    "Output: -1 <br>\n",
    "\n",
    "\n",
    "Example 3:\n",
    "\n",
    "Input: nums = [1], target = 0 <br>\n",
    "Output: -1\n",
    " \n",
    "\n",
    "Constraints:\n",
    "\n",
    "1 <= nums.length <= 5000 <br>\n",
    "-104 <= nums[i] <= 104 <br>\n",
    "All values of nums are unique. <br>\n",
    "nums is an ascending array that is possibly rotated. <br>\n",
    "-104 <= target <= 104 <br>"
   ]
  },
  {
   "cell_type": "markdown",
   "id": "80002a75-d0ec-4fcb-996d-85bf66ac10e3",
   "metadata": {},
   "source": [
    "### Approach\n",
    "\n",
    "Find the index **k** of inflection point, then run normal binary search in A[0... k-1] and A[k+1 .... n-1]"
   ]
  },
  {
   "cell_type": "code",
   "execution_count": 9,
   "id": "65e30158-b493-4996-b072-1689a5ef7009",
   "metadata": {
    "tags": []
   },
   "outputs": [],
   "source": [
    "class Solution(object):\n",
    "    def search(self, nums, target):\n",
    "        \"\"\"\n",
    "        :type nums: List[int]\n",
    "        :type target: int\n",
    "        :rtype: int\n",
    "        \"\"\"\n",
    "        def bs(A, lo, hi, val):\n",
    "            while hi >= lo:\n",
    "                mid = (lo + hi) >> 1\n",
    "                if A[mid] == val:\n",
    "                    return mid\n",
    "                if A[mid] < val:\n",
    "                    lo = mid + 1\n",
    "                else:\n",
    "                    hi = mid - 1\n",
    "            return -1\n",
    "\n",
    "        def find_inflection_point(A, lo, hi):\n",
    "            if A[lo] <= A[hi]:\n",
    "                return A[lo], lo\n",
    "            while hi >= lo:\n",
    "                mid = (lo + hi) >> 1\n",
    "                \n",
    "                if A[mid] > A[mid + 1]:\n",
    "                    return A[mid + 1], mid+1\n",
    "                if A[mid - 1] > A[mid]:\n",
    "                    return A[mid], mid\n",
    "                \n",
    "                if A[mid] > A[lo]:\n",
    "                    lo = mid + 1\n",
    "                else:\n",
    "                    hi = mid - 1\n",
    "\n",
    "        lowest, idx = find_inflection_point(nums, 0, len(nums)- 1)\n",
    "        print(lowest, idx)\n",
    "        ret = bs(nums, 0, idx-1, target)\n",
    "        if ret == -1:\n",
    "            return bs(nums, idx, len(nums) - 1, target)\n",
    "        else: \n",
    "            return ret"
   ]
  },
  {
   "cell_type": "markdown",
   "id": "6dd75b3f-ea38-4b18-85eb-fd50c14a83d1",
   "metadata": {},
   "source": [
    "## 9. 3Sum\n",
    "\n",
    "[Question Link](https://leetcode.com/problems/3sum/)"
   ]
  },
  {
   "cell_type": "raw",
   "id": "bb6f2436-93e9-4214-840e-18ca042e96af",
   "metadata": {},
   "source": [
    "Given an integer array nums, return all the triplets [nums[i], nums[j], nums[k]] such that i != j, i != k, and j != k, and nums[i] + nums[j] + nums[k] == 0.\n",
    "\n",
    "Notice that the solution set must not contain duplicate triplets.\n",
    "\n",
    " \n",
    "\n",
    "Example 1:\n",
    "\n",
    "Input: nums = [-1,0,1,2,-1,-4]\n",
    "Output: [[-1,-1,2],[-1,0,1]]\n",
    "Explanation: \n",
    "nums[0] + nums[1] + nums[2] = (-1) + 0 + 1 = 0.\n",
    "nums[1] + nums[2] + nums[4] = 0 + 1 + (-1) = 0.\n",
    "nums[0] + nums[3] + nums[4] = (-1) + 2 + (-1) = 0.\n",
    "The distinct triplets are [-1,0,1] and [-1,-1,2].\n",
    "Notice that the order of the output and the order of the triplets does not matter.\n",
    "Example 2:\n",
    "\n",
    "Input: nums = [0,1,1]\n",
    "Output: []\n",
    "Explanation: The only possible triplet does not sum up to 0.\n",
    "Example 3:\n",
    "\n",
    "Input: nums = [0,0,0]\n",
    "Output: [[0,0,0]]\n",
    "Explanation: The only possible triplet sums up to 0.\n",
    " \n",
    "\n",
    "Constraints:\n",
    "\n",
    "3 <= nums.length <= 3000\n",
    "-105 <= nums[i] <= 105"
   ]
  },
  {
   "cell_type": "markdown",
   "id": "a305ed71-65c5-48c2-a118-85682b9fc532",
   "metadata": {},
   "source": [
    "### Approach"
   ]
  },
  {
   "cell_type": "code",
   "execution_count": 10,
   "id": "7f54c8c7-ae03-4a8e-97e8-4967e0d9c241",
   "metadata": {
    "tags": []
   },
   "outputs": [],
   "source": [
    "class Solution(object):\n",
    "    def threeSum(self, nums):\n",
    "        \"\"\"\n",
    "        :type nums: List[int]\n",
    "        :rtype: List[List[int]]\n",
    "        \"\"\"\n",
    "        A = nums\n",
    "        seen = {}\n",
    "        dups = set()\n",
    "        target = 0\n",
    "        solutions = set()\n",
    "        for i, x in enumerate(A):\n",
    "            if x not in dups:\n",
    "                dups.add(x)\n",
    "            for j, y in enumerate(A[i+1:]):\n",
    "                complement = target - x - y\n",
    "                if complement in seen and seen[complement] == i:\n",
    "                    tup = sorted((x,y,complement))\n",
    "                    solutions.add(tuple(tup))\n",
    "                \n",
    "                seen[y] = i\n",
    "\n",
    "        return solutions\n"
   ]
  },
  {
   "cell_type": "markdown",
   "id": "cc14a471-1f25-4d3d-8d36-e248f0cf3885",
   "metadata": {},
   "source": [
    "## 10. Container with most water\n",
    "\n",
    "[Question Link](https://leetcode.com/problems/container-with-most-water/)"
   ]
  },
  {
   "cell_type": "raw",
   "id": "2a98e012-9a09-4469-b172-c311c002c14b",
   "metadata": {},
   "source": [
    "You are given an integer array height of length n. There are n vertical lines drawn such that the two endpoints of the ith line are (i, 0) and (i, height[i]).\n",
    "\n",
    "Find two lines that together with the x-axis form a container, such that the container contains the most water.\n",
    "\n",
    "Return the maximum amount of water a container can store.\n",
    "\n",
    "Notice that you may not slant the container.\n",
    "\n",
    " \n",
    "\n",
    "Example 1:\n",
    "\n",
    "\n",
    "Input: height = [1,8,6,2,5,4,8,3,7]\n",
    "Output: 49\n",
    "Explanation: The above vertical lines are represented by array [1,8,6,2,5,4,8,3,7]. In this case, the max area of water (blue section) the container can contain is 49.\n",
    "Example 2:\n",
    "\n",
    "Input: height = [1,1]\n",
    "Output: 1\n",
    " \n",
    "\n",
    "Constraints:\n",
    "\n",
    "n == height.length\n",
    "2 <= n <= 105\n",
    "0 <= height[i] <= 104"
   ]
  },
  {
   "cell_type": "markdown",
   "id": "a2d23b77-e5dc-4d9f-bf09-d0d44f273c8f",
   "metadata": {},
   "source": [
    "### Approach"
   ]
  },
  {
   "cell_type": "code",
   "execution_count": 11,
   "id": "4dfbc849-5830-412e-9b8b-81aa8474fd90",
   "metadata": {
    "tags": []
   },
   "outputs": [],
   "source": [
    "class Solution(object):\n",
    "    def maxArea(self, height):\n",
    "        \"\"\"\n",
    "        :type height: List[int]\n",
    "        :rtype: int\n",
    "        \"\"\"\n",
    "        N = len(height)\n",
    "        left = 0\n",
    "        right = N -1 \n",
    "        max_water = -float('inf')\n",
    "        while left < right:\n",
    "            max_water = max  (max_water, \n",
    "                                (right - left) * min(height[left], height[right])\n",
    "                                )\n",
    "            if height[left] <= height[right]:\n",
    "                left += 1\n",
    "            else:\n",
    "                right -= 1\n",
    "        return max_water"
   ]
  },
  {
   "cell_type": "markdown",
   "id": "61b352e4-a386-4bf2-902d-8bc52e6a06a0",
   "metadata": {
    "tags": [],
    "toc-hr-collapsed": true
   },
   "source": [
    "# Concept 2: Binary"
   ]
  },
  {
   "cell_type": "markdown",
   "id": "dc43248f-1d66-4b7b-a17c-360f2decfae1",
   "metadata": {},
   "source": [
    "## 11. Sum of two Integers\n",
    "\n",
    "[Question Link](https://leetcode.com/problems/sum-of-two-integers/)"
   ]
  },
  {
   "cell_type": "markdown",
   "id": "aa3709f8-3258-4653-871c-c7c28ba5b584",
   "metadata": {},
   "source": [
    "Given two integers a and b, return the sum of the two integers without using the operators + and -.\n",
    "\n",
    " \n",
    "\n",
    "Example 1:\n",
    "\n",
    "Input: a = 1, b = 2 <br>\n",
    "Output: 3 <br>\n",
    "\n",
    "\n",
    "Example 2:\n",
    "\n",
    "Input: a = 2, b = 3 <br>\n",
    "Output: 5 <br>\n",
    " \n",
    "\n",
    "Constraints:\n",
    "\n",
    "-1000 <= a, b <= 1000"
   ]
  },
  {
   "cell_type": "markdown",
   "id": "68e90a66-64e5-4b14-8801-f5324866d2c0",
   "metadata": {},
   "source": [
    "### Approach\n",
    "\n",
    "To add, we need to understand that there are two things we need to have: \n",
    "1. XOR shich places the correct bit in the position.\n",
    "2. Carry which can be obtained by taking an &. (Carry is only 1, when there are 1s at the same position.\n",
    "\n",
    "Note that since carry is applied to the bit on the left, we shift it by 1 place using << operator.\n",
    "For negative numbers, we convert flip them by using ~"
   ]
  },
  {
   "cell_type": "code",
   "execution_count": 12,
   "id": "1b075ed6-1017-4b75-b6b2-8e79eb41d169",
   "metadata": {
    "tags": []
   },
   "outputs": [],
   "source": [
    "class Solution(object):\n",
    "    def getSum(self, a, b):\n",
    "        \"\"\"\n",
    "        :type a: int\n",
    "        :type b: int\n",
    "        :rtype: int\n",
    "        \"\"\"\n",
    "       \n",
    "        def getSumPositiveInteger(a, b):\n",
    "            \"\"\"\n",
    "            Both a and b >= 0\n",
    "            \"\"\"\n",
    "            x = a ^ b\n",
    "            y = (a & b) << 1\n",
    "            while y > 0:\n",
    "                temp = x ^ y\n",
    "                y = (x & y) << 1\n",
    "                x = temp\n",
    "            return x\n",
    "\n",
    "\n",
    "        def getDifferencePositiveIntegers(a, b):\n",
    "            \"\"\"\n",
    "            This function gives a - b and assumes a > b\n",
    "            \"\"\"\n",
    "            x = a ^ b\n",
    "            y = ((~a) & b) << 1\n",
    "            while y > 0:\n",
    "                temp = x ^ y\n",
    "                y = ((~x) & y) << 1\n",
    "                x = temp\n",
    "            return x\n",
    "\n",
    "        if (a >= 0 and b >= 0):\n",
    "            result = getSumPositiveInteger(abs(a), abs(b))\n",
    "        elif  (a < 0 and b < 0):\n",
    "            result = -1 * getSumPositiveInteger(abs(a), abs(b))\n",
    "        elif a < 0 or b < 0:\n",
    "            if abs(a) > abs(b):\n",
    "                result = getDifferencePositiveIntegers(abs(a), abs(b))\n",
    "                sign = 1 if a >= 0 else -1\n",
    "\n",
    "            else:\n",
    "                result = getDifferencePositiveIntegers(abs(b), abs(a))\n",
    "                sign = 1 if b >= 0 else -1\n",
    "            result = sign * result\n",
    "        return result"
   ]
  },
  {
   "cell_type": "markdown",
   "id": "46d9bdc0-9466-4c8c-a59a-3b2e3c67e150",
   "metadata": {},
   "source": [
    "## 12. Number of One Bits\n",
    "\n",
    "[Question Link](https://leetcode.com/problems/number-of-1-bits/description/)"
   ]
  },
  {
   "cell_type": "raw",
   "id": "164a0b50-3cdd-4874-9125-bb55ee746c28",
   "metadata": {},
   "source": [
    "Write a function that takes the binary representation of an unsigned integer and returns the number of '1' bits it has (also known as the Hamming weight).\n",
    "\n",
    "Note:\n",
    "\n",
    "Note that in some languages, such as Java, there is no unsigned integer type. In this case, the input will be given as a signed integer type. It should not affect your implementation, as the integer's internal binary representation is the same, whether it is signed or unsigned.\n",
    "In Java, the compiler represents the signed integers using 2's complement notation. Therefore, in Example 3, the input represents the signed integer. -3.\n",
    " \n",
    "\n",
    "Example 1:\n",
    "\n",
    "Input: n = 00000000000000000000000000001011\n",
    "Output: 3\n",
    "Explanation: The input binary string 00000000000000000000000000001011 has a total of three '1' bits.\n",
    "Example 2:\n",
    "\n",
    "Input: n = 00000000000000000000000010000000\n",
    "Output: 1\n",
    "Explanation: The input binary string 00000000000000000000000010000000 has a total of one '1' bit.\n",
    "Example 3:\n",
    "\n",
    "Input: n = 11111111111111111111111111111101\n",
    "Output: 31\n",
    "Explanation: The input binary string 11111111111111111111111111111101 has a total of thirty one '1' bits.\n",
    " \n",
    "\n",
    "Constraints:\n",
    "\n",
    "The input must be a binary string of length 32.\n",
    " \n",
    "\n",
    "Follow up: If this function is called many times, how would you optimize it?"
   ]
  },
  {
   "cell_type": "markdown",
   "id": "44a67aac-93da-40b4-9843-f1927c3490d8",
   "metadata": {},
   "source": [
    "### Approach\n",
    "\n",
    "We check if the last bit is 1 by taking an $ ^ $ with 1 and update the counter. <br>\n",
    "To divide the number by 2, we can divide it by 2 or shift the binray representation to the right by using $>>$"
   ]
  },
  {
   "cell_type": "code",
   "execution_count": 13,
   "id": "9001d7b4-50ee-4a4e-b7f4-69cc5cf5c941",
   "metadata": {
    "tags": []
   },
   "outputs": [],
   "source": [
    "class Solution(object):\n",
    "    def hammingWeight(self, n):\n",
    "        \"\"\"\n",
    "        :type n: int\n",
    "        :rtype: int\n",
    "        \"\"\"\n",
    "        ctr = 0\n",
    "        while n > 0:\n",
    "            if n & 1 == 1:\n",
    "                ctr += 1\n",
    "            n = n >> 1\n",
    "        return ctr\n",
    "    "
   ]
  },
  {
   "cell_type": "code",
   "execution_count": 14,
   "id": "a3b2af1c-e1fe-4ebc-91f4-813793b2cf7f",
   "metadata": {
    "tags": []
   },
   "outputs": [],
   "source": [
    "## Alternatively for understanding\n",
    "\n",
    "class Solution(object):\n",
    "    def hammingWeight(self, n):\n",
    "        \"\"\"\n",
    "        :type n: int\n",
    "        :rtype: int\n",
    "        \"\"\"\n",
    "        ctr = 0\n",
    "        while n > 0:\n",
    "            if n %2 == 1:\n",
    "                ctr += 1\n",
    "            n/=2\n",
    "        return ctr\n",
    "\n"
   ]
  },
  {
   "cell_type": "markdown",
   "id": "ee2ed8a9-3e89-4d00-8925-6e2aee071ca3",
   "metadata": {},
   "source": [
    "## 13. Counting Bits\n",
    "\n",
    "[Question Link](https://leetcode.com/problems/counting-bits/)"
   ]
  },
  {
   "cell_type": "raw",
   "id": "54a40e49-75f1-44ca-b328-2e2105a3ff8d",
   "metadata": {},
   "source": [
    "Given an integer n, return an array ans of length n + 1 such that for each i (0 <= i <= n), ans[i] is the number of 1's in the binary representation of i.\n",
    "\n",
    " \n",
    "\n",
    "Example 1:\n",
    "\n",
    "Input: n = 2\n",
    "Output: [0,1,1]\n",
    "Explanation:\n",
    "0 --> 0\n",
    "1 --> 1\n",
    "2 --> 10\n",
    "Example 2:\n",
    "\n",
    "Input: n = 5\n",
    "Output: [0,1,1,2,1,2]\n",
    "Explanation:\n",
    "0 --> 0\n",
    "1 --> 1\n",
    "2 --> 10\n",
    "3 --> 11\n",
    "4 --> 100\n",
    "5 --> 101\n",
    " \n",
    "\n",
    "Constraints:\n",
    "\n",
    "0 <= n <= 105\n",
    " \n",
    "\n",
    "Follow up:\n",
    "\n",
    "It is very easy to come up with a solution with a runtime of O(n log n). Can you do it in linear time O(n) and possibly in a single pass?\n",
    "Can you do it without using any built-in function (i.e., like __builtin_popcount in C++)?"
   ]
  },
  {
   "cell_type": "markdown",
   "id": "5e52f638-8f0b-40b8-91cb-adb89007515a",
   "metadata": {
    "tags": []
   },
   "source": [
    "### Approach\n",
    "\n",
    "\n",
    "The number that differs in last significant bit is essentially the half of current number. <br>\n",
    "\n",
    "Example: <br>\n",
    "\n",
    "7 : 111 - take out the last bit, you get 11 which is 3: total(bits(3) + 7%2) <br>\n",
    "14 : 1110 - take the last bit out: its 111 which is 7 : total(bits(7) + 14%2)   <br>\n",
    "\n",
    "we can also write 14%2 as 14 & 1"
   ]
  },
  {
   "cell_type": "code",
   "execution_count": 15,
   "id": "2949258e-6a0a-4974-83b8-8fb55929a788",
   "metadata": {
    "tags": []
   },
   "outputs": [],
   "source": [
    "class Solution(object):\n",
    "    def countBits(self, n):\n",
    "        \"\"\"\n",
    "        :type n: int\n",
    "        :rtype: List[int]\n",
    "        \"\"\"\n",
    "        # base cases\n",
    "        if n == 0:\n",
    "            return [0]\n",
    "        elif n == 1:\n",
    "            return [0, 1]\n",
    "\n",
    "        \n",
    "        bits = [0] * (n+1)\n",
    "        bits[1] = 1\n",
    "    \n",
    "        for i in range(2, n+1):\n",
    "            # The number that differs in last significant bit is \n",
    "            # essentially the half of current number\n",
    "            # 7 : 111 - take out the last bit, you get 11 which is 3: total(bits(3) + 7%2)\n",
    "            # 14 : 1110 - take the last bit out: its 111 which is 7 : total(bits(7) + 14%2)+ 14/2       \n",
    "            # we can also write 14%2 as 14 & 1\n",
    "            x = i >> 1\n",
    "            bits[i] = bits[x] + (i & 1)\n",
    "        return bits\n",
    "        "
   ]
  },
  {
   "cell_type": "markdown",
   "id": "b83228a5-6e20-40cf-8123-ed6b235ca563",
   "metadata": {},
   "source": [
    "## 14. Missing number\n",
    "\n",
    "[Question Link](https://leetcode.com/problems/missing-number/description/)"
   ]
  },
  {
   "cell_type": "raw",
   "id": "6a97af9c-124e-47ce-80aa-e8c64e27e15c",
   "metadata": {},
   "source": [
    "Given an array nums containing n distinct numbers in the range [0, n], return the only number in the range that is missing from the array.\n",
    "\n",
    " \n",
    "\n",
    "Example 1:\n",
    "\n",
    "Input: nums = [3,0,1]\n",
    "Output: 2\n",
    "Explanation: n = 3 since there are 3 numbers, so all numbers are in the range [0,3]. 2 is the missing number in the range since it does not appear in nums.\n",
    "Example 2:\n",
    "\n",
    "Input: nums = [0,1]\n",
    "Output: 2\n",
    "Explanation: n = 2 since there are 2 numbers, so all numbers are in the range [0,2]. 2 is the missing number in the range since it does not appear in nums.\n",
    "Example 3:\n",
    "\n",
    "Input: nums = [9,6,4,2,3,5,7,0,1]\n",
    "Output: 8\n",
    "Explanation: n = 9 since there are 9 numbers, so all numbers are in the range [0,9]. 8 is the missing number in the range since it does not appear in nums.\n",
    " \n",
    "\n",
    "Constraints:\n",
    "\n",
    "n == nums.length\n",
    "1 <= n <= 104\n",
    "0 <= nums[i] <= n\n",
    "All the numbers of nums are unique.\n",
    " \n",
    "\n",
    "Follow up: Could you implement a solution using only O(1) extra space complexity and O(n) runtime complexity?"
   ]
  },
  {
   "cell_type": "markdown",
   "id": "d7017f65-747f-419f-992c-f8813850070f",
   "metadata": {},
   "source": [
    "### Approach\n",
    "\n",
    "Property of XOR:\n",
    "  *  A xor A = 0\n",
    "  *  A xor 0 = A\n",
    "  *  0 xor A = A\n",
    "\n",
    "Since the numbers lie in the range [0, N), then when we xor with index and numbers, <br>\n",
    "we know that numbers which are not missing will appear twice:\n",
    "  *  once as the index and next as nums[index] and,\n",
    "  *  they will xor out to be zero\n",
    "\n",
    "Why did we initialize with N?\n",
    "* Because if any number between [0, n-1] is missing, then by pidgeonhole principle, N must be present in the array"
   ]
  },
  {
   "cell_type": "code",
   "execution_count": 16,
   "id": "a6994103-0ea5-41f2-b72d-8404db6ffa5d",
   "metadata": {
    "tags": []
   },
   "outputs": [],
   "source": [
    "class Solution:\n",
    "    def missingNumber(self, nums: List[int]) -> int:\n",
    "        \"\"\"\n",
    "        Property of XOR:\n",
    "        A xor A = 0\n",
    "        A xor 0 = A\n",
    "        0 xor A = A\n",
    "\n",
    "        Since the numbers lie in the range [0, N), then when we xor with index and numbers, \n",
    "        we know that numbers which are not missing will appear twice:\n",
    "            once as the index and next as nums[index] and,\n",
    "            they will xor out to be zero\n",
    "\n",
    "        Why did we initialize with N?\n",
    "        Because if any number between 0....n-1 is missing, then by pidgeonhole principle, N must be present in the array\n",
    "        \"\"\"\n",
    "\n",
    "        missing = len(nums)\n",
    "        for i, x in enumerate(nums):\n",
    "            missing = missing ^ i ^ x\n",
    "        return missing"
   ]
  },
  {
   "cell_type": "markdown",
   "id": "79a74b78-7659-44da-b0a0-e4d400f5361e",
   "metadata": {},
   "source": [
    "## 15. Reverse Bits\n",
    "\n",
    "[Question Link](https://leetcode.com/problems/reverse-bits/)"
   ]
  },
  {
   "cell_type": "raw",
   "id": "79d68ede-f179-46ad-9f0b-f682ee2cf685",
   "metadata": {},
   "source": [
    "Reverse bits of a given 32 bits unsigned integer.\n",
    "\n",
    "Note:\n",
    "\n",
    "Note that in some languages, such as Java, there is no unsigned integer type. In this case, both input and output will be given as a signed integer type. They should not affect your implementation, as the integer's internal binary representation is the same, whether it is signed or unsigned.\n",
    "In Java, the compiler represents the signed integers using 2's complement notation. Therefore, in Example 2 above, the input represents the signed integer -3 and the output represents the signed integer -1073741825.\n",
    " \n",
    "\n",
    "Example 1:\n",
    "\n",
    "Input: n = 00000010100101000001111010011100\n",
    "Output:    964176192 (00111001011110000010100101000000)\n",
    "Explanation: The input binary string 00000010100101000001111010011100 represents the unsigned integer 43261596, so return 964176192 which its binary representation is 00111001011110000010100101000000.\n",
    "Example 2:\n",
    "\n",
    "Input: n = 11111111111111111111111111111101\n",
    "Output:   3221225471 (10111111111111111111111111111111)\n",
    "Explanation: The input binary string 11111111111111111111111111111101 represents the unsigned integer 4294967293, so return 3221225471 which its binary representation is 10111111111111111111111111111111.\n",
    " \n",
    "\n",
    "Constraints:\n",
    "\n",
    "The input must be a binary string of length 32\n",
    " \n",
    "\n",
    "Follow up: If this function is called many times, how would you optimize it?"
   ]
  },
  {
   "cell_type": "markdown",
   "id": "78ec1e49-db79-402c-ac23-a92f55eebd08",
   "metadata": {},
   "source": [
    "### Approach 1\n",
    "\n",
    "In a Trivial solution, initialize a number to zero and begin adding the bits to it and shifting it to left"
   ]
  },
  {
   "cell_type": "code",
   "execution_count": 17,
   "id": "7ff16256-8bab-4af9-8a29-3935ae68750e",
   "metadata": {
    "tags": []
   },
   "outputs": [
    {
     "name": "stdout",
     "output_type": "stream",
     "text": [
      "964176192\n"
     ]
    }
   ],
   "source": [
    "### APPROACH 1\n",
    "\n",
    "class Solution:\n",
    "    def reverseBits(self, n: int) -> int:\n",
    "        \n",
    "        reversed_num = 0\n",
    "\n",
    "        for _ in range(32):\n",
    "            reversed_num <<= 1\n",
    "            reversed_num |= n & 1\n",
    "            n >>= 1\n",
    "\n",
    "        return reversed_num\n",
    "    \n",
    "n = 43261596\n",
    "print(Solution().reverseBits(n))"
   ]
  },
  {
   "cell_type": "markdown",
   "id": "b3b82524-94e7-48de-abcb-f7313fd2dd78",
   "metadata": {},
   "source": [
    "### Approach 2\n",
    "\n",
    "* We can divide the 32 bit into 8 bit blocks.\n",
    "* Flip each block (can use O(1) method here.\n",
    "* concatenate in reverse order:\n",
    "    * q1 : right most bits in the number goes first \n",
    "    * Final reverse = concatenate([rev(q1), rev(q2), rev(q3), rev(q4)])\n",
    "\n",
    "\n",
    "Note: `0XFF` is 11111111 (its a mask)"
   ]
  },
  {
   "cell_type": "code",
   "execution_count": 18,
   "id": "d679b725-741e-4504-b776-6b98ecd1fd42",
   "metadata": {
    "tags": []
   },
   "outputs": [
    {
     "name": "stdout",
     "output_type": "stream",
     "text": [
      "00000010100101000001111010011100\n"
     ]
    }
   ],
   "source": [
    "## Helper function to print binary rep\n",
    "\n",
    "def binaryrep(x, sz):\n",
    "    binary = \"\"\n",
    "    while x > 0 or sz > 0:\n",
    "        sz-=1\n",
    "        if x < 0:\n",
    "            binary = str(0) + binary\n",
    "            continue\n",
    "            \n",
    "            \n",
    "        binary = str(x & 1) + binary\n",
    "        x >>= 1\n",
    "    return binary\n",
    "\n",
    "n = 43261596\n",
    "print(binaryrep(n, 32))"
   ]
  },
  {
   "cell_type": "code",
   "execution_count": 19,
   "id": "b14e142d-5d28-45c3-bd47-5d3885482b3f",
   "metadata": {
    "tags": []
   },
   "outputs": [
    {
     "name": "stdout",
     "output_type": "stream",
     "text": [
      "q1: 10011100\n",
      "q1: 00111001\n"
     ]
    }
   ],
   "source": [
    "# 0XFF is 11111111 (its a mask)\n",
    "\n",
    "def reverse_byte(byte):\n",
    "    rev = 0\n",
    "    for _ in range(8):\n",
    "        rev  <<= 1\n",
    "        rev |= byte & 1\n",
    "        byte >>= 1 # divide or shift right\n",
    "    return rev\n",
    "\n",
    "quarter1 = n & 0xFF  # Extract the rightmost 8 bits (quarter 1)\n",
    "revq1 = reverse_byte(quarter1)\n",
    "print(\"q1:\", binaryrep(quarter1, 8))\n",
    "print(\"q1:\", binaryrep(revq1, 8))"
   ]
  },
  {
   "cell_type": "code",
   "execution_count": 20,
   "id": "b1c1a4e9-afe2-409c-9102-b7831f1f05b2",
   "metadata": {
    "tags": []
   },
   "outputs": [
    {
     "name": "stdout",
     "output_type": "stream",
     "text": [
      "q2: 00011110\n",
      "q2: 01111000\n"
     ]
    }
   ],
   "source": [
    "quarter2 = (n >> 8) & 0xFF\n",
    "revq2 = reverse_byte(quarter2)\n",
    "\n",
    "print(\"q2:\", binaryrep(quarter2, 8))\n",
    "print(\"q2:\", binaryrep(revq2, 8))"
   ]
  },
  {
   "cell_type": "code",
   "execution_count": 21,
   "id": "7482f554-6fed-403c-a645-9dfceb7dca14",
   "metadata": {
    "tags": []
   },
   "outputs": [
    {
     "name": "stdout",
     "output_type": "stream",
     "text": [
      "q3: 10010100\n",
      "q3: 00101001\n"
     ]
    }
   ],
   "source": [
    "quarter3 = (n >> 16) & 0xFF\n",
    "revq3 = reverse_byte(quarter3)\n",
    "\n",
    "print(\"q3:\", binaryrep(quarter3, 8))\n",
    "print(\"q3:\", binaryrep(revq3, 8))"
   ]
  },
  {
   "cell_type": "code",
   "execution_count": 22,
   "id": "5432b1c4-1ba9-4464-bde5-e88087ad2c2b",
   "metadata": {
    "tags": []
   },
   "outputs": [
    {
     "name": "stdout",
     "output_type": "stream",
     "text": [
      "q4: 00000010\n",
      "q4: 01000000\n"
     ]
    }
   ],
   "source": [
    "quarter4 = (n >> 24) & 0xFF\n",
    "revq4 = reverse_byte(quarter4)\n",
    "\n",
    "print(\"q4:\", binaryrep(quarter4, 8))\n",
    "print(\"q4:\", binaryrep(revq4, 8))"
   ]
  },
  {
   "cell_type": "code",
   "execution_count": 23,
   "id": "e3c0d88c-e99c-4292-9547-491c09a182e0",
   "metadata": {
    "tags": []
   },
   "outputs": [
    {
     "name": "stdout",
     "output_type": "stream",
     "text": [
      "43261596 : 00000010100101000001111010011100\n",
      "964176192 : 00111001011110000010100101000000\n",
      "964176192\n"
     ]
    }
   ],
   "source": [
    "class Solution:\n",
    "    def reverseBits(self, n: int) -> int:\n",
    "        \n",
    "        def binaryrep(x, sz):\n",
    "            binary = \"\"\n",
    "            while x > 0 or sz > 0:\n",
    "                sz-=1\n",
    "                if x < 0:\n",
    "                    binary = str(0) + binary\n",
    "                    continue\n",
    "\n",
    "\n",
    "                binary = str(x & 1) + binary\n",
    "                x >>= 1\n",
    "            return binary\n",
    "        \n",
    "        def reverse_byte(byte):\n",
    "            rev = 0\n",
    "            for _ in range(8):\n",
    "                rev  <<= 1\n",
    "                rev |= byte & 1\n",
    "                byte >>= 1 # divide or shift right\n",
    "            return rev\n",
    "        quarter1 = n & 0xFF  # Extract the rightmost 8 bits (quarter 1)\n",
    "        quarter2 = (n >> 8) & 0xFF  # Extract the next 8 bits (quarter 2)\n",
    "        quarter3 = (n >> 16) & 0xFF  # Extract the next 8 bits (quarter 3)\n",
    "        quarter4 = (n >> 24) & 0xFF  # Extract the leftmost 8 bits (quarter 4)\n",
    "\n",
    "        revq1 = reverse_byte(quarter1)\n",
    "        revq2 = reverse_byte(quarter2)\n",
    "        revq3 = reverse_byte(quarter3)\n",
    "        revq4 = reverse_byte(quarter4)\n",
    "\n",
    "        rev = (revq1 << 24) | (revq2 << 16) | (revq3 << 8) | revq4\n",
    "        print(rev, \":\", binaryrep(rev, 32))\n",
    "\n",
    "        return rev\n",
    "            \n",
    "n = 43261596\n",
    "print(n, \":\", binaryrep(n, 32))\n",
    "print(Solution().reverseBits(n))"
   ]
  },
  {
   "cell_type": "markdown",
   "id": "e059616e-bfea-4884-8c10-6e4f46a2243c",
   "metadata": {
    "tags": [],
    "toc-hr-collapsed": true
   },
   "source": [
    "# Concept 3: Dynamic Programming"
   ]
  },
  {
   "cell_type": "markdown",
   "id": "378f0564-c206-4e05-bf6b-404d307f3aac",
   "metadata": {},
   "source": [
    "## 16. Climbing stairs\n",
    "\n",
    "[Question Link](https://leetcode.com/problems/climbing-stairs/)"
   ]
  },
  {
   "cell_type": "raw",
   "id": "37342f90-6fb6-4adc-a758-8a5ffab70eee",
   "metadata": {},
   "source": [
    "You are climbing a staircase. It takes n steps to reach the top.\n",
    "\n",
    "Each time you can either climb 1 or 2 steps. In how many distinct ways can you climb to the top?\n",
    "\n",
    " \n",
    "\n",
    "Example 1:\n",
    "\n",
    "Input: n = 2\n",
    "Output: 2\n",
    "Explanation: There are two ways to climb to the top.\n",
    "1. 1 step + 1 step\n",
    "2. 2 steps\n",
    "Example 2:\n",
    "\n",
    "Input: n = 3\n",
    "Output: 3\n",
    "Explanation: There are three ways to climb to the top.\n",
    "1. 1 step + 1 step + 1 step\n",
    "2. 1 step + 2 steps\n",
    "3. 2 steps + 1 step\n",
    " \n",
    "\n",
    "Constraints:\n",
    "\n",
    "1 <= n <= 45"
   ]
  },
  {
   "cell_type": "markdown",
   "id": "bc5d95a6-1cb3-4ee9-8e97-12fba62341ff",
   "metadata": {},
   "source": [
    "### Approach"
   ]
  },
  {
   "cell_type": "code",
   "execution_count": 24,
   "id": "0559c222-c925-4431-88c0-ee33291c1e73",
   "metadata": {
    "tags": []
   },
   "outputs": [],
   "source": [
    "class Solution(object):\n",
    "    def climbStairs(self, n):\n",
    "        \"\"\"\n",
    "        :type n: int\n",
    "        :rtype: int\n",
    "        \"\"\"\n",
    "        P = [0] * (n + 1)\n",
    "        P[0] = 1\n",
    "        P[1] = 1\n",
    "        for i in range(2,n+1):\n",
    "            P[i] = P[i-1] + P[i-2] \n",
    "        return P[n]"
   ]
  },
  {
   "cell_type": "markdown",
   "id": "b94f86dd-e58c-4216-ad00-c13e2b7d0ee8",
   "metadata": {},
   "source": [
    "## 17. Coin Change\n",
    "\n",
    "[Question Link](https://leetcode.com/problems/coin-change/)"
   ]
  },
  {
   "cell_type": "raw",
   "id": "4eddb4a7-f7ba-4d05-9383-360c5811f4ce",
   "metadata": {},
   "source": [
    "You are given an integer array coins representing coins of different denominations and an integer amount representing a total amount of money.\n",
    "\n",
    "Return the fewest number of coins that you need to make up that amount. If that amount of money cannot be made up by any combination of the coins, return -1.\n",
    "\n",
    "You may assume that you have an infinite number of each kind of coin.\n",
    "\n",
    " \n",
    "\n",
    "Example 1:\n",
    "\n",
    "Input: coins = [1,2,5], amount = 11\n",
    "Output: 3\n",
    "Explanation: 11 = 5 + 5 + 1\n",
    "Example 2:\n",
    "\n",
    "Input: coins = [2], amount = 3\n",
    "Output: -1\n",
    "Example 3:\n",
    "\n",
    "Input: coins = [1], amount = 0\n",
    "Output: 0\n",
    " \n",
    "\n",
    "Constraints:\n",
    "\n",
    "1 <= coins.length <= 12\n",
    "1 <= coins[i] <= 231 - 1\n",
    "0 <= amount <= 104"
   ]
  },
  {
   "cell_type": "markdown",
   "id": "2c9cb299-f47c-4e1b-be9b-4baafa179a10",
   "metadata": {},
   "source": [
    "### Approach"
   ]
  },
  {
   "cell_type": "code",
   "execution_count": 25,
   "id": "c227e06e-efe3-43ef-ba7f-5af46b645e4e",
   "metadata": {
    "tags": []
   },
   "outputs": [],
   "source": [
    "class Solution(object):\n",
    "    def coinChange(self, coins, amount):\n",
    "        \"\"\"\n",
    "        :type coins: List[int]\n",
    "        :type amount: int\n",
    "        :rtype: int\n",
    "        \"\"\"\n",
    "\n",
    "        N = len(coins)\n",
    "        dp = [-1] * (amount+1)\n",
    "        dp[0] = 0\n",
    "        for i in range(amount + 1):\n",
    "            minval = float('inf')\n",
    "            for c in coins:\n",
    "                if i - c >= 0 and dp[i-c] >= 0:\n",
    "                    minval = min(dp[i-c] + 1, minval)\n",
    "            if minval != float('inf'):\n",
    "                dp[i] = minval\n",
    "        # print(dp)\n",
    "        return dp[amount]"
   ]
  },
  {
   "cell_type": "markdown",
   "id": "cdaf7669-ec94-47ec-829a-857fa030b8fa",
   "metadata": {},
   "source": [
    "## 18. Longest Increasing Subsequence (LIS)\n",
    "\n",
    "[Question Link](https://leetcode.com/problems/longest-increasing-subsequence/)"
   ]
  },
  {
   "cell_type": "raw",
   "id": "72ae0e64-459b-4561-9323-56e8fbf54cb0",
   "metadata": {},
   "source": [
    "Given an integer array nums, return the length of the longest strictly increasing \n",
    "subsequence.\n",
    " \n",
    "\n",
    "Example 1:\n",
    "\n",
    "Input: nums = [10,9,2,5,3,7,101,18]\n",
    "Output: 4\n",
    "Explanation: The longest increasing subsequence is [2,3,7,101], therefore the length is 4.\n",
    "Example 2:\n",
    "\n",
    "Input: nums = [0,1,0,3,2,3]\n",
    "Output: 4\n",
    "Example 3:\n",
    "\n",
    "Input: nums = [7,7,7,7,7,7,7]\n",
    "Output: 1\n",
    " \n",
    "\n",
    "Constraints:\n",
    "\n",
    "1 <= nums.length <= 2500\n",
    "-104 <= nums[i] <= 104\n",
    " \n",
    "\n",
    "Follow up: Can you come up with an algorithm that runs in O(n log(n)) time complexity?"
   ]
  },
  {
   "cell_type": "markdown",
   "id": "3c448701-48b1-40fb-88c8-648834ac69df",
   "metadata": {},
   "source": [
    "### Approach"
   ]
  },
  {
   "cell_type": "code",
   "execution_count": 26,
   "id": "db8815ef-d7c8-4ab6-a355-ccd31a9b0f6a",
   "metadata": {
    "tags": []
   },
   "outputs": [],
   "source": [
    "class Solution(object):\n",
    "    def lengthOfLIS(self, nums):\n",
    "        \"\"\"\n",
    "        :type nums: List[int]\n",
    "        :rtype: int\n",
    "        \"\"\"\n",
    "\n",
    "        N = len(nums)\n",
    "        dp =  [0] * (N+1)\n",
    "        dp[0] = 1\n",
    "        for i in range(N):\n",
    "            dp[i] = 1\n",
    "            for j in range(i):\n",
    "                if nums[j] < nums[i]:\n",
    "                    dp[i] = max(dp[i], dp[j] + 1)\n",
    "        maxlen = 0\n",
    "        for x in dp:\n",
    "            maxlen = max(maxlen, x)\n",
    "        return maxlen"
   ]
  },
  {
   "cell_type": "markdown",
   "id": "214bd726-6c56-4237-a203-f1de0ac69391",
   "metadata": {},
   "source": [
    "## 19. Longest Common Subsequence\n",
    "\n",
    "[Question Link](https://leetcode.com/problems/longest-common-subsequence/)"
   ]
  },
  {
   "cell_type": "raw",
   "id": "912d3113-76a3-45c4-8b37-d89c007e06d2",
   "metadata": {},
   "source": [
    "Given two strings text1 and text2, return the length of their longest common subsequence. If there is no common subsequence, return 0.\n",
    "\n",
    "A subsequence of a string is a new string generated from the original string with some characters (can be none) deleted without changing the relative order of the remaining characters.\n",
    "\n",
    "For example, \"ace\" is a subsequence of \"abcde\".\n",
    "A common subsequence of two strings is a subsequence that is common to both strings.\n",
    "\n",
    " \n",
    "\n",
    "Example 1:\n",
    "\n",
    "Input: text1 = \"abcde\", text2 = \"ace\" \n",
    "Output: 3  \n",
    "Explanation: The longest common subsequence is \"ace\" and its length is 3.\n",
    "Example 2:\n",
    "\n",
    "Input: text1 = \"abc\", text2 = \"abc\"\n",
    "Output: 3\n",
    "Explanation: The longest common subsequence is \"abc\" and its length is 3.\n",
    "Example 3:\n",
    "\n",
    "Input: text1 = \"abc\", text2 = \"def\"\n",
    "Output: 0\n",
    "Explanation: There is no such common subsequence, so the result is 0.\n",
    " \n",
    "\n",
    "Constraints:\n",
    "\n",
    "1 <= text1.length, text2.length <= 1000\n",
    "text1 and text2 consist of only lowercase English characters."
   ]
  },
  {
   "cell_type": "markdown",
   "id": "392b8557-fb71-4dec-b2da-3f3fd3045ac7",
   "metadata": {},
   "source": [
    "### Approach"
   ]
  },
  {
   "cell_type": "code",
   "execution_count": 27,
   "id": "97875b1c-0424-4c91-af95-683b07a11f28",
   "metadata": {
    "tags": []
   },
   "outputs": [],
   "source": [
    "class Solution(object):\n",
    "    def longestCommonSubsequence(self, text1, text2):\n",
    "        \"\"\"\n",
    "        :type text1: str\n",
    "        :type text2: str\n",
    "        :rtype: int\n",
    "        \"\"\"\n",
    "        dp = {}\n",
    "        dp[-1,-1] = 0\n",
    "        n1 = len(text1)\n",
    "        n2 = len(text2)\n",
    "        \n",
    "        for i in range(-1, n1+1):\n",
    "            dp[i, -1] = 0\n",
    "        for i in range(-1, n2 + 1):\n",
    "            dp[-1, i] = 0\n",
    "        \n",
    "        for i in range(n1):\n",
    "            for j in range(n2):\n",
    "                if text1[i] == text2[j]:\n",
    "                    dp[i, j] = dp[i-1, j-1] + 1\n",
    "                else:\n",
    "                    dp[i, j] = max(dp[i, j-1], dp[i-1, j])\n",
    "        return dp[n1-1, n2-1]"
   ]
  },
  {
   "cell_type": "markdown",
   "id": "850e4072-d4d6-4e7d-a46a-e6f6e129612e",
   "metadata": {},
   "source": [
    "## 20. Word Break\n",
    "\n",
    "[Question Link](https://leetcode.com/problems/word-break/)"
   ]
  },
  {
   "cell_type": "raw",
   "id": "bf6ee4a6-baec-4b5d-bd9b-4cf9965572cc",
   "metadata": {},
   "source": [
    "Given a string s and a dictionary of strings wordDict, return true if s can be segmented into a space-separated sequence of one or more dictionary words.\n",
    "\n",
    "Note that the same word in the dictionary may be reused multiple times in the segmentation.\n",
    "\n",
    " \n",
    "\n",
    "Example 1:\n",
    "\n",
    "Input: s = \"leetcode\", wordDict = [\"leet\",\"code\"]\n",
    "Output: true\n",
    "Explanation: Return true because \"leetcode\" can be segmented as \"leet code\".\n",
    "Example 2:\n",
    "\n",
    "Input: s = \"applepenapple\", wordDict = [\"apple\",\"pen\"]\n",
    "Output: true\n",
    "Explanation: Return true because \"applepenapple\" can be segmented as \"apple pen apple\".\n",
    "Note that you are allowed to reuse a dictionary word.\n",
    "Example 3:\n",
    "\n",
    "Input: s = \"catsandog\", wordDict = [\"cats\",\"dog\",\"sand\",\"and\",\"cat\"]\n",
    "Output: false\n",
    " \n",
    "\n",
    "Constraints:\n",
    "\n",
    "1 <= s.length <= 300\n",
    "1 <= wordDict.length <= 1000\n",
    "1 <= wordDict[i].length <= 20\n",
    "s and wordDict[i] consist of only lowercase English letters.\n",
    "All the strings of wordDict are unique."
   ]
  },
  {
   "cell_type": "markdown",
   "id": "3a05e75e-9e47-4b34-8d66-70053a0aaeed",
   "metadata": {},
   "source": [
    "### Approach"
   ]
  },
  {
   "cell_type": "code",
   "execution_count": 28,
   "id": "3c9819ac-2881-4f6d-b3cc-eabb41056ae1",
   "metadata": {
    "tags": []
   },
   "outputs": [],
   "source": [
    "class Solution(object):\n",
    "    def wordBreak(self, s, wordDict):\n",
    "        \"\"\"\n",
    "        :type s: str\n",
    "        :type wordDict: List[str]\n",
    "        :rtype: bool\n",
    "        \"\"\"\n",
    "        W  = len(wordDict)\n",
    "        L = len(s)\n",
    "        dp = {}\n",
    "        dp[-1] = True\n",
    "        dp[0] = True\n",
    "        for i in range(L):\n",
    "            dp[i] = False\n",
    "            for j in range(W):\n",
    "                word = wordDict[j]\n",
    "                lw = len(word)\n",
    "                if i - lw >= -1: # if the index is in range\n",
    "                    sub = s[i - lw+1: i+1]\n",
    "                    if sub == word:  # if words match\n",
    "                        dp[i] = dp[i] or dp[i-lw]\n",
    "\n",
    "        # print(dp)\n",
    "        return dp[L-1]\n",
    "                    "
   ]
  },
  {
   "cell_type": "markdown",
   "id": "efc8ac32-73f6-4f7a-a797-0bb71b848df5",
   "metadata": {
    "toc-hr-collapsed": true
   },
   "source": [
    "## 21. Combination Sum IV\n",
    "\n",
    "[Question Link](https://leetcode.com/problems/combination-sum-iv/)"
   ]
  },
  {
   "cell_type": "raw",
   "id": "a5c0ea06-e4e6-4321-84d2-8cc229496eef",
   "metadata": {},
   "source": [
    "Given an array of distinct integers nums and a target integer target, return the number of possible combinations that add up to target.\n",
    "\n",
    "The test cases are generated so that the answer can fit in a 32-bit integer.\n",
    "\n",
    " \n",
    "\n",
    "Example 1:\n",
    "\n",
    "Input: nums = [1,2,3], target = 4\n",
    "Output: 7\n",
    "Explanation:\n",
    "The possible combination ways are:\n",
    "(1, 1, 1, 1)\n",
    "(1, 1, 2)\n",
    "(1, 2, 1)\n",
    "(1, 3)\n",
    "(2, 1, 1)\n",
    "(2, 2)\n",
    "(3, 1)\n",
    "Note that different sequences are counted as different combinations.\n",
    "Example 2:\n",
    "\n",
    "Input: nums = [9], target = 3\n",
    "Output: 0\n",
    " \n",
    "\n",
    "Constraints:\n",
    "\n",
    "1 <= nums.length <= 200\n",
    "1 <= nums[i] <= 1000\n",
    "All the elements of nums are unique.\n",
    "1 <= target <= 1000\n",
    " \n",
    "\n",
    "Follow up: What if negative numbers are allowed in the given array? How does it change the problem? What limitation we need to add to the question to allow negative numbers?"
   ]
  },
  {
   "cell_type": "markdown",
   "id": "0928b0d0-f5b0-43dc-a0e6-328ef9977aaa",
   "metadata": {},
   "source": [
    "### Approach"
   ]
  },
  {
   "cell_type": "code",
   "execution_count": 29,
   "id": "8857e1ce-72a4-4fce-a4d5-19c4248a7af5",
   "metadata": {
    "tags": []
   },
   "outputs": [],
   "source": [
    "class Solution(object):\n",
    "    def combinationSum4(self, nums, target):\n",
    "        \"\"\"\n",
    "        :type nums: List[int]\n",
    "        :type target: int\n",
    "        :rtype: int\n",
    "        \"\"\"\n",
    "        # T[i] = T[j] + 1 for all j\n",
    "        #\n",
    "        #\n",
    "\n",
    "        dp = {}\n",
    "        n = len(nums)\n",
    "        dp[0] = 1\n",
    "        for i in range(1,target + 1):\n",
    "            dp[i] = 0\n",
    "            for j in range(n):\n",
    "                if i - nums[j] >= 0:\n",
    "                    dp[i] += dp[i - nums[j]]\n",
    "        \n",
    "        return dp[target]"
   ]
  },
  {
   "cell_type": "markdown",
   "id": "e5e71167-e312-4860-99f0-3a5a81be85f0",
   "metadata": {},
   "source": [
    "## 22 House Robber\n",
    "\n",
    "[Question Link](https://leetcode.com/problems/house-robber/)"
   ]
  },
  {
   "cell_type": "raw",
   "id": "50dd1b25-6418-48fb-b2a8-bf966fff4b53",
   "metadata": {},
   "source": [
    "You are a professional robber planning to rob houses along a street. Each house has a certain amount of money stashed, the only constraint stopping you from robbing each of them is that adjacent houses have security systems connected and it will automatically contact the police if two adjacent houses were broken into on the same night.\n",
    "\n",
    "Given an integer array nums representing the amount of money of each house, return the maximum amount of money you can rob tonight without alerting the police.\n",
    "\n",
    " \n",
    "\n",
    "Example 1:\n",
    "\n",
    "Input: nums = [1,2,3,1]\n",
    "Output: 4\n",
    "Explanation: Rob house 1 (money = 1) and then rob house 3 (money = 3).\n",
    "Total amount you can rob = 1 + 3 = 4.\n",
    "Example 2:\n",
    "\n",
    "Input: nums = [2,7,9,3,1]\n",
    "Output: 12\n",
    "Explanation: Rob house 1 (money = 2), rob house 3 (money = 9) and rob house 5 (money = 1).\n",
    "Total amount you can rob = 2 + 9 + 1 = 12.\n",
    " \n",
    "\n",
    "Constraints:\n",
    "\n",
    "1 <= nums.length <= 100\n",
    "0 <= nums[i] <= 400"
   ]
  },
  {
   "cell_type": "markdown",
   "id": "4c78f32c-0ce2-46ef-bc7b-fb04340b237e",
   "metadata": {},
   "source": [
    "### Approach"
   ]
  },
  {
   "cell_type": "code",
   "execution_count": 30,
   "id": "e8a09c9a-c1ac-43b7-8412-e2e067b94642",
   "metadata": {
    "tags": []
   },
   "outputs": [],
   "source": [
    "class Solution(object):\n",
    "    def rob(self, nums):\n",
    "        \"\"\"\n",
    "        :type nums: List[int]\n",
    "        :rtype: int\n",
    "        \"\"\"\n",
    "        n = len(nums)\n",
    "        if n <= 2:\n",
    "            if n == 0:\n",
    "                return 0\n",
    "            if n == 1:\n",
    "                return nums[0]\n",
    "            if n == 2:\n",
    "                return max(nums[0], nums[1])\n",
    "        dp = {}\n",
    "        dp[0] = nums[0]\n",
    "        dp[1] = nums[1]\n",
    "        global_max = max(dp[0], dp[1])\n",
    "        for i in range(2,n):\n",
    "            money = nums[i]\n",
    "            dp[i] = money\n",
    "            for j in range(i-1):\n",
    "                dp[i] = max(dp[i], dp[j] + money)\n",
    "            global_max  = max(global_max, dp[i])\n",
    "        return global_max"
   ]
  },
  {
   "cell_type": "markdown",
   "id": "78946dee-b8f6-4d01-bc1e-40439c732204",
   "metadata": {},
   "source": [
    "## 23. House Robber II\n",
    "\n",
    "[Question Link](https://leetcode.com/problems/house-robber-ii/)"
   ]
  },
  {
   "cell_type": "raw",
   "id": "886bf063-2beb-4383-aa30-1187ac4c59b8",
   "metadata": {},
   "source": [
    "You are a professional robber planning to rob houses along a street. Each house has a certain amount of money stashed. All houses at this place are arranged in a circle. That means the first house is the neighbor of the last one. Meanwhile, adjacent houses have a security system connected, and it will automatically contact the police if two adjacent houses were broken into on the same night.\n",
    "\n",
    "Given an integer array nums representing the amount of money of each house, return the maximum amount of money you can rob tonight without alerting the police.\n",
    "\n",
    " \n",
    "\n",
    "Example 1:\n",
    "\n",
    "Input: nums = [2,3,2]\n",
    "Output: 3\n",
    "Explanation: You cannot rob house 1 (money = 2) and then rob house 3 (money = 2), because they are adjacent houses.\n",
    "Example 2:\n",
    "\n",
    "Input: nums = [1,2,3,1]\n",
    "Output: 4\n",
    "Explanation: Rob house 1 (money = 1) and then rob house 3 (money = 3).\n",
    "Total amount you can rob = 1 + 3 = 4.\n",
    "Example 3:\n",
    "\n",
    "Input: nums = [1,2,3]\n",
    "Output: 3\n",
    " \n",
    "\n",
    "Constraints:\n",
    "\n",
    "1 <= nums.length <= 100\n",
    "0 <= nums[i] <= 1000"
   ]
  },
  {
   "cell_type": "markdown",
   "id": "e021dbe8-fadd-4143-a44d-9dc2a7383dfa",
   "metadata": {
    "tags": []
   },
   "source": [
    "### Approach"
   ]
  },
  {
   "cell_type": "code",
   "execution_count": 31,
   "id": "ff3dff2d-839c-4bf7-85e2-cd112e5498ee",
   "metadata": {
    "tags": []
   },
   "outputs": [],
   "source": [
    "class Solution(object):\n",
    "\n",
    "    def rob1(self, nums):\n",
    "        \"\"\"\n",
    "        :type nums: List[int]\n",
    "        :rtype: int\n",
    "        \"\"\"\n",
    "        n = len(nums)\n",
    "        if n <= 2:\n",
    "            if n == 0:\n",
    "                return 0\n",
    "            if n == 1:\n",
    "                return nums[0]\n",
    "            if n == 2:\n",
    "                return max(nums[0], nums[1])\n",
    "        dp = {}\n",
    "        dp[0] = nums[0]\n",
    "        dp[1] = nums[1]\n",
    "        global_max = max(dp[0], dp[1])\n",
    "        for i in range(2,n):\n",
    "            money = nums[i]\n",
    "            dp[i] = money\n",
    "            for j in range(i-1):\n",
    "                dp[i] = max(dp[i], dp[j] + money)\n",
    "            global_max  = max(global_max, dp[i])\n",
    "        return global_max\n",
    "\n",
    "    def rob(self, nums):\n",
    "        \"\"\"\n",
    "        :type nums: List[int]\n",
    "        :rtype: int\n",
    "        \"\"\"\n",
    "        n = len(nums)\n",
    "        if n == 1:\n",
    "            return nums[0]\n",
    "        return max(self.rob1(nums[0:n-1]), self.rob1(nums[1:]))\n"
   ]
  },
  {
   "cell_type": "markdown",
   "id": "b57b9cf1-8451-46c9-8583-588eac8ce42b",
   "metadata": {},
   "source": [
    "## 24. Decode Ways\n",
    "\n",
    "[Question Link](https://leetcode.com/problems/decode-ways/)"
   ]
  },
  {
   "cell_type": "raw",
   "id": "e44a1f04-4b68-4f34-8c37-f790eb744c92",
   "metadata": {},
   "source": [
    "A message containing letters from A-Z can be encoded into numbers using the following mapping:\n",
    "\n",
    "'A' -> \"1\"\n",
    "'B' -> \"2\"\n",
    "...\n",
    "'Z' -> \"26\"\n",
    "\n",
    "To decode an encoded message, all the digits must be grouped then mapped back into letters using the reverse of the mapping above (there may be multiple ways). For example, \"11106\" can be mapped into:\n",
    "\n",
    "\"AAJF\" with the grouping (1 1 10 6)\n",
    "\"KJF\" with the grouping (11 10 6)\n",
    "Note that the grouping (1 11 06) is invalid because \"06\" cannot be mapped into 'F' since \"6\" is different from \"06\".\n",
    "\n",
    "Given a string s containing only digits, return the number of ways to decode it.\n",
    "\n",
    "The test cases are generated so that the answer fits in a 32-bit integer.\n",
    "\n",
    " \n",
    "\n",
    "Example 1:\n",
    "\n",
    "Input: s = \"12\"\n",
    "Output: 2\n",
    "Explanation: \"12\" could be decoded as \"AB\" (1 2) or \"L\" (12).\n",
    "Example 2:\n",
    "\n",
    "Input: s = \"226\"\n",
    "Output: 3\n",
    "Explanation: \"226\" could be decoded as \"BZ\" (2 26), \"VF\" (22 6), or \"BBF\" (2 2 6).\n",
    "Example 3:\n",
    "\n",
    "Input: s = \"06\"\n",
    "Output: 0\n",
    "Explanation: \"06\" cannot be mapped to \"F\" because of the leading zero (\"6\" is different from \"06\").\n",
    " \n",
    "\n",
    "Constraints:\n",
    "\n",
    "1 <= s.length <= 100\n",
    "s contains only digits and may contain leading zero(s)."
   ]
  },
  {
   "cell_type": "markdown",
   "id": "21352dc3-e29c-48a2-91d7-cd4f9630bb68",
   "metadata": {},
   "source": [
    "### Approach"
   ]
  },
  {
   "cell_type": "code",
   "execution_count": 32,
   "id": "90547397-2b60-4d5f-913f-6b1ed3b6de20",
   "metadata": {
    "tags": []
   },
   "outputs": [],
   "source": [
    "class Solution(object):\n",
    "    def numDecodings(self, s):\n",
    "        \"\"\"\n",
    "        :type s: str\n",
    "        :rtype: int\n",
    "        \"\"\"\n",
    "        def is_valid_map(i, j):\n",
    "            if i <=j and i >= 0:\n",
    "                ss = s[i:j+1]\n",
    "                if ss[0] == '0':return False\n",
    "                if int(ss) > 26: return False\n",
    "                return True\n",
    "            return False\n",
    "        \n",
    "        n = len(s)\n",
    "        dp = {}\n",
    "        dp[-1] = 1\n",
    "        for i in range(n):\n",
    "            if is_valid_map(i, i):\n",
    "                dp[i] = dp[i-1]\n",
    "            else:\n",
    "                dp[i] = 0\n",
    "            if is_valid_map(i-1,i):\n",
    "                dp[i] = dp[i-2] + dp[i]\n",
    "        \n",
    "        \n",
    "        return dp[n-1]\n",
    "\n"
   ]
  },
  {
   "cell_type": "markdown",
   "id": "6ebbad73-00b8-4560-a3e9-7df52b1b624f",
   "metadata": {},
   "source": [
    "## 25. Unique Paths\n",
    "\n",
    "[Question Link](https://leetcode.com/problems/unique-paths/)"
   ]
  },
  {
   "cell_type": "markdown",
   "id": "ba2ab5e3-b309-48be-8f5b-3ab259d31e84",
   "metadata": {},
   "source": [
    "![Game](\"../assets/robot_maze.jpg\")"
   ]
  },
  {
   "cell_type": "raw",
   "id": "6966178f-e2fc-4a91-a8c9-d88f8bd52586",
   "metadata": {},
   "source": [
    "There is a robot on an m x n grid. The robot is initially located at the top-left corner (i.e., grid[0][0]). The robot tries to move to the bottom-right corner (i.e., grid[m - 1][n - 1]). The robot can only move either down or right at any point in time.\n",
    "\n",
    "Given the two integers m and n, return the number of possible unique paths that the robot can take to reach the bottom-right corner.\n",
    "\n",
    "The test cases are generated so that the answer will be less than or equal to 2 * 109.\n",
    "\n",
    " \n",
    "\n",
    "Example 1:\n",
    "\n",
    "\n",
    "Input: m = 3, n = 7\n",
    "Output: 28\n",
    "Example 2:\n",
    "\n",
    "Input: m = 3, n = 2\n",
    "Output: 3\n",
    "Explanation: From the top-left corner, there are a total of 3 ways to reach the bottom-right corner:\n",
    "1. Right -> Down -> Down\n",
    "2. Down -> Down -> Right\n",
    "3. Down -> Right -> Down\n",
    " \n",
    "\n",
    "Constraints:\n",
    "\n",
    "1 <= m, n <= 100"
   ]
  },
  {
   "cell_type": "markdown",
   "id": "7d236380-0b7e-4727-823b-035c7ec61743",
   "metadata": {},
   "source": [
    "### Approach"
   ]
  },
  {
   "cell_type": "code",
   "execution_count": 33,
   "id": "84e180b5-e1fa-4330-9523-614893f2657f",
   "metadata": {
    "tags": []
   },
   "outputs": [],
   "source": [
    "class Solution(object):\n",
    "    def uniquePaths(self, m, n):\n",
    "        \"\"\"\n",
    "        :type m: int\n",
    "        :type n: int\n",
    "        :rtype: int\n",
    "        \"\"\"\n",
    "        dp = {}\n",
    "        dp[-1, -1] = 1\n",
    "        dp[-1, 0] = 1\n",
    "        dp[0,-1] = 1\n",
    "        for i in range(m):\n",
    "            dp[i, 0] = 1\n",
    "        for j in range(n):\n",
    "            dp[0,j] = 1\n",
    "        for i in range(1,m):\n",
    "            for j in range(1,n):\n",
    "                dp[i,j] = 0\n",
    "                if i- 1 >= 0:\n",
    "                    dp[i,j] += dp[i-1,j]\n",
    "                if j - 1 >= 0:\n",
    "                    dp[i,j] += dp[i, j-1]\n",
    "        \n",
    "        return dp[m-1, n-1]"
   ]
  },
  {
   "cell_type": "markdown",
   "id": "01d3c62b-2363-4521-92ea-b1bbd48d4e32",
   "metadata": {},
   "source": [
    "## 26. Jump Game\n",
    "\n",
    "[Question Link](https://leetcode.com/problems/jump-game/)"
   ]
  },
  {
   "cell_type": "markdown",
   "id": "6c40f81c-e723-44b4-98da-266162799b84",
   "metadata": {
    "tags": []
   },
   "source": [
    "You are given an integer array nums. You are initially positioned at the array's first index, and each element in the array represents your maximum jump length at that position.\n",
    "\n",
    "Return true if you can reach the last index, or false otherwise.\n",
    "\n",
    " \n",
    "\n",
    "`Example 1:`\n",
    "\n",
    "Input: nums = [2,3,1,1,4] <br>\n",
    "Output: true <br>\n",
    "Explanation: Jump 1 step from index 0 to 1, then 3 steps to the last index.\n",
    "\n",
    "\n",
    "`Example 2:`\n",
    "\n",
    "Input: nums = [3,2,1,0,4] <br>\n",
    "Output: false <br>\n",
    "Explanation: You will always arrive at index 3 no matter what. Its maximum jump length is 0, which makes it impossible to reach the last index.\n",
    " \n",
    "\n",
    "`Constraints:`\n",
    "\n",
    "1 <= nums.length <= 104 <br>\n",
    "0 <= nums[i] <= 105"
   ]
  },
  {
   "cell_type": "markdown",
   "id": "3b529eb2-991a-40bd-a0a5-ab69405093c2",
   "metadata": {},
   "source": [
    "### Approach"
   ]
  },
  {
   "cell_type": "code",
   "execution_count": 34,
   "id": "97b4e70c-0372-4ce6-8bfa-ddb804fd6052",
   "metadata": {
    "tags": []
   },
   "outputs": [],
   "source": [
    "class Solution(object):\n",
    "    def canJump(self, nums):\n",
    "        \"\"\"\n",
    "        :type nums: List[int]\n",
    "        :rtype: bool\n",
    "        \"\"\"\n",
    "\n",
    "        n = len(nums)\n",
    "        dp = {}\n",
    "        dp[0] = True\n",
    "        lastpos = n - 1\n",
    "        for i in range(n -1, -1, -1):\n",
    "            if (i + nums[i] >= lastpos):\n",
    "                lastpos = i\n",
    "        return lastpos == 0"
   ]
  },
  {
   "cell_type": "markdown",
   "id": "a41b2c8b-9e92-443c-be91-1ce06308df71",
   "metadata": {
    "tags": [],
    "toc-hr-collapsed": true
   },
   "source": [
    "# Concept 4: Graph"
   ]
  },
  {
   "cell_type": "markdown",
   "id": "06b52064-5818-4743-a34a-2b088e26ce80",
   "metadata": {
    "tags": []
   },
   "source": [
    "## 27. Clone Graph\n",
    "\n",
    "[Question Link](https://leetcode.com/problems/clone-graph/)"
   ]
  },
  {
   "cell_type": "markdown",
   "id": "64315b72-656b-4a14-bc81-d2584d120c74",
   "metadata": {},
   "source": [
    "<img src=\"../assets/133_clone_graph_question.png\" width = 600>"
   ]
  },
  {
   "cell_type": "markdown",
   "id": "32b6c3cc-9a44-4f60-b783-f2e6eb900ed7",
   "metadata": {},
   "source": [
    "Given a reference of a node in a connected undirected graph.\n",
    "\n",
    "Return a deep copy (clone) of the graph.\n",
    "\n",
    "Each node in the graph contains a value (int) and a list (List[Node]) of its neighbors.\n",
    "\n",
    "```\n",
    "class Node {\n",
    "    public int val;\n",
    "    public List<Node> neighbors;\n",
    "}\n",
    "```\n",
    " \n",
    "\n",
    "`Test case format:`\n",
    "\n",
    "For simplicity, each node's value is the same as the node's index (1-indexed). For example, the first node with val == 1, the second node with val == 2, and so on. The graph is represented in the test case using an adjacency list.\n",
    "\n",
    "An adjacency list is a collection of unordered lists used to represent a finite graph. Each list describes the set of neighbors of a node in the graph.\n",
    "\n",
    "The given node will always be the first node with val = 1. You must return the copy of the given node as a reference to the cloned graph.\n",
    "\n",
    " \n",
    "\n",
    "`Example 1:`\n",
    "\n",
    "\n",
    "Input: adjList = [[2,4],[1,3],[2,4],[1,3]] <br>\n",
    "Output: [[2,4],[1,3],[2,4],[1,3]] <br>\n",
    "Explanation: There are 4 nodes in the graph. <br>\n",
    "1st node (val = 1)'s neighbors are 2nd node (val = 2) and 4th node (val = 4). <br>\n",
    "2nd node (val = 2)'s neighbors are 1st node (val = 1) and 3rd node (val = 3). <br>\n",
    "3rd node (val = 3)'s neighbors are 2nd node (val = 2) and 4th node (val = 4). <br>\n",
    "4th node (val = 4)'s neighbors are 1st node (val = 1) and 3rd node (val = 3). <br>\n",
    "\n",
    "\n",
    "`Example 2:`\n",
    "\n",
    "\n",
    "Input: adjList = [[]] <br>\n",
    "Output: [[]] <br>\n",
    "Explanation: Note that the input contains one empty list. The graph consists of only one node with val = 1 and it does not have any neighbors.\n",
    "\n",
    "\n",
    "`Example 3:`\n",
    "\n",
    "Input: adjList = [] <br>\n",
    "Output: [] <br>\n",
    "Explanation: This an empty graph, it does not have any nodes. <br>\n",
    " \n",
    "\n",
    "`Constraints:`\n",
    "\n",
    "The number of nodes in the graph is in the range [0, 100]. <br>\n",
    "1 <= Node.val <= 100 <br>\n",
    "Node.val is unique for each node. <br>\n",
    "There are no repeated edges and no self-loops in the graph. <br>\n",
    "The Graph is connected and all nodes can be visited starting from the given node."
   ]
  },
  {
   "cell_type": "markdown",
   "id": "3866ecc9-00f9-4a9e-a907-0aabb14a24cc",
   "metadata": {},
   "source": [
    "### Approach\n",
    "\n",
    "This is a DFS problem and this is an undirected graph. <br>\n",
    "We keep a `in_process` dictionary at class level to keep track of every node whose clone has been created. <br>\n",
    "\n",
    "We first create a  clone of an incoming node by copying it s value in a new address from heap. <br>\n",
    "- Next, we run an iterative process to copy its neighbors.\n",
    "- Then we assign the neighbors of cloned nodes with this new list of neigbors (which are already cloned.\n",
    "\n",
    "Make sure to handle the incoming `None` node separately"
   ]
  },
  {
   "cell_type": "code",
   "execution_count": 1,
   "id": "8d71ac53-266a-4958-8a1a-2434cc2374ba",
   "metadata": {
    "tags": []
   },
   "outputs": [],
   "source": [
    "\"\"\"\n",
    "# Definition for a Node.\n",
    "class Node:\n",
    "    def __init__(self, val = 0, neighbors = None):\n",
    "        self.val = val\n",
    "        self.neighbors = neighbors if neighbors is not None else []\n",
    "\"\"\"\n",
    "\n",
    "from typing import Optional\n",
    "class Solution:\n",
    "\n",
    "    \n",
    "\n",
    "    def cloneNode(self, node: Optional['Node']) -> Optional['Node']:\n",
    "        if node is None:\n",
    "            # If its a None Node i.e. empty graph\n",
    "            return None\n",
    "        if node.val in self.in_process:\n",
    "            # if its already in process, that means we have created a clone in some previous call\n",
    "            return self.in_process[node.val]\n",
    "        node_clone = Node(node.val)\n",
    "        # Once the new object id is created, create a reference for it\n",
    "        self.in_process[node.val] = node_clone\n",
    "        cloned_neighbors = []\n",
    "        for n in node.neighbors:\n",
    "            cloned_neighbor_node = self.cloneNode(n)\n",
    "            if cloned_neighbor_node: \n",
    "                cloned_neighbors.append(cloned_neighbor_node)\n",
    "        node_clone.neighbors = cloned_neighbors\n",
    "        return node_clone        \n",
    "\n",
    "\n",
    "    def cloneGraph(self, node: Optional['Node']) -> Optional['Node']:\n",
    "        self.in_process = {}\n",
    "        cloned_graph = self.cloneNode(node)\n",
    "        return cloned_graph\n",
    "        "
   ]
  },
  {
   "cell_type": "markdown",
   "id": "6dadb876-170c-4098-b3da-05bf083e5a26",
   "metadata": {},
   "source": [
    "## 28. Course Schedule\n",
    "\n",
    "[Question Link](https://leetcode.com/problems/course-schedule/description/)"
   ]
  },
  {
   "cell_type": "markdown",
   "id": "1c3c3e99-eceb-43bf-b286-18cbe1cd9c4d",
   "metadata": {},
   "source": [
    "There are a total of numCourses courses you have to take, labeled from 0 to numCourses - 1. You are given an array prerequisites where prerequisites[i] = [ai, bi] indicates that you must take course bi first if you want to take course ai.\n",
    "\n",
    "For example, the pair [0, 1], indicates that to take course 0 you have to first take course 1.\n",
    "Return true if you can finish all courses. Otherwise, return false.\n",
    "\n",
    " \n",
    "\n",
    "`Example 1:`\n",
    "\n",
    "Input: numCourses = 2, prerequisites = [[1,0]] <br>\n",
    "Output: true <br>\n",
    "Explanation: There are a total of 2 courses to take.  <br>\n",
    "To take course 1 you should have finished course 0. So it is possible. <br>\n",
    "\n",
    "\n",
    "`Example 2:`\n",
    "\n",
    "Input: numCourses = 2, prerequisites = [[1,0],[0,1]] <br>\n",
    "Output: false <br>\n",
    "Explanation: There are a total of 2 courses to take.  <br>\n",
    "To take course 1 you should have finished course 0, and to take course 0 you should also have finished course 1. So it is impossible.\n",
    " \n",
    "\n",
    "`Constraints:`\n",
    "\n",
    "1 <= numCourses <= 2000 <br>\n",
    "0 <= prerequisites.length <= 5000 <br>\n",
    "prerequisites[i].length == 2 <br>\n",
    "0 <= ai, bi < numCourses <br>\n",
    "All the pairs prerequisites[i] are unique."
   ]
  },
  {
   "cell_type": "markdown",
   "id": "4b877cea-376d-42b4-a50f-55c62f8ed936",
   "metadata": {},
   "source": [
    "### Approach"
   ]
  },
  {
   "cell_type": "code",
   "execution_count": 35,
   "id": "c212c420-bdde-41c0-a817-4ccf6f45ee08",
   "metadata": {
    "tags": []
   },
   "outputs": [],
   "source": [
    "class Solution(object):\n",
    "\n",
    "    def __init__(self):\n",
    "        self.cycle = False \n",
    "\n",
    "    def canFinish(self, numCourses, prerequisites):\n",
    "        \"\"\"\n",
    "        :type numCourses: int\n",
    "        :type prerequisites: List[List[int]]\n",
    "        :rtype: bool\n",
    "        \"\"\"\n",
    "        self.cycle = False\n",
    "        visited = {}\n",
    "        graph = {}\n",
    "        for c in range(numCourses):\n",
    "            visited[c]=-1\n",
    "        \n",
    "        def is_cycle(root):\n",
    "            # print(f\"Root: {root}, {visited[root]}\")\n",
    "            if visited[root] == -1:\n",
    "                visited[root] = 0\n",
    "            elif visited[root] == 0:\n",
    "                self.cycle = True\n",
    "                return\n",
    "            elif visited[root] == 1:\n",
    "                return\n",
    "            visited[root] = 0\n",
    "            for c in range(numCourses):\n",
    "                if c != root and (root, c) in graph:\n",
    "                    is_cycle(c)\n",
    "            visited[root] = 1\n",
    "        \n",
    "        for p, q in prerequisites:\n",
    "            if p == q:\n",
    "                return False\n",
    "            graph[p, q] = 1\n",
    "\n",
    "        for c in range(numCourses):\n",
    "            if visited[c] == -1:\n",
    "                is_cycle(c)\n",
    "        # print(f\"Final Has cycle: {self.cycle}\")\n",
    "        return self.cycle == False"
   ]
  },
  {
   "cell_type": "markdown",
   "id": "4ce69985-69bd-44c3-8f0a-d5f7ea282626",
   "metadata": {},
   "source": [
    "## 29. Pacific Atlantic Water Flow\n",
    "\n",
    "[Question Link](https://leetcode.com/problems/pacific-atlantic-water-flow/)"
   ]
  },
  {
   "cell_type": "markdown",
   "id": "7ec8b82b-f1d9-4fd8-9820-df6e3873af28",
   "metadata": {},
   "source": [
    "<img src= \"../assets/waterflow-grid.jpg\">"
   ]
  },
  {
   "cell_type": "markdown",
   "id": "2d65dad0-8acd-4f78-b354-f79b0e5c454f",
   "metadata": {},
   "source": [
    "There is an m x n rectangular island that borders both the Pacific Ocean and Atlantic Ocean. The Pacific Ocean touches the island's left and top edges, and the Atlantic Ocean touches the island's right and bottom edges.\n",
    "\n",
    "The island is partitioned into a grid of square cells. You are given an m x n integer matrix heights where heights[r][c] represents the height above sea level of the cell at coordinate (r, c).\n",
    "\n",
    "The island receives a lot of rain, and the rain water can flow to neighboring cells directly north, south, east, and west if the neighboring cell's height is less than or equal to the current cell's height. Water can flow from any cell adjacent to an ocean into the ocean.\n",
    "\n",
    "Return a 2D list of grid coordinates result where result[i] = [ri, ci] denotes that rain water can flow from cell (ri, ci) to both the Pacific and Atlantic oceans.\n",
    "\n",
    " \n",
    "\n",
    "`Example 1:`\n",
    "\n",
    "\n",
    "Input: heights = [[1,2,2,3,5],[3,2,3,4,4],[2,4,5,3,1],[6,7,1,4,5],[5,1,1,2,4]] <br>\n",
    "Output: [[0,4],[1,3],[1,4],[2,2],[3,0],[3,1],[4,0]]\n",
    "\n",
    "Explanation: The following cells can flow to the Pacific and Atlantic oceans, as shown below:\n",
    "```\n",
    "[0,4]: [0,4] -> Pacific Ocean \n",
    "       [0,4] -> Atlantic Ocean\n",
    "[1,3]: [1,3] -> [0,3] -> Pacific Ocean \n",
    "       [1,3] -> [1,4] -> Atlantic Ocean\n",
    "[1,4]: [1,4] -> [1,3] -> [0,3] -> Pacific Ocean \n",
    "       [1,4] -> Atlantic Ocean\n",
    "[2,2]: [2,2] -> [1,2] -> [0,2] -> Pacific Ocean \n",
    "       [2,2] -> [2,3] -> [2,4] -> Atlantic Ocean\n",
    "[3,0]: [3,0] -> Pacific Ocean \n",
    "       [3,0] -> [4,0] -> Atlantic Ocean\n",
    "[3,1]: [3,1] -> [3,0] -> Pacific Ocean \n",
    "       [3,1] -> [4,1] -> Atlantic Ocean\n",
    "[4,0]: [4,0] -> Pacific Ocean \n",
    "       [4,0] -> Atlantic Ocean\n",
    "```\n",
    "Note that there are other possible paths for these cells to flow to the Pacific and Atlantic oceans.\n",
    "\n",
    "`Example 2:`\n",
    "\n",
    "Input: heights = [[1]] <br>\n",
    "Output: [[0,0]] <br>\n",
    "Explanation: The water can flow from the only cell to the Pacific and Atlantic oceans. <br>\n",
    " \n",
    "\n",
    "`Constraints:`\n",
    "\n",
    "m == heights.length <br>\n",
    "n == heights[r].length <br>\n",
    "1 <= m, n <= 200 <br>\n",
    "0 <= heights[r][c] <= 105"
   ]
  },
  {
   "cell_type": "markdown",
   "id": "804a941b-6490-410e-8121-73becba1e493",
   "metadata": {},
   "source": [
    "### Approach"
   ]
  },
  {
   "cell_type": "code",
   "execution_count": 36,
   "id": "0a7b5de8-bb7f-4316-bcba-ba5377475473",
   "metadata": {
    "tags": []
   },
   "outputs": [],
   "source": [
    "class Solution(object):\n",
    "    def numIslands(self, grid):\n",
    "        \"\"\"\n",
    "        :type grid: List[List[str]]\n",
    "        :rtype: int\n",
    "        \"\"\"\n",
    "        R, C = len(grid), len(grid[0])\n",
    "        def is_valid(x,y):\n",
    "            return x >= 0 and y >= 0 and x < R and y < C and grid[x][y] == \"1\"\n",
    "        \n",
    "        visited = {}\n",
    "        dx = [0,0,-1,1]\n",
    "        dy = [-1,1,0,0]\n",
    "        \n",
    "        def dfs(u,v):\n",
    "            if grid[u][v] == \"0\":\n",
    "                return\n",
    "            if grid[u][v] == \"1\" and (u,v) in visited and visited[u,v]:\n",
    "                return\n",
    "            visited[u,v] = True\n",
    "#             print(f\"Visited: {u,v}\")\n",
    "            for move in range(0,4):\n",
    "                newx = u + dx[move]\n",
    "                newy = v + dy[move]\n",
    "\n",
    "                if is_valid(newx, newy):\n",
    "                    dfs(newx, newy)\n",
    "\n",
    "        num_island = 0\n",
    "        for u in range(R):\n",
    "            for v in range(C):\n",
    "                if grid[u][v] == \"1\":\n",
    "                    if (u, v) not in visited or visited[u,v] == False:\n",
    "                        num_island +=1\n",
    "                        dfs(u, v)\n",
    "                    \n",
    "        return num_island"
   ]
  },
  {
   "cell_type": "markdown",
   "id": "810b80eb-b9f8-411d-8db0-0b0f796239b4",
   "metadata": {},
   "source": [
    "## 30. Longest Consecutive Sequence\n",
    "\n",
    "[Question Link](https://leetcode.com/problems/longest-consecutive-sequence/)"
   ]
  },
  {
   "cell_type": "markdown",
   "id": "7bac285f-a50b-4cff-bb0c-2f232cffeec6",
   "metadata": {},
   "source": [
    "Given an unsorted array of integers nums, return the length of the longest consecutive elements sequence.\n",
    "\n",
    "You must write an algorithm that runs in O(n) time.\n",
    "\n",
    " \n",
    "\n",
    "`Example 1:`\n",
    "\n",
    "Input: nums = [100,4,200,1,3,2] <br>\n",
    "Output: 4 <br>\n",
    "Explanation: The longest consecutive elements sequence is [1, 2, 3, 4]. Therefore its length is 4.\n",
    "\n",
    "\n",
    "`Example 2:`\n",
    "\n",
    "Input: nums = [0,3,7,2,5,8,4,6,0,1] <br>\n",
    "Output: 9\n",
    " \n",
    "\n",
    "`Constraints:`\n",
    "\n",
    "0 <= nums.length <= 105 <br>\n",
    "-109 <= nums[i] <= 109"
   ]
  },
  {
   "cell_type": "markdown",
   "id": "ac817688-6d35-4414-aedc-3c207bdfd5eb",
   "metadata": {},
   "source": [
    "### Approach\n",
    "\n",
    "This is a problem to find strongly connected components.\n",
    "We only care about unique values, so, we maintain a unique value set.\n",
    "\n",
    " - The solution utilizes a **depth-first search (DFS)** approach to find the length of the longest consecutive elements sequence.\n",
    " - It maintains visited to keep track of visited numbers during the DFS traversal.\n",
    " - The process_a_node function recursively explores consecutive elements from a given number, updating the current length (cur_len) accordingly.\n",
    "   - It checks neighboring numbers (num + 1 and num - 1) to extend the consecutive sequence.\n",
    "   - If a number has been visited, it returns 0 to avoid redundant traversal.\n",
    " - The longestConsecutive function iterates through the input array, calling process_a_node for each unvisited number and updating the maximum length (max_len) accordingly.\n",
    " - Finally, it returns the maximum length found.\n"
   ]
  },
  {
   "cell_type": "code",
   "execution_count": 3,
   "id": "c9e10727-0d61-463c-a7da-644f9d7bb030",
   "metadata": {
    "tags": []
   },
   "outputs": [],
   "source": [
    "from typing import List, Optional\n",
    "\n",
    "class Solution:\n",
    "\n",
    "    def process_a_node(self, num, cur_len) -> int:\n",
    "        \"\"\"\n",
    "        : num: current number\n",
    "        : cur_len: current length so far.\n",
    "        \"\"\"\n",
    "        if num in self.visited:\n",
    "            return 0\n",
    "        self.visited.add(num)\n",
    "        left_len = 0\n",
    "        right_len = 0\n",
    "        next_num = num + 1\n",
    "        if next_num in self.unique_values:\n",
    "            right_len = self.process_a_node(next_num, 1)\n",
    "        prev_num = num - 1\n",
    "        if prev_num in self.unique_values:\n",
    "            left_len = self.process_a_node(prev_num, 1)\n",
    "        \n",
    "        # If you encounter this number moving from left, then left_len will be 0\n",
    "        # If you encounter this number moving from right, then right_len will be 0\n",
    "        return cur_len + left_len + right_len\n",
    "\n",
    "    def longestConsecutive(self, nums: List[int]) -> int:\n",
    "        # We only cafre about unique values\n",
    "        self.unique_values = set(nums)\n",
    "        # If a value has been visited once, then left and right sequence from that value has been accounted for, so we keep this visited set\n",
    "        self.visited = set()\n",
    "        max_len = 0\n",
    "        seq_len = 0\n",
    "        for i, n in enumerate(nums):\n",
    "            if n not in self.visited:\n",
    "                seq_len = self.process_a_node(n, 1)  # start with 1, because we start the sequence at that number\n",
    "            max_len = max(max_len, seq_len)\n",
    "\n",
    "        return max_len\n",
    "\n",
    "\n",
    "\n"
   ]
  },
  {
   "cell_type": "markdown",
   "id": "2b547c42-e7c7-4001-abc3-93b8cb7e6693",
   "metadata": {},
   "source": [
    "## 31. Alien Dictionary\n",
    "\n",
    "[Question Link](https://leetcode.com/problems/alien-dictionary/)"
   ]
  },
  {
   "cell_type": "raw",
   "id": "eec2fca3-359d-4765-9dd6-e27f279c1aba",
   "metadata": {},
   "source": [
    "There is a new alien language that uses the English alphabet. However, the order among the letters is unknown to you.\n",
    "\n",
    "You are given a list of strings words from the alien language's dictionary, where the strings in words are \n",
    "sorted lexicographically\n",
    " by the rules of this new language.\n",
    "\n",
    "Return a string of the unique letters in the new alien language sorted in lexicographically increasing order by the new language's rules. If there is no solution, return \"\". If there are multiple solutions, return any of them.\n",
    "\n",
    " \n",
    "\n",
    "Example 1:\n",
    "\n",
    "Input: words = [\"wrt\",\"wrf\",\"er\",\"ett\",\"rftt\"]\n",
    "Output: \"wertf\"\n",
    "Example 2:\n",
    "\n",
    "Input: words = [\"z\",\"x\"]\n",
    "Output: \"zx\"\n",
    "Example 3:\n",
    "\n",
    "Input: words = [\"z\",\"x\",\"z\"]\n",
    "Output: \"\"\n",
    "Explanation: The order is invalid, so return \"\".\n",
    " \n",
    "\n",
    "Constraints:\n",
    "\n",
    "1 <= words.length <= 100\n",
    "1 <= words[i].length <= 100\n",
    "words[i] consists of only lowercase English letters."
   ]
  },
  {
   "cell_type": "markdown",
   "id": "8667c411-fe7b-4cdc-889d-9dfe04c78b34",
   "metadata": {},
   "source": [
    "### Approach"
   ]
  },
  {
   "cell_type": "markdown",
   "id": "cab52679-962b-4c73-8682-2ae3f17b5b77",
   "metadata": {},
   "source": [
    "### TODO: CODE IT"
   ]
  },
  {
   "cell_type": "markdown",
   "id": "00932d40-c487-4ab5-b692-e7a0239ef0ff",
   "metadata": {},
   "source": [
    "## 32. Graph Valid Tree\n",
    "\n",
    "[Question Link](https://leetcode.com/problems/graph-valid-tree/)"
   ]
  },
  {
   "cell_type": "markdown",
   "id": "f773b693-1341-4f20-8eba-10a7dcb970fd",
   "metadata": {},
   "source": [
    "**Example 1:**\n",
    "\n",
    "<img src=\"../assets/tree1-graph.jpg\" alt=\"Example 1\"> <br>\n",
    "\n",
    "**Example 2:**\n",
    "\n",
    "<img src=\"../assets/tree2-graph.jpg\" alt=\"Example 2\"> <br>"
   ]
  },
  {
   "cell_type": "markdown",
   "id": "b2e65295-2e1b-4993-b5ea-a35185144143",
   "metadata": {},
   "source": [
    "You have a graph of n nodes labeled from 0 to n - 1. You are given an integer n and a list of edges where edges[i] = [ai, bi] indicates that there is an undirected edge between nodes ai and bi in the graph.\n",
    "\n",
    "Return true if the edges of the given graph make up a valid tree, and false otherwise.\n",
    "\n",
    " \n",
    "\n",
    "`Example 1:`\n",
    "\n",
    "\n",
    "Input: n = 5, edges = [[0,1],[0,2],[0,3],[1,4]] <br>\n",
    "Output: true <br>\n",
    "\n",
    "\n",
    "`Example 2:`\n",
    "\n",
    "\n",
    "Input: n = 5, edges = [[0,1],[1,2],[2,3],[1,3],[1,4]] <br>\n",
    "Output: false\n",
    " \n",
    "\n",
    "`Constraints:`\n",
    "\n",
    "1 <= n <= 2000 <br>\n",
    "0 <= edges.length <= 5000 <br>\n",
    "edges[i].length == 2 <br>\n",
    "0 <= ai, bi < n <br>\n",
    "ai != bi <br>\n",
    "There are no self-loops or repeated edges."
   ]
  },
  {
   "cell_type": "markdown",
   "id": "108b8b63-fbe8-44a8-b14d-1c2383ef278c",
   "metadata": {},
   "source": [
    "### Approach\n",
    "\n",
    "- Loop Detection:\n",
    "  - Utilizes **Depth First Search (DFS)** to detect cycles within the graph.\n",
    "  - Implements a recursive function check_loop to traverse the graph and detect cycles.\n",
    "  - If a cycle is found during traversal, the function returns True, indicating the graph is not a valid tree.\n",
    "- Main Function:\n",
    "  - Initializes a list visited to track visited nodes.\n",
    "  - Constructs an adjacency list representation of the graph based on the given edges.\n",
    "  - Iterates through each node and checks for cycles using the check_loop function.\n",
    "- Edge Cases Handling:\n",
    "  - Considers cases where the number of nodes n is less than or equal to 2, returning False as a tree must have at least 2 nodes."
   ]
  },
  {
   "cell_type": "code",
   "execution_count": 22,
   "id": "2fdbb9c9-b8bb-48b8-8aaf-71203889806a",
   "metadata": {
    "tags": []
   },
   "outputs": [
    {
     "name": "stdout",
     "output_type": "stream",
     "text": [
      "{0: [1, 2, 3], 1: [0, 4], 2: [0], 3: [0], 4: [1]}\n",
      "Is valid tree: True\n",
      "{0: [1], 1: [0, 2, 3, 4], 2: [1, 3], 3: [2, 1], 4: [1]}\n",
      "loop found 1 3\n",
      "loop found 3 2\n",
      "loop found 2 1\n",
      "loop found 1 0\n",
      "Is valid tree: False\n"
     ]
    }
   ],
   "source": [
    "from typing import List\n",
    "\n",
    "class Solution:\n",
    "    \n",
    "    def check_loop(self, u, v):\n",
    "        if self.visited[u] == 1:\n",
    "            return True\n",
    "        self.visited[u] = 1\n",
    "        for n in self.adj_list[u]:\n",
    "            if n == v:\n",
    "                continue\n",
    "            if self.check_loop(n, u):\n",
    "                print(\"loop found\", n, u)\n",
    "                return True\n",
    "        return False\n",
    "            \n",
    "        \n",
    "    def validTree(self, n: int, edges: List[List[int]]) -> bool:\n",
    "        if n <= 2:\n",
    "            return False\n",
    "        self.visited = [0] * n\n",
    "        self.adj_list = {}\n",
    "        for a, b in edges:\n",
    "            adj_a = self.adj_list.get(a, [])\n",
    "            adj_a.append(b)\n",
    "            self.adj_list[a] = adj_a\n",
    "            \n",
    "            adj_b = self.adj_list.get(b, [])\n",
    "            adj_b.append(a)\n",
    "            self.adj_list[b] = adj_b\n",
    "        \n",
    "        print(self.adj_list)\n",
    "        \n",
    "        for i in range(n):\n",
    "            if self.visited[i] == 0:\n",
    "                if self.check_loop(i, None):\n",
    "                    return False\n",
    "        return True\n",
    "    \n",
    "s = Solution()\n",
    "ret = s.validTree(n = 5, edges = [[0,1],[0,2],[0,3],[1,4]])\n",
    "print(f\"Is valid tree: {ret}\")\n",
    "ret = s.validTree(n = 5, edges = [[0,1],[1,2],[2,3],[1,3],[1,4]])\n",
    "print(f\"Is valid tree: {ret}\")\n"
   ]
  },
  {
   "cell_type": "markdown",
   "id": "a34673c1-134c-44ea-8e48-073c26d9f24d",
   "metadata": {
    "tags": []
   },
   "source": [
    "## 33. Number of Connected Components in an Undirected Graph\n",
    "\n",
    "[Question Link](https://leetcode.com/problems/number-of-connected-components-in-an-undirected-graph/)"
   ]
  },
  {
   "cell_type": "markdown",
   "id": "176397d4-9d34-48a4-92a5-b10746c295e2",
   "metadata": {},
   "source": [
    "**Example 1:**\n",
    "\n",
    "<img src=\"../assets/conn1-graph.jpg\" alt=\"Example 1\"> <br>\n",
    "\n",
    "**Example 2:**\n",
    "\n",
    "<img src=\"../assets/conn2-graph.jpg\" alt=\"Example 2\"> <br>"
   ]
  },
  {
   "cell_type": "markdown",
   "id": "0579c02d-706f-4f4e-a1fc-61e4c9646c22",
   "metadata": {},
   "source": [
    "You have a graph of n nodes. You are given an integer n and an array edges where edges[i] = [ai, bi] indicates that there is an edge between ai and bi in the graph.\n",
    "\n",
    "Return the number of connected components in the graph.\n",
    "\n",
    "\n",
    "`Example 1:`\n",
    "\n",
    "\n",
    "Input: n = 5, edges = [[0,1],[1,2],[3,4]] <br>\n",
    "Output: 2\n",
    "\n",
    "\n",
    "`Example 2:`\n",
    "\n",
    "\n",
    "Input: n = 5, edges = [[0,1],[1,2],[2,3],[3,4]] <br>\n",
    "Output: 1\n",
    " \n",
    "\n",
    "`Constraints:`\n",
    "\n",
    "1 <= n <= 2000 <br>\n",
    "1 <= edges.length <= 5000 <br>\n",
    "edges[i].length == 2 <br>\n",
    "0 <= ai <= bi < n <br>\n",
    "ai != bi <br>\n",
    "There are no repeated edges."
   ]
  },
  {
   "cell_type": "markdown",
   "id": "7ca32a31-7df8-49b2-bf08-c45682ffdf78",
   "metadata": {},
   "source": [
    "### Approach \n",
    "\n",
    "- To find connected components, we use a **DFS algorithm**\n",
    "- `find_connected_components` checks if the vertex is visited first and then marks the current node as visited\n",
    "  - Iterate through adjacency list of current node and skip the undirected edge.\n",
    "  "
   ]
  },
  {
   "cell_type": "code",
   "execution_count": 34,
   "id": "42ab44c2-a728-4f29-aa4a-c5f7dfe1bed6",
   "metadata": {
    "tags": []
   },
   "outputs": [
    {
     "name": "stdout",
     "output_type": "stream",
     "text": [
      "Num Connected Components: 2\n",
      "Num Connected Components: 1\n"
     ]
    }
   ],
   "source": [
    "from collections import defaultdict\n",
    "from typing import List\n",
    "\n",
    "class Solution:\n",
    "    \n",
    "    def find_connected_components(self, u: int, v: int):\n",
    "        if self.visited[u]:\n",
    "            return \n",
    "        self.visited[u] = True\n",
    "        for n in self.adjaceny_list[u]:\n",
    "            if n == v:\n",
    "                continue\n",
    "            self.find_connected_components(n, u)\n",
    "        return \n",
    "    \n",
    "    def countConnectedComponents(self, n: int, edges: List[List[int]]) -> int:\n",
    "        if n <= 1:\n",
    "            return n\n",
    "        # Create an adjacency list\n",
    "        self.adjaceny_list = defaultdict(list)\n",
    "        for a, b in edges:\n",
    "            self.adjaceny_list[a].append(b)\n",
    "            self.adjaceny_list[b].append(a)\n",
    "            \n",
    "        self.visited = [False] * n\n",
    "        connected_components = 0\n",
    "        for i in range(n):\n",
    "            if self.visited[i] == 0:\n",
    "                connected_components += 1\n",
    "                self.find_connected_components(i, None)\n",
    "        return connected_components\n",
    "        \n",
    "\n",
    "s = Solution()\n",
    "ret = s.countConnectedComponents(n = 5, edges = [[0,1],[1,2],[3,4]])\n",
    "print(f\"Num Connected Components: {ret}\")\n",
    "\n",
    "\n",
    "ret = s.countConnectedComponents(n = 5, edges = [[0,1],[1,2],[2,3],[3,4]])\n",
    "print(f\"Num Connected Components: {ret}\")"
   ]
  },
  {
   "cell_type": "markdown",
   "id": "b83d36e3-5528-4da1-9970-6ef9c1aeda5d",
   "metadata": {
    "tags": []
   },
   "source": [
    "# Concept 5: Intervals"
   ]
  },
  {
   "cell_type": "markdown",
   "id": "e4a58109-b1c7-470d-8d3d-20f63cc6228d",
   "metadata": {},
   "source": [
    "## 34. Insert Interval\n",
    "\n",
    "[Question Link](https://leetcode.com/problems/insert-interval/)"
   ]
  },
  {
   "cell_type": "markdown",
   "id": "7c824114-b6e1-4903-8161-61604c9ad2a1",
   "metadata": {},
   "source": [
    "You are given an array of non-overlapping intervals intervals where intervals[i] = `[starti, endi]` represent the start and the end of the ith interval and intervals is sorted in ascending order by starti. \n",
    "\n",
    "You are also given an interval newInterval = `[start, end]` that represents the start and end of another interval.\n",
    "\n",
    "Insert newInterval into intervals such that intervals is still sorted in ascending order by starti and intervals still does not have any overlapping intervals (merge overlapping intervals if necessary).\n",
    "\n",
    "Return intervals after the insertion.\n",
    "\n",
    " \n",
    "\n",
    "`Example 1:`\n",
    "\n",
    "Input: intervals = [[1,3],[6,9]], newInterval = [2,5] <br>\n",
    "Output: [[1,5],[6,9]]\n",
    "\n",
    "\n",
    "`Example 2:`\n",
    "\n",
    "Input: intervals = [[1,2],[3,5],[6,7],[8,10],[12,16]], newInterval = [4,8] <br>\n",
    "Output: [[1,2],[3,10],[12,16]] <br>\n",
    "Explanation: Because the new interval [4,8] overlaps with [3,5],[6,7],[8,10].\n",
    " \n",
    "\n",
    "`Constraints:`\n",
    "\n",
    "0 <= intervals.length <= 104 <br>\n",
    "intervals[i].length == 2 <br>\n",
    "0 <= starti <= endi <= 105 <br>\n",
    "intervals is sorted by starti in ascending order. <br>\n",
    "newInterval.length == 2 <br>\n",
    "0 <= start <= end <= 105"
   ]
  },
  {
   "cell_type": "markdown",
   "id": "2fed9d17-816e-4ff6-9245-1f83807229dc",
   "metadata": {},
   "source": [
    "### Approach\n",
    "\n",
    "We can have the followign three cases\n",
    "\n",
    "**Case 1**\n",
    "Where the `start` of new interval is greater than `end` of current interval\n",
    "- In such a case, just append the current interval as is.\n",
    "<img src=\"../assets/insert_interval_1.jpg\" alt=\"Case 1\"> <br>\n",
    "\n",
    "\n",
    "**Case 2**\n",
    "Where the `end` of new interval is less than `start` of current interval\n",
    "- In such a case, just append the current interval as is\n",
    "<img src=\"../assets/insert_interval_2.jpg\" alt=\"Case 2\"> <br>\n",
    "\n",
    "**Case 3**\n",
    "All the other cases are where there is an overlap.\n",
    "- We can solve this case searately by merging the intervals.\n",
    "- We find the `smallest element` and `maximum element`  in the curated intervals + the new interval"
   ]
  },
  {
   "cell_type": "code",
   "execution_count": 37,
   "id": "2707a1a0-322c-4fe9-bdfc-5817014fe6da",
   "metadata": {
    "tags": []
   },
   "outputs": [],
   "source": [
    "from typing import List\n",
    "\n",
    "class Solution:\n",
    "\n",
    "    def merge_intervals(self, intervals, new_interval):\n",
    "        if len(intervals) == 0:\n",
    "            return new_interval\n",
    "        \n",
    "        # make a list of start elements of intervals and find minimum in it\n",
    "        interval_st = [interval[0] for interval in intervals]\n",
    "        min_st = min(interval_st)\n",
    "        min_st = min(min_st, new_interval[0]) # f\n",
    "\n",
    "        # make a list of end elements of intervals and find the maximum\n",
    "        interval_en = [interval[1] for interval in intervals]\n",
    "        max_en = max(interval_en)\n",
    "        max_en = max(max_en, new_interval[1])\n",
    "        return [min_st, max_en]\n",
    "\n",
    "    def insert(self, intervals: List[List[int]], newInterval: List[int]) -> List[List[int]]:\n",
    "        new_s, new_e = newInterval\n",
    "        final_intervals = []\n",
    "        to_merge_intervals = []\n",
    "        \n",
    "        idx = 0\n",
    "        while idx < len(intervals):\n",
    "            st, en = intervals[idx]\n",
    "            if en < new_s:\n",
    "                # no overlap\n",
    "                final_intervals.append([st, en])\n",
    "            elif new_e < st:\n",
    "                # no overlap\n",
    "                final_intervals.append([st, en])\n",
    "            else:\n",
    "                # overlap found\n",
    "                to_merge_intervals.append([st, en])\n",
    "            idx += 1\n",
    "\n",
    "        merged_interval = self.merge_intervals(to_merge_intervals, newInterval)\n",
    "        final_intervals.append(merged_interval)\n",
    "\n",
    "        final_intervals = sorted(final_intervals)\n",
    "        return final_intervals\n"
   ]
  },
  {
   "cell_type": "markdown",
   "id": "4513eb78-9a5c-474e-acec-bf15b1ef31d7",
   "metadata": {},
   "source": [
    "## 35. Merge Intervals\n",
    "\n",
    "[Question Link](https://leetcode.com/problems/merge-intervals/)"
   ]
  },
  {
   "cell_type": "markdown",
   "id": "45ac35e5-5b24-452f-b92d-de10f8160d1d",
   "metadata": {
    "tags": []
   },
   "source": [
    "Given an array of intervals where `intervals[i] = [starti, endi]`, merge all overlapping intervals, and return an array of the non-overlapping intervals that cover all the intervals in the input.\n",
    "\n",
    " \n",
    "\n",
    "`Example 1:`\n",
    "\n",
    "Input: intervals = [[1,3],[2,6],[8,10],[15,18]] <br>\n",
    "Output: [[1,6],[8,10],[15,18]] <br>\n",
    "Explanation: Since intervals [1,3] and [2,6] overlap, merge them into [1,6]. <br>\n",
    "\n",
    "\n",
    "`Example 2:`\n",
    "\n",
    "Input: intervals = [[1,4],[4,5]] <br>\n",
    "Output: [[1,5]] <br>\n",
    "Explanation: Intervals [1,4] and [4,5] are considered overlapping.\n",
    " \n",
    "\n",
    "`Constraints:`\n",
    "\n",
    "1 <= intervals.length <= 10^4 <br>\n",
    "intervals[i].length == 2 <br>\n",
    "0 <= starti <= endi <= 10^4 <br>"
   ]
  },
  {
   "cell_type": "markdown",
   "id": "7e1cdc8d-9966-46c1-8828-368a4cb71985",
   "metadata": {},
   "source": [
    "### APPROACH\n",
    "\n",
    "In this problem we want to process overlapping intervals separately from disjoint intervals\n",
    "<img src=\"../assets/merging_intervals.jpg\" alt=\"Overlapping vs disjoint intervals\"> <br>\n",
    "\n",
    "\n",
    "- Here the intervals are not sorted, sort them by the start point.\n",
    "- To keep the track of current overlapping intervals, maintain a current_cache\n",
    "  - maintain a `running_en` for the maximum running end point.\n",
    "  - If you find a case where the next start of interval is more than current runnign end point\n",
    "    - Merge the running cache\n",
    "    - Reset the cache and the `running_en`\n",
    "  - If this is the last element, then merge the current cache"
   ]
  },
  {
   "cell_type": "code",
   "execution_count": 39,
   "id": "1f5ce323-aa35-457f-a79f-f35c2601222f",
   "metadata": {
    "tags": []
   },
   "outputs": [],
   "source": [
    "from typing import List\n",
    "\n",
    "class Solution:\n",
    "    def merge_intervals(self, intervals: List[List[int]]) -> List[List[int]]:\n",
    "        interval_st = [interval[0] for interval in intervals]\n",
    "        interval_en = [interval[1] for interval in intervals]\n",
    "        return (min(interval_st), max(interval_en))\n",
    "\n",
    "    def merge(self, intervals: List[List[int]]) -> List[List[int]]:\n",
    "        if len(intervals) < 2:\n",
    "            return intervals\n",
    "        \n",
    "        intervals = sorted(intervals, key=lambda x: x[0])\n",
    "        final_intervals = []\n",
    "        current_cache = []\n",
    "        running_en = -1 # to maintain the current runnign max_end point\n",
    "        for i, interval in enumerate(intervals):\n",
    "            cur_st, cur_en = intervals[i]\n",
    "            running_en = max(cur_en, running_en) # update the running end point\n",
    "            current_cache.append(intervals[i]) # insert into runing cache\n",
    "            if i+1 < len(intervals):\n",
    "                next_st, next_en = intervals[i+1]\n",
    "                if running_en < next_st:\n",
    "                    # Two disjoint intervals case\n",
    "                    merged_intervals = self.merge_intervals(current_cache) # merge the current cache\n",
    "                    final_intervals.append(merged_intervals)\n",
    "                    current_cache.clear() # clear the cache\n",
    "                    running_en = -1 # reset the running end point\n",
    "\n",
    "            else:\n",
    "                merged_intervals = self.merge_intervals(current_cache)\n",
    "                final_intervals.append(merged_intervals)\n",
    "            \n",
    "        return final_intervals\n"
   ]
  },
  {
   "cell_type": "markdown",
   "id": "fb293e89-e26b-4280-845e-b53417186e1f",
   "metadata": {},
   "source": [
    "## 36. Non Overlapping Intervals\n",
    "\n",
    "[Question Link](https://leetcode.com/problems/non-overlapping-intervals/)"
   ]
  },
  {
   "cell_type": "markdown",
   "id": "193e6241-ceeb-4707-bd57-905c9e0ac7bd",
   "metadata": {},
   "source": [
    "Given an array of intervals intervals where `intervals[i] = [starti, endi]`, return the minimum number of intervals you need to remove to make the rest of the intervals non-overlapping.\n",
    "\n",
    " \n",
    "\n",
    "`Example 1:`\n",
    "\n",
    "Input: intervals = [[1,2],[2,3],[3,4],[1,3]] <br>\n",
    "Output: 1 <br>\n",
    "Explanation: [1,3] can be removed and the rest of the intervals are non-overlapping.\n",
    "\n",
    "\n",
    "`Example 2:`\n",
    "\n",
    "Input: intervals = [[1,2],[1,2],[1,2]] <br>\n",
    "Output: 2 <br>\n",
    "Explanation: You need to remove two [1,2] to make the rest of the intervals non-overlapping.\n",
    "\n",
    "\n",
    "`Example 3:`\n",
    "\n",
    "Input: intervals = [[1,2],[2,3]] <br>\n",
    "Output: 0 <br>\n",
    "Explanation: You don't need to remove any of the intervals since they're already non-overlapping.\n",
    " \n",
    "\n",
    "`Constraints:`\n",
    "\n",
    "1 <= intervals.length <= 10^5 <br>\n",
    "intervals[i].length == 2 <br>\n",
    "-5 * 10^4 <= starti < endi <= 5 * 10^4"
   ]
  },
  {
   "cell_type": "markdown",
   "id": "80c41474-ae07-42e6-acf2-8ba2d03d96cc",
   "metadata": {},
   "source": [
    "### APPROACH\n",
    "\n",
    "This is complex question which uses memoization, binary search and sorting <br>\n",
    "\n",
    "Here's the rationale:\n",
    "\n",
    "We can keep a node or skip it. if we **keep** an interval `I`, we should remove all the intervals which are intersecting it. <br>\n",
    "If we deicde to **skip** the interval `I`, we just call the recursive function with next node.\n",
    "\n",
    "So, we sort the intervals based on `start` time. We do this so we can use binary search to avoid intervals which have an overlap.\n",
    "\n"
   ]
  },
  {
   "cell_type": "code",
   "execution_count": 35,
   "id": "24792314-9e6f-45df-b592-f2f58fbe219c",
   "metadata": {
    "tags": []
   },
   "outputs": [
    {
     "name": "stdout",
     "output_type": "stream",
     "text": [
      "2\n"
     ]
    }
   ],
   "source": [
    "from functools import lru_cache\n",
    "\n",
    "class Solution:\n",
    "\n",
    "    # lru_cache is used for memoization\n",
    "    @lru_cache(maxsize=None)\n",
    "    def dfs(self, node_idx: int) -> int:\n",
    "        if node_idx >= len(self.intervals):\n",
    "            return 0\n",
    "        \n",
    "        leave = 1 + self.dfs(node_idx + 1)\n",
    "        # keep it, then we need to remove the overlapping intervals with this one\n",
    "        left = node_idx + 1\n",
    "        right = len(self.intervals) - 1\n",
    "        while left <= right:\n",
    "            mid = (left + right) // 2\n",
    "            if self.intervals[mid][0] < self.intervals[node_idx][1]: \n",
    "                # still overlap as start of mid interval is less than end of node_idx interval\n",
    "                left = mid + 1\n",
    "            else:\n",
    "                # no overlap case\n",
    "                right = mid - 1\n",
    "        \n",
    "        # right will be the index\n",
    "        skipped = left - node_idx - 1 # -1 because we don't keep neither the right, nor node_index\n",
    "        take = skipped + self.dfs(left)\n",
    "        return min(leave, take)\n",
    "\n",
    "        \n",
    "            \n",
    "\n",
    "    def eraseOverlapIntervals(self, intervals: List[List[int]]) -> int:\n",
    "        if len(intervals) < 2:\n",
    "            return 0\n",
    "        self.intervals = sorted(intervals, key=lambda x: x[0])\n",
    "        return self.dfs(0)\n",
    "        \n",
    "\n",
    "                    \n",
    "s = Solution()\n",
    "ret = s.eraseOverlapIntervals([ [1,3], [2,5], [4,8], [7, 10], [9, 12]])\n",
    "print(ret)"
   ]
  },
  {
   "cell_type": "markdown",
   "id": "8913f507-0ce5-4747-bf75-6f9e2dbf0cdf",
   "metadata": {},
   "source": [
    "## 37. Meeting Rooms I\n",
    "\n",
    "Tags: easy\n",
    "\n",
    "[Question Link](https://leetcode.com/problems/meeting-rooms/)"
   ]
  },
  {
   "cell_type": "markdown",
   "id": "4c922240-8238-48f3-bcef-c1cae6377005",
   "metadata": {},
   "source": [
    "Given an array of meeting time intervals where `intervals[i] = [starti, endi]`, determine if a person could attend all meetings.\n",
    "\n",
    "\n",
    "`Example 1:`\n",
    "\n",
    "Input: intervals = [[0,30],[5,10],[15,20]] <br>\n",
    "Output: false\n",
    "\n",
    "\n",
    "`Example 2:`\n",
    "\n",
    "Input: intervals = [[7,10],[2,4]] <br>\n",
    "Output: true\n",
    " \n",
    "\n",
    "`Constraints:`\n",
    "\n",
    "0 <= intervals.length <= 10^4 <br>\n",
    "intervals[i].length == 2 <br>\n",
    "0 <= starti < endi <= 10^6"
   ]
  },
  {
   "cell_type": "markdown",
   "id": "7dfb853a-478e-4b2f-a356-7225253924c9",
   "metadata": {},
   "source": [
    "### APPROACH\n",
    "\n",
    "- To attend the meetings, the intervals should have no overlap (intervals ending and other interval starting at the same time is accepted)\n",
    "- Sort the intervals wrt start time\n",
    "- If the running end time of meeting is more than the start time of an incoming meeting interval, \n",
    "  - This arrangement can't be made: False"
   ]
  },
  {
   "cell_type": "code",
   "execution_count": 43,
   "id": "e83a917c-69fc-41c0-a176-2161b955c0b3",
   "metadata": {
    "tags": []
   },
   "outputs": [
    {
     "name": "stdout",
     "output_type": "stream",
     "text": [
      "Can attend meetings: False\n",
      "Can attend meetings: True\n"
     ]
    }
   ],
   "source": [
    "from typing import List\n",
    "\n",
    "class Solution:\n",
    "    \n",
    "    def canAttendMeetings(self, intervals: List[List[int]]) -> bool:\n",
    "        if len(intervals) < 2:\n",
    "            return True\n",
    "        intervals = sorted(intervals)\n",
    "        running_en = -1\n",
    "        for st, en in intervals:\n",
    "            if st >= running_en:\n",
    "                running_en = max(running_en, en)\n",
    "                continue\n",
    "            if st < running_en:\n",
    "                return False\n",
    "        \n",
    "        return True\n",
    "    \n",
    "s = Solution()\n",
    "ret = s.canAttendMeetings(intervals = [[0,30],[5,10],[15,20]])\n",
    "print(f\"Can attend meetings: {ret}\")\n",
    "\n",
    "s = Solution()\n",
    "ret = s.canAttendMeetings(intervals = [[7,10],[2,4]])\n",
    "print(f\"Can attend meetings: {ret}\")"
   ]
  },
  {
   "cell_type": "markdown",
   "id": "52e28030-c73b-465b-a37f-83db36c2f232",
   "metadata": {},
   "source": [
    "## 38. Meeting Rooms II\n",
    "\n",
    "[Question Link](https://leetcode.com/problems/meeting-rooms-ii/)"
   ]
  },
  {
   "cell_type": "markdown",
   "id": "ea1c7c52-ac39-4974-b3de-a0df33545933",
   "metadata": {},
   "source": [
    "Given an array of meeting time intervals intervals where `intervals[i] = [starti, endi]`, return the minimum number of conference rooms required.\n",
    "\n",
    " \n",
    "\n",
    "`Example 1:`\n",
    "\n",
    "Input: intervals = [[0,30],[5,10],[15,20]]  <br>\n",
    "Output: 2\n",
    "\n",
    "`Example 2:`\n",
    "\n",
    "Input: intervals = [[7,10],[2,4]]  <br>\n",
    "Output: 1\n",
    " \n",
    "\n",
    "`Constraints:`\n",
    "\n",
    "1 <= intervals.length <= 10^4  <br>\n",
    "0 <= starti < endi <= 10^6"
   ]
  },
  {
   "cell_type": "markdown",
   "id": "780c0eba-159a-4e7d-8ace-8628b9d79dad",
   "metadata": {},
   "source": [
    "### APPROACH\n",
    "\n",
    "This problem involves using a **heap/min-priority queue**. \n",
    "\n",
    "- Sort the intervals wrt starting time\n",
    "- At a given time, we want to know how many intervals are active\n",
    "  - For this, if we know how many intervals have their `end time` more than the `start time` of current interval, our job is done.\n",
    "  - We maintain a heap for this\n",
    "  - We want to know the maximum conflict zone (where the max concurrent meetings are happening) to get the minimum number of rooms needed.\n",
    "- When a new interval comes, we remove all the intervals from the active set which have expired\n",
    "- We take into account the current max room requirement and update it with the size of concurrent meeting set."
   ]
  },
  {
   "cell_type": "code",
   "execution_count": 48,
   "id": "1518c4aa-1446-42c1-8b53-1472873b3811",
   "metadata": {
    "tags": []
   },
   "outputs": [
    {
     "name": "stdout",
     "output_type": "stream",
     "text": [
      "Minimum meeting rooms: 2\n",
      "Minimum meeting rooms: 1\n",
      "Minimum meeting rooms: 2\n"
     ]
    }
   ],
   "source": [
    "from typing import List\n",
    "\n",
    "class Solution:\n",
    "\n",
    "    def minMeetingRooms(self, intervals: List[List[int]]) -> int:\n",
    "        if len(intervals) <2:\n",
    "            return len(intervals)\n",
    "        intervals = sorted(intervals)\n",
    "        active_set = set()\n",
    "        rooms = 0\n",
    "        for st, en in intervals:\n",
    "            if len(active_set) == 0:\n",
    "                active_set.add(en)\n",
    "                rooms +=1\n",
    "                continue\n",
    "            \n",
    "            marked_to_remove = []\n",
    "            for elem in active_set:\n",
    "                if elem <= st:\n",
    "                    marked_to_remove.append(elem)\n",
    "                    \n",
    "            active_set.add(en)\n",
    "            for elem in marked_to_remove:        \n",
    "                active_set.remove(elem)\n",
    "            \n",
    "            rooms = max(rooms, len(active_set))\n",
    "            \n",
    "        return rooms\n",
    "    \n",
    "s = Solution()\n",
    "ret = s.minMeetingRooms(intervals = [[0,30],[5,10],[15,20]])\n",
    "print(f\"Minimum meeting rooms: {ret}\")\n",
    "\n",
    "s = Solution()\n",
    "ret = s.minMeetingRooms(intervals = [[7,10],[2,4]])\n",
    "print(f\"Minimum meeting rooms: {ret}\")\n",
    "\n",
    "s = Solution()\n",
    "ret = s.minMeetingRooms(intervals = [[1,3],[2,6],[8,10],[15,18]])\n",
    "print(f\"Minimum meeting rooms: {ret}\")\n"
   ]
  },
  {
   "cell_type": "code",
   "execution_count": 50,
   "id": "e496a639-f9b3-4513-9b5c-4182ba8b670f",
   "metadata": {
    "tags": []
   },
   "outputs": [
    {
     "name": "stdout",
     "output_type": "stream",
     "text": [
      "Minimum meeting rooms: 2\n",
      "Minimum meeting rooms: 1\n",
      "Minimum meeting rooms: 2\n"
     ]
    }
   ],
   "source": [
    "### Solution using Heap\n",
    "\n",
    "from typing import List\n",
    "import heapq\n",
    "\n",
    "\n",
    "class Solution:\n",
    "\n",
    "    def minMeetingRooms(self, intervals: List[List[int]]) -> int:\n",
    "        if len(intervals) <2:\n",
    "            return len(intervals)\n",
    "        intervals = sorted(intervals)\n",
    "        active = []\n",
    "        heapq.heapify(active)\n",
    "        rooms = 0\n",
    "        for st, en in intervals:\n",
    "            if len(active) == 0:\n",
    "                heapq.heappush(active, en)\n",
    "                rooms = 1\n",
    "                continue\n",
    "            while len(active) > 0 and active[0] < st:\n",
    "                heapq.heappop(active)\n",
    "            heapq.heappush(active, en)\n",
    "            rooms = max(rooms, len(active))\n",
    "        return rooms\n",
    "    \n",
    "s = Solution()\n",
    "ret = s.minMeetingRooms(intervals = [[0,30],[5,10],[15,20]])\n",
    "print(f\"Minimum meeting rooms: {ret}\")\n",
    "\n",
    "s = Solution()\n",
    "ret = s.minMeetingRooms(intervals = [[7,10],[2,4]])\n",
    "print(f\"Minimum meeting rooms: {ret}\")\n",
    "\n",
    "s = Solution()\n",
    "ret = s.minMeetingRooms(intervals = [[1,3],[2,6],[8,10],[15,18]])\n",
    "print(f\"Minimum meeting rooms: {ret}\")"
   ]
  },
  {
   "cell_type": "markdown",
   "id": "431cd811-0349-4aac-9aab-1be3487c4a1b",
   "metadata": {
    "tags": [],
    "toc-hr-collapsed": true
   },
   "source": [
    "# Concept 6: Linked List"
   ]
  },
  {
   "cell_type": "markdown",
   "id": "bad449ed-7413-4966-9a1f-27667a4ea003",
   "metadata": {},
   "source": [
    "## 39: Reverse a Linked List\n",
    "\n",
    "[Question Linl](https://leetcode.com/problems/reverse-linked-list/)"
   ]
  },
  {
   "cell_type": "markdown",
   "id": "41140ee8-6c8b-4a05-91a0-b73e91854ac3",
   "metadata": {},
   "source": [
    "Given the head of a singly linked list, reverse the list, and return the reversed list.\n",
    "\n",
    " \n",
    "\n",
    "`Example 1:`\n",
    "\n",
    "Input: head = [1,2,3,4,5] <br>\n",
    "Output: [5,4,3,2,1]\n",
    "\n",
    "\n",
    "`Example 2:`\n",
    "\n",
    "Input: head = [1,2] <br>\n",
    "Output: [2,1]\n",
    "\n",
    "\n",
    "`Example 3:`\n",
    "\n",
    "Input: head = [ ] <br>\n",
    "Output: []\n",
    " \n",
    "\n",
    "`Constraints:`\n",
    "\n",
    "The number of nodes in the list is the range [0, 5000].  <br>\n",
    "-5000 <= Node.val <= 5000\n",
    " \n",
    "\n",
    "Follow up: A linked list can be reversed either iteratively or recursively. Could you implement both?"
   ]
  },
  {
   "cell_type": "markdown",
   "id": "de007f9b-32b1-403b-a39a-641ea03c9a91",
   "metadata": {},
   "source": [
    "### APPROACH"
   ]
  },
  {
   "cell_type": "code",
   "execution_count": 37,
   "id": "18ec2d39-0f51-4b2c-9e5e-e21494b2e4e9",
   "metadata": {
    "tags": []
   },
   "outputs": [],
   "source": [
    "# Definition for singly-linked list.\n",
    "# class ListNode(object):\n",
    "#     def __init__(self, val=0, next=None):\n",
    "#         self.val = val\n",
    "#         self.next = next\n",
    "\n",
    "class Solution(object):\n",
    "    def reverseList(self, head):\n",
    "        \"\"\"\n",
    "        :type head: ListNode\n",
    "        :rtype: ListNode\n",
    "        \"\"\"\n",
    "        if head:\n",
    "            cur = head\n",
    "            prev = None\n",
    "            while cur != None:\n",
    "                temp = cur.next\n",
    "                cur.next = prev\n",
    "                prev = cur\n",
    "                cur = temp\n",
    "            head = prev\n",
    "            return head"
   ]
  },
  {
   "cell_type": "markdown",
   "id": "ecaf85f5-caa3-46a0-904e-f5d0e5531892",
   "metadata": {},
   "source": [
    "## 40: Linked List Cycle\n",
    "\n",
    "[Question Link](https://leetcode.com/problems/linked-list-cycle/)\n",
    "\n"
   ]
  },
  {
   "cell_type": "raw",
   "id": "2035ae93-17a4-4561-bf1a-97ee0b4d9e4d",
   "metadata": {},
   "source": [
    "Given head, the head of a linked list, determine if the linked list has a cycle in it.\n",
    "\n",
    "There is a cycle in a linked list if there is some node in the list that can be reached again by continuously following the next pointer. Internally, pos is used to denote the index of the node that tail's next pointer is connected to. Note that pos is not passed as a parameter.\n",
    "\n",
    "Return true if there is a cycle in the linked list. Otherwise, return false.\n",
    "\n",
    " \n",
    "\n",
    "Example 1:\n",
    "\n",
    "Input: head = [3,2,0,-4], pos = 1\n",
    "Output: true\n",
    "Explanation: There is a cycle in the linked list, where the tail connects to the 1st node (0-indexed).\n",
    "\n",
    "\n",
    "Example 2:\n",
    "\n",
    "Input: head = [1,2], pos = 0\n",
    "Output: true\n",
    "Explanation: There is a cycle in the linked list, where the tail connects to the 0th node.\n",
    "\n",
    "\n",
    "Example 3:\n",
    "\n",
    "Input: head = [1], pos = -1\n",
    "Output: false\n",
    "Explanation: There is no cycle in the linked list.\n",
    " \n",
    "\n",
    "Constraints:\n",
    "\n",
    "The number of the nodes in the list is in the range [0, 104].\n",
    "-105 <= Node.val <= 105\n",
    "pos is -1 or a valid index in the linked-list.\n",
    " \n",
    "\n",
    "Follow up: Can you solve it using O(1) (i.e. constant) memory?"
   ]
  },
  {
   "cell_type": "markdown",
   "id": "c075ff01-3597-415a-8ac4-ef971d5a6e1f",
   "metadata": {},
   "source": [
    "### APPROACH"
   ]
  },
  {
   "cell_type": "code",
   "execution_count": 38,
   "id": "a266371f-fd77-4ed3-9e4a-2335c61624c6",
   "metadata": {
    "tags": []
   },
   "outputs": [],
   "source": [
    "# Definition for singly-linked list.\n",
    "# class ListNode(object):\n",
    "#     def __init__(self, x):\n",
    "#         self.val = x\n",
    "#         self.next = None\n",
    "\n",
    "class Solution(object):\n",
    "    def hasCycle(self, head):\n",
    "        \"\"\"\n",
    "        :type head: ListNode\n",
    "        :rtype: bool\n",
    "        \"\"\"\n",
    "        if head:\n",
    "            slowptr = head\n",
    "            fastptr = head\n",
    "            while fastptr != None:\n",
    "                slowptr = slowptr.next\n",
    "                if fastptr.next is None or fastptr.next.next is None:\n",
    "                    fastptr = None\n",
    "                else:\n",
    "                    fastptr = fastptr.next.next\n",
    "                if slowptr == fastptr:\n",
    "                    break\n",
    "                \n",
    "            \n",
    "            if slowptr == fastptr and fastptr != None:\n",
    "                return True\n",
    "            return False\n",
    "        \n",
    "\n",
    "\n",
    "        "
   ]
  },
  {
   "cell_type": "markdown",
   "id": "cc57876d-a7f1-41e7-872a-52df9b246851",
   "metadata": {},
   "source": [
    "## 41: Merge Two sorted Lists\n",
    "\n",
    "[Question Link](https://leetcode.com/problems/merge-two-sorted-lists/)\n",
    "        "
   ]
  },
  {
   "cell_type": "markdown",
   "id": "cf8b03bd-293d-45d7-a2ce-684829d53a7d",
   "metadata": {
    "tags": []
   },
   "source": [
    "<img src = \"../assets/merge_ex1.jpg\">"
   ]
  },
  {
   "cell_type": "raw",
   "id": "d9f535d9-24de-49d6-8921-e1d99beba78e",
   "metadata": {},
   "source": [
    "You are given the heads of two sorted linked lists list1 and list2.\n",
    "\n",
    "Merge the two lists in a one sorted list. The list should be made by splicing together the nodes of the first two lists.\n",
    "\n",
    "Return the head of the merged linked list.\n",
    "\n",
    " \n",
    "\n",
    "Example 1:\n",
    "\n",
    "\n",
    "Input: list1 = [1,2,4], list2 = [1,3,4]\n",
    "Output: [1,1,2,3,4,4]\n",
    "Example 2:\n",
    "\n",
    "Input: list1 = [], list2 = []\n",
    "Output: []\n",
    "Example 3:\n",
    "\n",
    "Input: list1 = [], list2 = [0]\n",
    "Output: [0]\n",
    " \n",
    "\n",
    "Constraints:\n",
    "\n",
    "1. The number of nodes in both lists is in the range [0, 50].\n",
    "2. -100 <= Node.val <= 100\n",
    "3. Both list1 and list2 are sorted in non-decreasing order."
   ]
  },
  {
   "cell_type": "markdown",
   "id": "9d45de2d-c6df-476c-a83c-809749f8ccee",
   "metadata": {},
   "source": [
    "### APPROACH"
   ]
  },
  {
   "cell_type": "code",
   "execution_count": 39,
   "id": "fa82afc3-e054-4ff4-9e5d-c5635fd1e476",
   "metadata": {
    "tags": []
   },
   "outputs": [],
   "source": [
    "# Definition for singly-linked list.\n",
    "# class ListNode(object):\n",
    "#     def __init__(self, val=0, next=None):\n",
    "#         self.val = val\n",
    "#         self.next = next\n",
    "class Solution(object):\n",
    "    def mergeTwoLists(self, list1, list2):\n",
    "        \"\"\"\n",
    "        :type list1: Optional[ListNode]\n",
    "        :type list2: Optional[ListNode]\n",
    "        :rtype: Optional[ListNode]\n",
    "        \"\"\"\n",
    "        if list1 and list2 is None:\n",
    "            return list1\n",
    "        if list2 and list1 is None:\n",
    "            return list2\n",
    "        if list2 is None and list1 is None:\n",
    "            return None\n",
    "        ptr1 = list1\n",
    "        ptr2 = list2\n",
    "        mergehead = ptr2\n",
    "        if ptr1.val < ptr2.val:\n",
    "            mergehead = ptr1\n",
    "            ptr1 = ptr1.next\n",
    "        else:\n",
    "            mergehead = ptr2\n",
    "            ptr2 = ptr2.next\n",
    "        cur = mergehead\n",
    "        while ptr1 != None and ptr2 != None: # both not None needed\n",
    "            while ptr1 and ptr2 and ptr1.val < ptr2.val:\n",
    "                cur.next = ptr1\n",
    "                cur = cur.next\n",
    "                ptr1 = ptr1.next\n",
    "            while ptr1 and ptr2 and ptr2.val < ptr1.val :\n",
    "                cur.next = ptr2\n",
    "                cur = cur.next\n",
    "                ptr2 = ptr2.next\n",
    "\n",
    "            if ptr1 and ptr2 and ptr1.val == ptr2.val:\n",
    "                cur.next = ptr1\n",
    "                ptr1 = ptr1.next\n",
    "                cur.next.next = ptr2\n",
    "                cur = cur.next.next\n",
    "                ptr2 = ptr2.next\n",
    "                \n",
    "        if ptr1 is None:\n",
    "            cur.next = ptr2\n",
    "        else:\n",
    "            cur.next = ptr1\n",
    "        return mergehead\n",
    "\n"
   ]
  },
  {
   "cell_type": "markdown",
   "id": "a24f4eb1-70af-4097-aa30-b9a8a76daae5",
   "metadata": {},
   "source": [
    "## 42. Merge K sorted Lists\n",
    "\n",
    "\n",
    "[Question Link](https://leetcode.com/problems/merge-k-sorted-lists/)"
   ]
  },
  {
   "cell_type": "raw",
   "id": "48ac1455-6665-4ae4-83ef-7a2d35f3991f",
   "metadata": {},
   "source": [
    "You are given an array of k linked-lists lists, each linked-list is sorted in ascending order.\n",
    "\n",
    "Merge all the linked-lists into one sorted linked-list and return it.\n",
    "\n",
    " \n",
    "\n",
    "Example 1:\n",
    "\n",
    "Input: lists = [[1,4,5],[1,3,4],[2,6]]\n",
    "Output: [1,1,2,3,4,4,5,6]\n",
    "Explanation: The linked-lists are:\n",
    "[\n",
    "  1->4->5,\n",
    "  1->3->4,\n",
    "  2->6\n",
    "]\n",
    "merging them into one sorted list:\n",
    "1->1->2->3->4->4->5->6\n",
    "Example 2:\n",
    "\n",
    "Input: lists = []\n",
    "Output: []\n",
    "Example 3:\n",
    "\n",
    "Input: lists = [[]]\n",
    "Output: []\n",
    " \n",
    "\n",
    "Constraints:\n",
    "\n",
    "k == lists.length\n",
    "0 <= k <= 104\n",
    "0 <= lists[i].length <= 500\n",
    "-104 <= lists[i][j] <= 104\n",
    "lists[i] is sorted in ascending order.\n",
    "The sum of lists[i].length will not exceed 104."
   ]
  },
  {
   "cell_type": "markdown",
   "id": "a4808a00-8e6a-4d9e-91f4-dcad5cb55849",
   "metadata": {},
   "source": [
    "### APPROACH"
   ]
  },
  {
   "cell_type": "code",
   "execution_count": 40,
   "id": "c57b4bf3-9003-4abf-8f4d-ba859fd11e26",
   "metadata": {
    "tags": []
   },
   "outputs": [],
   "source": [
    "# Definition for singly-linked list.\n",
    "# class ListNode(object):\n",
    "#     def __init__(self, val=0, next=None):\n",
    "#         self.val = val\n",
    "#         self.next = next\n",
    "\n",
    "class Solution(object):\n",
    "\n",
    "    def merge2SortedLists(self, list1, list2):\n",
    "        if list1 is None:\n",
    "            return list2\n",
    "        if list2 is None:\n",
    "            return list1\n",
    "        ptr1 = list1\n",
    "        ptr2 = list2\n",
    "        mergehead = list1\n",
    "        if ptr2.val < ptr1.val:\n",
    "            mergehead = ptr2\n",
    "            ptr2 = ptr2.next\n",
    "        else:\n",
    "            ptr1 = ptr1.next\n",
    "        cur = mergehead\n",
    "        while ptr1 and ptr2:\n",
    "            while ptr1 and ptr2 and ptr1.val <= ptr2.val:\n",
    "                cur.next = ptr1\n",
    "                cur = cur.next\n",
    "                ptr1 = ptr1.next\n",
    "            while ptr1 and ptr2 and ptr2.val <= ptr1.val:\n",
    "                cur.next = ptr2\n",
    "                cur = cur.next\n",
    "                ptr2 = ptr2.next\n",
    "        if ptr1:\n",
    "            cur.next = ptr1\n",
    "        else:\n",
    "            cur.next = ptr2\n",
    "        return mergehead\n",
    "\n",
    "\n",
    "    def mergeKLists(self, lists):\n",
    "        \"\"\"\n",
    "        :type lists: List[ListNode]\n",
    "        :rtype: ListNode\n",
    "        \"\"\"\n",
    "        print(len(lists))\n",
    "        if len(lists) == 0:\n",
    "            return None\n",
    "        elif len(lists) == 1:\n",
    "            return lists[0]\n",
    "        elif len(lists) == 2:\n",
    "            head = self.merge2SortedLists(lists[0], lists[1])\n",
    "            print(\"HEAD: \", head)\n",
    "            return head\n",
    "        else:\n",
    "            L = int(len(lists)/2)\n",
    "            return self.merge2SortedLists(\n",
    "                    self.mergeKLists(lists[0: L]),\n",
    "                    self.mergeKLists(lists[L:])\n",
    "                    )\n",
    "        "
   ]
  },
  {
   "cell_type": "markdown",
   "id": "33ff047a-3d0a-4ec0-a4d0-1a98085b1298",
   "metadata": {},
   "source": [
    "## 43. Remove Nth Node From End of List\n",
    "\n",
    "[Question Link](https://leetcode.com/problems/remove-nth-node-from-end-of-list/description/)"
   ]
  },
  {
   "cell_type": "markdown",
   "id": "c71a357d-e48a-4452-ae86-7cd013e04a64",
   "metadata": {},
   "source": [
    "![Example 1](\"../assets/remove_ex1.jpg\")"
   ]
  },
  {
   "cell_type": "raw",
   "id": "5f847fad-634c-4b0b-9c6c-c303f6fb97de",
   "metadata": {},
   "source": [
    "Given the head of a linked list, remove the nth node from the end of the list and return its head.\n",
    "\n",
    " \n",
    "\n",
    "Example 1:\n",
    "\n",
    "Input: head = [1,2,3,4,5], n = 2\n",
    "Output: [1,2,3,5]\n",
    "\n",
    "\n",
    "Example 2:\n",
    "\n",
    "Input: head = [1], n = 1\n",
    "Output: []\n",
    "\n",
    "\n",
    "Example 3:\n",
    "\n",
    "Input: head = [1,2], n = 1\n",
    "Output: [1]\n",
    " \n",
    "\n",
    "Constraints:\n",
    "\n",
    "The number of nodes in the list is sz.\n",
    "1 <= sz <= 30\n",
    "0 <= Node.val <= 100\n",
    "1 <= n <= sz\n",
    " \n",
    "\n",
    "Follow up: Could you do this in one pass?"
   ]
  },
  {
   "cell_type": "markdown",
   "id": "86b8c578-9e02-4b2d-a8ca-09dab7319052",
   "metadata": {},
   "source": [
    "### APPROACH"
   ]
  },
  {
   "cell_type": "code",
   "execution_count": 41,
   "id": "e0a05164-ad45-4f15-91a7-61ff1de94378",
   "metadata": {
    "tags": []
   },
   "outputs": [],
   "source": [
    "# Definition for singly-linked list.\n",
    "# class ListNode(object):\n",
    "#     def __init__(self, val=0, next=None):\n",
    "#         self.val = val\n",
    "#         self.next = next\n",
    "class Solution(object):\n",
    "    def removeNthFromEnd(self, head, n):\n",
    "        \"\"\"\n",
    "        :type head: ListNode\n",
    "        :type n: int\n",
    "        :rtype: ListNode\n",
    "        \"\"\"\n",
    "        ptr1 = head\n",
    "        ptr2 = head\n",
    "        while ptr1 != None and n > 0:\n",
    "            ptr1 = ptr1.next\n",
    "            n-=1\n",
    "        if ptr1:\n",
    "            prev = None\n",
    "            while ptr1 != None:\n",
    "                prev = ptr2\n",
    "                ptr2 = ptr2.next\n",
    "                ptr1 = ptr1.next\n",
    "            prev.next = ptr2.next\n",
    "        else:\n",
    "            head = head.next\n",
    "        return head\n",
    "            \n"
   ]
  },
  {
   "cell_type": "markdown",
   "id": "34e9aa9b-6adb-4ce0-aa6a-d4c32377b839",
   "metadata": {},
   "source": [
    "## 44. Reorder List\n",
    "\n",
    "[Question Link](https://leetcode.com/problems/reorder-list/description/)"
   ]
  },
  {
   "cell_type": "markdown",
   "id": "45e5279d-ae28-4a79-bcca-5882274d64c9",
   "metadata": {},
   "source": [
    "![Example 1](\"../assets/reorder1linked-list.jpg\") <br>\n",
    "![Example 2](\"../assets/reorder2-linked-list.jpg\")"
   ]
  },
  {
   "cell_type": "raw",
   "id": "7adb4266-1cf2-4523-8965-77ac1fb1986a",
   "metadata": {
    "tags": []
   },
   "source": [
    "You are given the head of a singly linked-list. The list can be represented as:\n",
    "\n",
    "L0 → L1 → … → Ln - 1 → Ln\n",
    "Reorder the list to be on the following form:\n",
    "\n",
    "L0 → Ln → L1 → Ln - 1 → L2 → Ln - 2 → …\n",
    "You may not modify the values in the list's nodes. Only nodes themselves may be changed.\n",
    "\n",
    " \n",
    "\n",
    "Example 1:\n",
    "\n",
    "Input: head = [1,2,3,4]\n",
    "Output: [1,4,2,3]\n",
    "\n",
    "\n",
    "Example 2:\n",
    "\n",
    "Input: head = [1,2,3,4,5]\n",
    "Output: [1,5,2,4,3]\n",
    " \n",
    "\n",
    "Constraints:\n",
    "\n",
    "The number of nodes in the list is in the range [1, 5 * 104].\n",
    "1 <= Node.val <= 1000"
   ]
  },
  {
   "cell_type": "markdown",
   "id": "46cbffde-5ee8-4f3e-a899-85f839885bf7",
   "metadata": {
    "tags": []
   },
   "source": [
    "### APPROACH"
   ]
  },
  {
   "cell_type": "code",
   "execution_count": 42,
   "id": "85bce010-54b0-4f56-ac31-a74d69e9d87d",
   "metadata": {
    "tags": []
   },
   "outputs": [],
   "source": [
    "# Definition for singly-linked list.\n",
    "# class ListNode(object):\n",
    "#     def __init__(self, val=0, next=None):\n",
    "#         self.val = val\n",
    "#         self.next = next\n",
    "class Solution(object):\n",
    "\n",
    "    def reverseList(self, head):\n",
    "        if head:\n",
    "            if head.next is None:\n",
    "                return head\n",
    "            prev = None\n",
    "            cur = head\n",
    "            while cur != None:\n",
    "                temp = cur.next\n",
    "                cur.next = prev\n",
    "                prev = cur\n",
    "                cur = temp\n",
    "            head = prev\n",
    "            return head\n",
    "\n",
    "    def reorderList(self, head):\n",
    "        \"\"\"\n",
    "        :type head: ListNode\n",
    "        :rtype: None Do not return anything, modify head in-place instead.\n",
    "        \"\"\"\n",
    "        # Fidn the middle of the Linked list\n",
    "        # Reverse the latter half\n",
    "        # Join the two lists one from each \n",
    "        if head:\n",
    "            if head.next is None or head.next.next is None:\n",
    "                return head\n",
    "\n",
    "            ptr = head\n",
    "            mid = head\n",
    "            prev = None\n",
    "            while ptr != None and ptr.next != None:\n",
    "                if ptr.next:\n",
    "                    ptr = ptr.next.next\n",
    "                else:\n",
    "                    break\n",
    "                prev = mid\n",
    "                mid = mid.next\n",
    "\n",
    "            prev.next = None\n",
    "            rev = self.reverseList(mid)\n",
    "            ptr1 = head\n",
    "            ptr2 = rev\n",
    "            cur = ptr1\n",
    "            ptr1 = ptr1.next\n",
    "            while ptr1 and ptr2:\n",
    "                cur.next = ptr2\n",
    "                ptr2 = ptr2.next\n",
    "                cur.next.next = ptr1\n",
    "                ptr1 = ptr1.next\n",
    "                cur = cur.next.next\n",
    "            if ptr1:\n",
    "                cur.next = ptr1\n",
    "            else:\n",
    "                cur.next = ptr2\n",
    "            return head\n",
    "                \n",
    "            \n",
    "\n",
    "\n",
    "\n"
   ]
  },
  {
   "cell_type": "markdown",
   "id": "b8ef2339-6518-409a-892b-eda27a3d03b1",
   "metadata": {
    "tags": [],
    "toc-hr-collapsed": true
   },
   "source": [
    "# Concept 7: Matrix"
   ]
  },
  {
   "cell_type": "markdown",
   "id": "bd4d9f4f-a507-4d09-a2ec-057ee9942af8",
   "metadata": {
    "tags": []
   },
   "source": [
    "## 45. Set Matrix Zeroes\n",
    "\n",
    "[Question Link](https://leetcode.com/problems/set-matrix-zeroes/)"
   ]
  },
  {
   "cell_type": "markdown",
   "id": "00d8d5f9-fe4d-453d-8531-59947d718e77",
   "metadata": {},
   "source": [
    "**Example 1:**\n",
    "\n",
    "<img src=\"../assets/mat1.jpg\" alt=\"Example 1\"> <br>\n",
    "\n",
    "**Example 2:**\n",
    "\n",
    "<img src=\"../assets/mat2.jpg\" alt=\"Example 2\"> <br>\n"
   ]
  },
  {
   "cell_type": "raw",
   "id": "43bc72fb-3294-41fb-b070-da21c4f9b65b",
   "metadata": {},
   "source": [
    "Given an m x n integer matrix matrix, if an element is 0, set its entire row and column to 0's.\n",
    "\n",
    "You must do it in place.\n",
    "\n",
    " \n",
    "\n",
    "Example 1:\n",
    "\n",
    "Input: matrix = [[1,1,1],[1,0,1],[1,1,1]]\n",
    "Output: [[1,0,1],[0,0,0],[1,0,1]]\n",
    "\n",
    "\n",
    "Example 2:\n",
    "\n",
    "Input: matrix = [[0,1,2,0],[3,4,5,2],[1,3,1,5]]\n",
    "Output: [[0,0,0,0],[0,4,5,0],[0,3,1,0]]\n",
    " \n",
    "\n",
    "Constraints:\n",
    "\n",
    "m == matrix.length\n",
    "n == matrix[0].length\n",
    "1 <= m, n <= 200\n",
    "-231 <= matrix[i][j] <= 231 - 1\n",
    " \n",
    "\n",
    "Follow up:\n",
    "\n",
    "A straightforward solution using O(mn) space is probably a bad idea.\n",
    "A simple improvement uses O(m + n) space, but still not the best solution.\n",
    "Could you devise a constant space solution?\n"
   ]
  },
  {
   "cell_type": "markdown",
   "id": "d644fc2b-85bf-4ee2-8382-8508447369cf",
   "metadata": {
    "tags": []
   },
   "source": [
    "### APPROACH"
   ]
  },
  {
   "cell_type": "code",
   "execution_count": 43,
   "id": "f66680b7-45f3-494a-8c00-4008ba1a06eb",
   "metadata": {
    "tags": []
   },
   "outputs": [],
   "source": [
    "class Solution:\n",
    "    def setZeroes(self, matrix: List[List[int]]):\n",
    "        \"\"\"\n",
    "        Do not return anything, modify matrix in-place instead.\n",
    "        \"\"\"    \n",
    "        n = len(matrix)\n",
    "        m = len(matrix[0])\n",
    "\n",
    "        # THe first row and first col of a mtrix is reserved as an indicator.\n",
    "        # If the value is zero, then it means, we will set row or columns to zero respectively\n",
    "        first_row = -1\n",
    "        first_col = -1\n",
    "        for i in range(n):\n",
    "            for j in range(m):\n",
    "                if matrix[i][j] == 0:\n",
    "                    if i == 0:\n",
    "                        first_row = 0\n",
    "                    if j == 0:\n",
    "                        first_col = 0\n",
    "                    matrix[i][0] = 0\n",
    "                    matrix[0][j] = 0\n",
    "\n",
    "        # Start loop from 1, as I don't want to corrupt the values of my indicator columns\n",
    "        # I will handle them separately\n",
    "        for i in range(1, n):\n",
    "            if matrix[i][0] == 0:\n",
    "                for j in range(m):\n",
    "                    matrix[i][j] = 0\n",
    "\n",
    "        for j in range(1, m):\n",
    "            if matrix[0][j] == 0:\n",
    "                for i in range(n):\n",
    "                    matrix[i][j] = 0\n",
    "\n",
    "       \n",
    "        # Handling case of first row or first columns to be completely zero\n",
    "        if first_row == 0:\n",
    "            for j in range(m):\n",
    "                matrix[0][j] = 0\n",
    "        if first_col == 0:\n",
    "            for i in range(n):\n",
    "                matrix[i][0] = 0\n",
    "        "
   ]
  },
  {
   "cell_type": "code",
   "execution_count": 44,
   "id": "470de390-6c03-495b-8148-7b2f7bbfdba4",
   "metadata": {
    "tags": []
   },
   "outputs": [
    {
     "name": "stdout",
     "output_type": "stream",
     "text": [
      "[[1, 0, 1], [0, 0, 0], [1, 0, 1]]\n"
     ]
    }
   ],
   "source": [
    "s = Solution()\n",
    "matrix = [[1,1,1],[1,0,1],[1,1,1]]\n",
    "s.setZeroes(matrix)\n",
    "print(matrix)"
   ]
  },
  {
   "cell_type": "markdown",
   "id": "5c2e23db-811e-4814-a0e1-88f79837fa47",
   "metadata": {},
   "source": [
    "## 46. Spiral Matrix\n",
    "\n",
    "[Question Link](https://leetcode.com/problems/spiral-matrix/)"
   ]
  },
  {
   "cell_type": "markdown",
   "id": "3de30fd3-f832-48c7-9177-efd889df2bd0",
   "metadata": {},
   "source": [
    "**Example 1:**\n",
    "\n",
    "<img src=\"../assets/spiral1.jpg\" alt=\"Example 1\"> <br>\n",
    "\n",
    "**Example 2:**\n",
    "\n",
    "<img src=\"../assets/spiral2.jpg\" alt=\"Example 2\"> <br>\n",
    "\n"
   ]
  },
  {
   "cell_type": "raw",
   "id": "4b22be6f-4786-44b9-9a1e-eed241508a6f",
   "metadata": {},
   "source": [
    "Given an m x n matrix, return all elements of the matrix in spiral order.\n",
    "\n",
    " \n",
    "\n",
    "Example 1:\n",
    "\n",
    "Input: matrix = [[1,2,3],[4,5,6],[7,8,9]]\n",
    "Output: [1,2,3,6,9,8,7,4,5]\n",
    "\n",
    "\n",
    "Example 2:\n",
    "\n",
    "Input: matrix = [[1,2,3,4],[5,6,7,8],[9,10,11,12]]\n",
    "Output: [1,2,3,4,8,12,11,10,9,5,6,7]\n",
    " \n",
    "\n",
    "Constraints:\n",
    "\n",
    "m == matrix.length\n",
    "n == matrix[i].length\n",
    "1 <= m, n <= 10\n",
    "-100 <= matrix[i][j] <= 100"
   ]
  },
  {
   "cell_type": "markdown",
   "id": "e6d80b80-18b2-4287-b78e-1f54ce865bbc",
   "metadata": {},
   "source": [
    "### APPROACH\n",
    "\n",
    "1. Keep a cache of direction. Prefer moving in the same direction till its possible. <br>\n",
    "2. If you hit a wall, then find the next possible direction.  <br>\n",
    "3. Since, its a spiral, in the event of hitting a wall, there is exactly one possible direction."
   ]
  },
  {
   "cell_type": "code",
   "execution_count": 45,
   "id": "424ec944-c765-4ca4-9fe9-3def04c7e129",
   "metadata": {
    "tags": []
   },
   "outputs": [],
   "source": [
    "class Solution:\n",
    "    def spiralOrder(self, matrix: List[List[int]]) -> List[int]:\n",
    "        wall = -1000\n",
    "        ## Possible moves: Up, Down, Left, Right\n",
    "        dx = [1, -1, 0, 0]\n",
    "        dy = [0, 0, -1, 1]\n",
    "\n",
    "        n = len(matrix)\n",
    "        m = len(matrix[0])\n",
    "\n",
    "        buffer = []\n",
    "\n",
    "        def is_valid_cell(u, v):\n",
    "            return u >= 0 and u <n and v >= 0 and v < m and matrix[u][v] != wall\n",
    "\n",
    "        def spiral(u, v , d):\n",
    "            buffer.append(matrix[u][v])\n",
    "            matrix[u][v] = wall\n",
    "            new_u, new_v = u + dx[d], v + dy[d]\n",
    "            if not is_valid_cell(new_u, new_v):\n",
    "                for i in range(4):\n",
    "                    new_u, new_v = u + dx[i], v + dy[i]\n",
    "                    if is_valid_cell(new_u, new_v):\n",
    "                        spiral(new_u, new_v, i)\n",
    "            else:\n",
    "                spiral(new_u, new_v, d)\n",
    "\n",
    "        spiral(0, 0, 3) # Initialize with right direction\n",
    "        return buffer\n",
    "\n",
    "\n",
    "        \n",
    "        "
   ]
  },
  {
   "cell_type": "markdown",
   "id": "bc8fc974-553e-494c-b364-7797851b6cd7",
   "metadata": {},
   "source": [
    "## 47. Rotate Image\n",
    "\n",
    "[Question Link](https://leetcode.com/problems/rotate-image/)"
   ]
  },
  {
   "cell_type": "markdown",
   "id": "86ee93d9-a142-433f-a771-6846229b8d17",
   "metadata": {},
   "source": [
    "\n",
    "\n",
    "**Example 1:**\n",
    "\n",
    "<img src=\"../assets/rotate_mat1.jpg\" alt=\"Example 1\"> <br>\n",
    "\n",
    "**Example 2:**\n",
    "\n",
    "<img src=\"../assets/rotate_mat2.jpg\" alt=\"Example 2\"> <br>\n",
    "\n"
   ]
  },
  {
   "cell_type": "raw",
   "id": "e37e483a-6a25-4b9e-abac-06d7d02e9706",
   "metadata": {},
   "source": [
    "You are given an n x n 2D matrix representing an image, rotate the image by 90 degrees (clockwise).\n",
    "\n",
    "You have to rotate the image in-place, which means you have to modify the input 2D matrix directly. DO NOT allocate another 2D matrix and do the rotation.\n",
    "\n",
    " \n",
    "\n",
    "Example 1:\n",
    "\n",
    "Input: matrix = [[1,2,3],[4,5,6],[7,8,9]]\n",
    "Output: [[7,4,1],[8,5,2],[9,6,3]]\n",
    "\n",
    "\n",
    "Example 2:\n",
    "\n",
    "Input: matrix = [[5,1,9,11],[2,4,8,10],[13,3,6,7],[15,14,12,16]]\n",
    "Output: [[15,13,2,5],[14,3,4,1],[12,6,8,9],[16,7,10,11]]\n",
    " \n",
    "\n",
    "Constraints:\n",
    "\n",
    "n == matrix.length == matrix[i].length\n",
    "1 <= n <= 20\n",
    "-1000 <= matrix[i][j] <= 1000"
   ]
  },
  {
   "cell_type": "markdown",
   "id": "21467c8c-9b7c-4e46-a045-6e2f2347ec65",
   "metadata": {},
   "source": [
    "### APPROACH"
   ]
  },
  {
   "cell_type": "code",
   "execution_count": 46,
   "id": "c434eb1a-3237-4a23-ab82-882160429cb8",
   "metadata": {
    "tags": []
   },
   "outputs": [],
   "source": [
    "class Solution:\n",
    "    def rotate(self, matrix: List[List[int]]) -> None:\n",
    "        \"\"\"\n",
    "        Do not return anything, modify matrix in-place instead.\n",
    "        \"\"\"\n",
    "        n = len(matrix)\n",
    "        def swap(i, j, n):\n",
    "            tmp = matrix[n  - j][i]\n",
    "            matrix[n - j][i] = matrix[n - i][n - j]\n",
    "            matrix[n - i][n - j] = matrix[j][n -i]\n",
    "            matrix[j][n - i] = matrix[i][j]\n",
    "            matrix[i][j] = tmp\n",
    "        \n",
    "        for i in range(n//2 + n%2): # if n = 4, we want to go to 2, and if n = 3, we want till 2\n",
    "            for j in range(n//2): # In column, we don't want to do double swapping, if j is 3, then then we want to go to 3//2, because n - j will take care.\n",
    "                swap(i, j, n-1)\n",
    "        "
   ]
  },
  {
   "cell_type": "code",
   "execution_count": 47,
   "id": "61859c66-b447-4f27-b27d-7354da99adcb",
   "metadata": {
    "tags": []
   },
   "outputs": [
    {
     "name": "stdout",
     "output_type": "stream",
     "text": [
      "[[7, 4, 1], [8, 5, 2], [9, 6, 3]]\n"
     ]
    }
   ],
   "source": [
    "matrix =[[1,2,3],[4,5,6],[7,8,9]]\n",
    "Solution().rotate(matrix)\n",
    "print(matrix)"
   ]
  },
  {
   "cell_type": "markdown",
   "id": "9accf3fa-b78b-4bf7-8532-bf154ea39588",
   "metadata": {},
   "source": [
    "## 48. Word Search\n",
    "\n",
    "[Question Link](https://leetcode.com/problems/word-search/)"
   ]
  },
  {
   "cell_type": "markdown",
   "id": "2ac999de-fcd5-4ebf-a64b-3366aea988f9",
   "metadata": {
    "tags": []
   },
   "source": [
    "\n",
    "\n",
    "**Example 1:**\n",
    "\n",
    "<img src=\"../assets/word_search1.jpg\" alt=\"Example 1\"> <br>\n",
    "\n",
    "**Example 2:**\n",
    "\n",
    "<img src=\"../assets/word_search2.jpg\" alt=\"Example 2\"> <br>\n",
    "\n",
    "**Example 3:**\n",
    "\n",
    "<img src=\"../assets/word_search3.jpg\" alt=\"Example 3\"> <br>"
   ]
  },
  {
   "cell_type": "markdown",
   "id": "62d7b7e5-053a-43d9-b549-67ee43163475",
   "metadata": {},
   "source": [
    "Given an m x n grid of characters board and a string word, return true if word exists in the grid.\n",
    "\n",
    "The word can be constructed from letters of sequentially adjacent cells, where adjacent cells are horizontally or vertically neighboring. The same letter cell may not be used more than once.\n",
    "\n",
    " \n",
    "\n",
    "`Example 1:`\n",
    "\n",
    "Input: board = [[\"A\",\"B\",\"C\",\"E\"],[\"S\",\"F\",\"C\",\"S\"],[\"A\",\"D\",\"E\",\"E\"]], word = \"ABCCED\" <br>\n",
    "Output: true\n",
    "\n",
    "\n",
    "`Example 2:`\n",
    "\n",
    "Input: board = [[\"A\",\"B\",\"C\",\"E\"],[\"S\",\"F\",\"C\",\"S\"],[\"A\",\"D\",\"E\",\"E\"]], word = \"SEE\"  <br>\n",
    "Output: true\n",
    "\n",
    "\n",
    "`Example 3:`\n",
    "\n",
    "Input: board = [[\"A\",\"B\",\"C\",\"E\"],[\"S\",\"F\",\"C\",\"S\"],[\"A\",\"D\",\"E\",\"E\"]], word = \"ABCB\"  <br>\n",
    "Output: false\n",
    " \n",
    "\n",
    "`Constraints:`\n",
    "\n",
    "m == board.length  <br>\n",
    "n = board[i].length  <br>\n",
    "1 <= m, n <= 6  <br>\n",
    "1 <= word.length <= 15  <br>\n",
    "board and word consists of only lowercase and uppercase English letters.  <br>\n",
    " \n",
    "\n",
    "Follow up: Could you use search pruning to make your solution faster with a larger board?"
   ]
  },
  {
   "cell_type": "markdown",
   "id": "49523604-610b-43fa-9e16-633236bd4f6a",
   "metadata": {
    "tags": []
   },
   "source": [
    "### Tags: backtracking"
   ]
  },
  {
   "cell_type": "markdown",
   "id": "87cfd757-0389-42bf-944d-61407c384d00",
   "metadata": {},
   "source": [
    "### APPROACH\n",
    "\n",
    "This is a very interesting problem because:\n",
    "\n",
    "1. This is a backtracking problem. <br>\n",
    "    In this problem, its important to keep track what nodes you have already traversed.  <br>\n",
    "    Note: The order of the nodes traversed is not important (if it was, we'd have used bitwise), but we need to keep track of what nodes are part of current processing stack. <br>\n",
    "2. We can't use memoization or Dynamic programming. Note that, we need to store indices of all the nodes in current processing stack. <br>\n",
    "3. There is an extra TLE test case, so we just do a simple counter of charaacters in word vs grid to filter such case out. <br>"
   ]
  },
  {
   "cell_type": "code",
   "execution_count": 48,
   "id": "da398522-af55-4bdb-b479-a128e7ccb923",
   "metadata": {
    "tags": []
   },
   "outputs": [
    {
     "name": "stdout",
     "output_type": "stream",
     "text": [
      "True\n",
      "True\n"
     ]
    }
   ],
   "source": [
    "class Solution:\n",
    "    def exist(self, board: List[List[str]], word: str) -> bool:\n",
    "\n",
    "        n = len(board)\n",
    "        m = len(board[0])\n",
    "        \n",
    "        # Compare counts of the grid and word for trivial cases\n",
    "        grid_ctr = {}\n",
    "        for i in range(n):\n",
    "            for j in range(m):\n",
    "                w = board[i][j]\n",
    "                if w not in grid_ctr:\n",
    "                    grid_ctr[w] = 0\n",
    "                grid_ctr[w]+=1\n",
    "        word_ctr = Counter(word)\n",
    "        for w in word_ctr:\n",
    "            if w not in grid_ctr:\n",
    "                return False\n",
    "            if word_ctr[w] > grid_ctr[w]:\n",
    "                return False\n",
    "\n",
    "        # directions\n",
    "        dx = [1, -1, 0, 0]\n",
    "        dy = [0, 0, 1, -1]\n",
    "        \n",
    "        # We maintain this to keep track of nodes in the current path\n",
    "        in_path = set()\n",
    "\n",
    "\n",
    "        def is_valid(u, v):\n",
    "            if u >= 0 and u < n and v >= 0 and v < m:\n",
    "                if (u, v) not in in_path:\n",
    "                    return True\n",
    "            return False\n",
    "                \n",
    "\n",
    "\n",
    "        def dfs(u, v, idx):\n",
    "            if idx == len(word) - 1 and board[u][v] == word[idx]:\n",
    "                # print(f\"Terminal: {u}, {v}, {idx}\")\n",
    "                return True\n",
    "            \n",
    "            if board[u][v] != word[idx]:\n",
    "                return False\n",
    "            \n",
    "            ret = False\n",
    "            # print(f\"--------> Adding to path: {u}, {v}, {idx} | {word[idx]}\")\n",
    "            in_path.add((u, v))\n",
    "            for i in range(4):\n",
    "                new_u = u + dx[i]\n",
    "                new_v = v + dy[i]\n",
    "                if is_valid(new_u, new_v):\n",
    "                    val = dfs(new_u, new_v, idx+1)\n",
    "                    ret = ret | val\n",
    "            # print(f\"--------> Removing from path: {u}, {v}, {idx} : {ret} | {word[idx]}\")\n",
    "            in_path.remove((u, v))\n",
    "            return ret\n",
    "\n",
    "        ret = False\n",
    "        for i in range(n):\n",
    "            for j in range(m):\n",
    "                ret = ret | dfs(i, j, 0)\n",
    "                if ret == True:\n",
    "                    return ret\n",
    "        \n",
    "        return ret\n",
    "        \n",
    "\n",
    "board = [[\"A\",\"B\",\"C\",\"E\"],[\"S\",\"F\",\"E\",\"S\"],[\"A\",\"D\",\"E\",\"E\"]]\n",
    "word = \"ABCESEEEFS\"\n",
    "\n",
    "print(Solution().exist(board, word))\n",
    "\n",
    "board = [[\"C\",\"A\",\"A\"],[\"A\",\"A\",\"A\"],[\"B\",\"C\",\"D\"]]\n",
    "word = \"AAB\"\n",
    "\n",
    "print(Solution().exist(board, word))\n"
   ]
  },
  {
   "cell_type": "markdown",
   "id": "976fe200-9972-40cb-908e-9fe2b831e1d8",
   "metadata": {
    "tags": [],
    "toc-hr-collapsed": true
   },
   "source": [
    "# Concept 8: Strings"
   ]
  },
  {
   "cell_type": "markdown",
   "id": "74e9924a-1e70-46d7-9e71-a173d68878e6",
   "metadata": {},
   "source": [
    "## 49. Longest Substring Without Repeating Characters\n",
    "\n",
    "[Question Link](https://leetcode.com/problems/longest-substring-without-repeating-characters/)"
   ]
  },
  {
   "cell_type": "raw",
   "id": "80623af6-f8b3-419d-82b1-4e0121a3ba95",
   "metadata": {},
   "source": [
    "Given a string s, find the length of the longest \n",
    "substring\n",
    " without repeating characters.\n",
    "\n",
    " \n",
    "\n",
    "Example 1:\n",
    "\n",
    "Input: s = \"abcabcbb\"\n",
    "Output: 3\n",
    "Explanation: The answer is \"abc\", with the length of 3.\n",
    "\n",
    "\n",
    "Example 2:\n",
    "\n",
    "Input: s = \"bbbbb\"\n",
    "Output: 1\n",
    "Explanation: The answer is \"b\", with the length of 1.\n",
    "\n",
    "\n",
    "Example 3:\n",
    "\n",
    "Input: s = \"pwwkew\"\n",
    "Output: 3\n",
    "Explanation: The answer is \"wke\", with the length of 3.\n",
    "Notice that the answer must be a substring, \"pwke\" is a subsequence and not a substring.\n",
    " \n",
    "\n",
    "Constraints:\n",
    "\n",
    "0 <= s.length <= 5 * 104\n",
    "s consists of English letters, digits, symbols and spaces."
   ]
  },
  {
   "cell_type": "markdown",
   "id": "1aad7506-519a-41df-9cde-c6d7524840f9",
   "metadata": {},
   "source": [
    "### APPROACH\n",
    "\n",
    "We use a current set which consists of unique consecutive characters and their indices. <br>\n",
    "If there is a collission with the current character, we find the collision index and remove all characters before it and then add the current character."
   ]
  },
  {
   "cell_type": "code",
   "execution_count": 49,
   "id": "442847a7-bb26-4d1b-b0a7-9d8756c4feb8",
   "metadata": {
    "tags": []
   },
   "outputs": [],
   "source": [
    "class Solution(object):\n",
    "    def lengthOfLongestSubstring(self, s):\n",
    "        \"\"\"\n",
    "        :type s: str\n",
    "        :rtype: int\n",
    "        \"\"\"\n",
    "\n",
    "        cur_max_set = {}  # Uses Python hash implementation\n",
    "        max_len = 0\n",
    "\n",
    "        for i, x in enumerate(s):\n",
    "            if not x in cur_max_set:\n",
    "                cur_max_set[x] = i\n",
    "            else:\n",
    "                prev_pos = cur_max_set[x]\n",
    "                for k in range(i - len(cur_max_set), prev_pos+1):\n",
    "                    cur_max_set.pop(s[k])\n",
    "                cur_max_set[x] = i\n",
    "            max_len = max(max_len, len(cur_max_set))\n",
    "        return max_len"
   ]
  },
  {
   "cell_type": "markdown",
   "id": "429b7b6a-3e56-43e1-8c17-24151ddce2e3",
   "metadata": {},
   "source": [
    "## 50. Longest Repeating Character Replacement\n",
    "\n",
    "[Question Link](https://leetcode.com/problems/longest-repeating-character-replacement/)"
   ]
  },
  {
   "cell_type": "markdown",
   "id": "438665a2-cb98-4898-a515-93baa3a5436f",
   "metadata": {},
   "source": [
    "You are given a string s and an integer k. You can choose any character of the string and change it to any other uppercase English character. You can perform this operation at most k times.\n",
    "\n",
    "Return the length of the longest substring containing the same letter you can get after performing the above operations.\n",
    "\n",
    " \n",
    "\n",
    "`Example 1:`\n",
    "\n",
    "Input: s = \"ABAB\", k = 2 <br>\n",
    "Output: 4 <br>\n",
    "Explanation: Replace the two 'A's with two 'B's or vice versa.\n",
    "\n",
    "\n",
    "`Example 2:`\n",
    "\n",
    "Input: s = \"AABABBA\", k = 1 <br>\n",
    "Output: 4 <br>\n",
    "Explanation: Replace the one 'A' in the middle with 'B' and form \"AABBBBA\". <br>\n",
    "The substring \"BBBB\" has the longest repeating letters, which is 4. <br>\n",
    "There may exists other ways to achive this answer too.\n",
    " \n",
    "\n",
    "`Constraints:`\n",
    "\n",
    "1 <= s.length <= 10^5 <br>\n",
    "s consists of only uppercase English letters. <br>\n",
    "0 <= k <= s.length"
   ]
  },
  {
   "cell_type": "markdown",
   "id": "53f8e1d6-043e-48ba-ad41-dbacb2fc9b12",
   "metadata": {},
   "source": [
    "### APPROACH\n",
    "\n",
    "1. We need a sliding window approach. \n",
    "2. If we have a given continuous range of string, say from `st` and `en` (inclusive), we can say that its more optimal for us, if convert all the other characters tp the most popular character within the range provided our rules allow, i.e <br>\n",
    "   `k` + `num_elements of most popular character` < `en - st`\n",
    "3. The `find_max` method returns the most popular element. We can also use priority queue for this. \n",
    "4. We process elements one by one and them to cache and extend the window\n",
    "   - **IMportant**: We update the `maxlen` after resizing the sliding window"
   ]
  },
  {
   "cell_type": "code",
   "execution_count": 5,
   "id": "a5f7e485-98cb-4047-9483-3078f30254bd",
   "metadata": {
    "tags": []
   },
   "outputs": [
    {
     "name": "stdout",
     "output_type": "stream",
     "text": [
      "4\n"
     ]
    }
   ],
   "source": [
    "\n",
    "from collections import defaultdict\n",
    "\n",
    "\n",
    "class Solution:\n",
    "\n",
    "    def find_max(self):\n",
    "        if len(self.cache) == 0:\n",
    "            return 0, 0\n",
    "        maxchar = None\n",
    "        maxval = -1\n",
    "        for c, v in self.cache.items():\n",
    "            if v > maxval:\n",
    "                maxchar = c\n",
    "                maxval = v\n",
    "        return maxchar, maxval\n",
    "\n",
    "    def characterReplacement(self, s: str, k: int) -> int:\n",
    "\n",
    "        self.cache = defaultdict(int) # defaultdict initializes to 0\n",
    "        maxlen = 0\n",
    "        st = en = 0  # these are the start and end pointers for our sliding window\n",
    "\n",
    "        while en < len(s):\n",
    "            c = s[en]\n",
    "            self.cache[c] += 1\n",
    "            en += 1\n",
    "            maxchar, maxval = self.find_max()\n",
    "            # the size exceeds. So we want to remove some elements\n",
    "            if en - st > maxval + k:\n",
    "                c_st = s[st]\n",
    "                self.cache[c_st] -= 1\n",
    "                st += 1\n",
    "            maxlen = max(maxlen, en - st )\n",
    "            \n",
    "        return maxlen\n",
    "\n",
    "s = Solution()\n",
    "ret = s.characterReplacement(\"AABABBA\", 1)\n",
    "print(ret)"
   ]
  },
  {
   "cell_type": "markdown",
   "id": "c35d94cd-edb9-4a71-936e-bb58dc3671d1",
   "metadata": {},
   "source": [
    "## 51. Minimum Window Substring\n",
    "\n",
    "Tag: hard, data-structures\n",
    "\n",
    "[Question Link](https://leetcode.com/problems/minimum-window-substring/)"
   ]
  },
  {
   "cell_type": "markdown",
   "id": "99725f68-78d1-409a-acfd-457e7f689cd7",
   "metadata": {},
   "source": [
    "Given two strings `s` and `t` of lengths `m` and `n` respectively, return the minimum window  substring <br>\n",
    "of `s` such that every character in `t` (including duplicates) is included in the window. If there is no such substring, return the empty string `\"\"`.\n",
    "\n",
    "The testcases will be generated such that the answer is unique.\n",
    "\n",
    " \n",
    "\n",
    "`Example 1:`\n",
    "\n",
    "Input: s = \"ADOBECODEBANC\", t = \"ABC\" <br>\n",
    "Output: \"BANC\" <br>\n",
    "Explanation: The minimum window substring \"BANC\" includes 'A', 'B', and 'C' from string t.\n",
    "\n",
    "\n",
    "`Example 2:`\n",
    "\n",
    "Input: s = \"a\", t = \"a\" <br>\n",
    "Output: \"a\" <br>\n",
    "Explanation: The entire string s is the minimum window.\n",
    "\n",
    "\n",
    "`Example 3:`\n",
    "\n",
    "Input: s = \"a\", t = \"aa\" <br>\n",
    "Output: \"\" <br>\n",
    "Explanation: Both 'a's from t must be included in the window. <br>\n",
    "Since the largest window of s only has one 'a', return empty string.\n",
    " \n",
    "\n",
    "`Constraints:`\n",
    "\n",
    "m == s.length <br>\n",
    "n == t.length <br>\n",
    "1 <= m, n <= 10^5 <br>\n",
    "s and t consist of uppercase and lowercase English letters.\n",
    " \n",
    "\n",
    "Follow up: Could you find an algorithm that runs in O(m + n) time?"
   ]
  },
  {
   "cell_type": "markdown",
   "id": "2314e514-f155-4237-bc6a-5c2cf6a85c16",
   "metadata": {},
   "source": [
    "### APPROACH\n",
    "\n",
    "This is a data-structuresbased question. <br>\n",
    "\n",
    "Important to understand here is that order of characters in target string doesn't matter, only the frequency count matters. <br>\n",
    "Hence, we will use the `hash_value` of the string as a representation to compare to.\n",
    "\n",
    "`hash_t` has the hash value for `target_string` <br>\n",
    "`cur_hash` maintains the current hash value\n",
    "`cur_log` maintains the indices at which a current character occurs. Naturally, this will be sorted.\n",
    "\n",
    "\n",
    "- We keep track of the hash_value of the cur_traversal in `cur_hash`\n",
    "- When we find a case where we have more than necessary of a character `x` in `target_string`\n",
    "  - We need to remove the earliest occurence of this character `x`. \n",
    "  - Then we need to append the current occurence of the character.\n",
    "  - **Important**: Its important to update `st` index that we are tracking if the index to remove conincides with the `st` index. "
   ]
  },
  {
   "cell_type": "code",
   "execution_count": 31,
   "id": "80079c8f-cbf9-4177-93ba-55b7d93f76b3",
   "metadata": {
    "tags": []
   },
   "outputs": [
    {
     "name": "stdout",
     "output_type": "stream",
     "text": [
      "BANC\n"
     ]
    }
   ],
   "source": [
    "class Solution:\n",
    "    def get_hash(self, s: str)-> dict:\n",
    "        \"\"\"\n",
    "        Get frequency count of the characters of the string\n",
    "        \"\"\"\n",
    "        hash_ = defaultdict(int)\n",
    "        for c in s:\n",
    "            hash_[c] += 1\n",
    "        return hash_\n",
    "\n",
    "    def get_min_index(self, cur_log: dict)-> int:\n",
    "        \"\"\"\n",
    "        Returns the minimum index of the next occuring element in target string\n",
    "        \"\"\"\n",
    "        min_index = 1000000\n",
    "        for x, value in cur_log.items():\n",
    "            if value[0] < min_index:\n",
    "                min_index = value[0]\n",
    "        return min_index\n",
    "\n",
    "        \n",
    "\n",
    "    def remove_earliest_index_of_c(self, cur_log: dict, c: chr)-> dict:\n",
    "        \"\"\"\n",
    "        In a dict of lsits, remove the earliest occurence of element c\n",
    "        \"\"\"\n",
    "        indices = cur_log[c]\n",
    "        to_remove = indices[0]\n",
    "        cur_log[c] = indices[1:]\n",
    "        if self.st == to_remove:\n",
    "            # find the next index to move to\n",
    "            self.st = self.get_min_index(cur_log)\n",
    "        \n",
    "        return cur_log\n",
    "\n",
    "    def minWindow(self, s: str, t: str) -> str:\n",
    "        \"\"\"\n",
    "        Function to find the minimum window in which all characters of a substrign is contained\n",
    "        \"\"\"\n",
    "        if len(t) == 0:\n",
    "            return t\n",
    "        if len(s) == 0 or len(t) > len(s):\n",
    "            return \"\"\n",
    "        t_hash = self.get_hash(t)\n",
    "        cur_hash = defaultdict(int)\n",
    "        cur_log = defaultdict(list)\n",
    "        stack = []\n",
    "        self.st = -1\n",
    "        self.en = 0\n",
    "\n",
    "        self.smallest_str = \"\"\n",
    "        MAX_SIZE = 10000000000\n",
    "        for c in s:\n",
    "            if c in t_hash:\n",
    "                if self.st == -1: # not initialized\n",
    "                    self.st = self.en\n",
    "                cur_hash[c] += 1\n",
    "                cur_log[c].append(self.en)\n",
    "                if cur_hash[c] > t_hash[c]:\n",
    "                    cur_log = self.remove_earliest_index_of_c(cur_log, c)\n",
    "                    cur_hash[c]-=1\n",
    "\n",
    "                if cur_hash == t_hash:\n",
    "                    # record the string\n",
    "                    if self.en - self.st + 1 < MAX_SIZE:\n",
    "                        self.smallest_str = s[self.st: self.en + 1]\n",
    "                        MAX_SIZE = len(self.smallest_str)\n",
    "               \n",
    "            self.en+=1\n",
    "        \n",
    "        return self.smallest_str\n",
    "\n",
    "s = Solution()\n",
    "ret = s.minWindow(\"ADOBECODEBANC\", \"ABC\")\n",
    "print(ret)\n"
   ]
  },
  {
   "cell_type": "markdown",
   "id": "83acbc69-a6ae-4d65-abe1-b1ba173decd9",
   "metadata": {},
   "source": [
    "## 52. Valid Anagram\n",
    "\n",
    "Rating: easy <br>\n",
    "[Question Link](https://leetcode.com/problems/valid-anagram/)"
   ]
  },
  {
   "cell_type": "markdown",
   "id": "ef1aadb6-2cbb-40ed-bd2f-91e188136b70",
   "metadata": {},
   "source": [
    "Given two strings s and t, return true if t is an anagram of s, and false otherwise.\n",
    "\n",
    "An Anagram is a word or phrase formed by rearranging the letters of a different word or phrase, typically using all the original letters exactly once.\n",
    "\n",
    " \n",
    "\n",
    "`Example 1:`\n",
    "\n",
    "Input: s = \"anagram\", t = \"nagaram\" <br>\n",
    "Output: true\n",
    "\n",
    "\n",
    "`Example 2:`\n",
    "\n",
    "Input: s = \"rat\", t = \"car\" <br>\n",
    "Output: false\n",
    " \n",
    "\n",
    "`Constraints:`\n",
    "\n",
    "1 <= s.length, t.length <= 5 * 104 <br>\n",
    "s and t consist of lowercase English letters.\n",
    " \n",
    "\n",
    "Follow up: What if the inputs contain Unicode characters? How would you adapt your solution to such a case?"
   ]
  },
  {
   "cell_type": "markdown",
   "id": "f8b78283-619f-45f6-8bf4-af1acb901d9b",
   "metadata": {},
   "source": [
    "### APPROACH\n",
    "\n",
    "1. Easy question. Create a frequency counter of the string using a hash table `dict`.\n",
    "2. Write a dict comparison function. See `compare_dicts` method"
   ]
  },
  {
   "cell_type": "code",
   "execution_count": 9,
   "id": "316bc5df-3338-4fa5-9c94-4f5d6a7d4b5f",
   "metadata": {
    "tags": []
   },
   "outputs": [],
   "source": [
    "from collections import defaultdict\n",
    "\n",
    "class Solution:\n",
    "    def isAnagram(self, s: str, t: str) -> bool:\n",
    "\n",
    "        def compare_dicts(dict1: dict, dict2: dict) -> bool:\n",
    "            if len(dict1) != len(dict2):\n",
    "                return False\n",
    "            keyset = set(dict1.keys()).union(set(dict2.keys()))\n",
    "            if len(keyset) != len(dict1) or len(keyset) != len(dict2):\n",
    "                return False\n",
    "            for k in keyset:\n",
    "                if k in dict1 and k in dict2:\n",
    "                    if dict1[k] != dict2[k]:\n",
    "                        return False\n",
    "                else:\n",
    "                    return False\n",
    "            return True\n",
    "\n",
    "        dict_s = defaultdict(int)\n",
    "        dict_t = defaultdict(int)\n",
    "        for c in s:\n",
    "            dict_s[c] += 1\n",
    "        for c in t:\n",
    "            dict_t[c] += 1\n",
    "        return compare_dicts(dict_s, dict_t)\n",
    "\n",
    "        "
   ]
  },
  {
   "cell_type": "markdown",
   "id": "bc8897d7-aa8d-48bc-a10a-0e29998ceb75",
   "metadata": {},
   "source": [
    "## 53. Group Anagrams\n",
    "\n",
    "Rating: easy, use-trick <br>\n",
    "[Question Link](https://leetcode.com/problems/group-anagrams/)"
   ]
  },
  {
   "cell_type": "markdown",
   "id": "d38e6a43-6ec1-4ede-a2f0-8af8907c5182",
   "metadata": {},
   "source": [
    "Given an array of strings strs, group the anagrams together. You can return the answer in any order.\n",
    "\n",
    "An Anagram is a word or phrase formed by rearranging the letters of a different word or phrase, typically using all the original letters exactly once.\n",
    "\n",
    " \n",
    "\n",
    "`Example 1:`\n",
    "\n",
    "Input: strs = [\"eat\",\"tea\",\"tan\",\"ate\",\"nat\",\"bat\"] <br>\n",
    "Output: [[\"bat\"],[\"nat\",\"tan\"],[\"ate\",\"eat\",\"tea\"]] <br>\n",
    "\n",
    "\n",
    "`Example 2:`\n",
    "\n",
    "Input: strs = [\"\"] <br>\n",
    "Output: [[\"\"]]\n",
    "\n",
    "\n",
    "`Example 3:`\n",
    "\n",
    "Input: strs = [\"a\"] <br>\n",
    "Output: [[\"a\"]]\n",
    " \n",
    "\n",
    "`Constraints:`\n",
    "\n",
    "1 <= strs.length <= 10^4 <br>\n",
    "0 <= strs[i].length <= 100 <br>\n",
    "strs[i] consists of lowercase English letters."
   ]
  },
  {
   "cell_type": "markdown",
   "id": "e1e33880-99b6-4c06-bb1a-85b1f8459d19",
   "metadata": {},
   "source": [
    "### APPROACH\n",
    "\n",
    "- Anagrams are words which have same frequency of letters. `Important`: Note that sorted value of anagrams will be same. Hence, we will use them as key"
   ]
  },
  {
   "cell_type": "code",
   "execution_count": 10,
   "id": "3a309b48-51a6-4935-993d-717f16034085",
   "metadata": {
    "tags": []
   },
   "outputs": [],
   "source": [
    "from collections import defaultdict\n",
    "\n",
    "class Solution:\n",
    "    def groupAnagrams(self, strs):\n",
    "        anagram_map = defaultdict(list)\n",
    "        \n",
    "        for word in strs:\n",
    "            sorted_word = ''.join(sorted(word))\n",
    "            anagram_map[sorted_word].append(word)\n",
    "        \n",
    "        return list(anagram_map.values())"
   ]
  },
  {
   "cell_type": "markdown",
   "id": "c6d01f60-42f2-4561-8b29-7d6edbddfdc9",
   "metadata": {},
   "source": [
    "## 54. Valid Parenthesis\n",
    "\n",
    "Rating: Easy <br>\n",
    "\n",
    "[Question Link](https://leetcode.com/problems/valid-parentheses/)"
   ]
  },
  {
   "cell_type": "markdown",
   "id": "26b6b813-6c67-49c5-bff1-2358b3b66c4d",
   "metadata": {},
   "source": [
    "Given a string s containing just the characters '(', ')', '{', '}', '[' and ']', determine if the input string is valid.\n",
    "\n",
    "An input string is valid if:\n",
    "\n",
    "Open brackets must be closed by the same type of brackets. <br>\n",
    "Open brackets must be closed in the correct order. <br>\n",
    "Every close bracket has a corresponding open bracket of the same type.\n",
    " \n",
    "\n",
    "`Example 1:`\n",
    "\n",
    "Input: s = \"()\" <br>\n",
    "Output: true\n",
    "\n",
    "\n",
    "`Example 2:`\n",
    "\n",
    "Input: s = \"()[]{}\" <br>\n",
    "Output: true\n",
    "\n",
    "\n",
    "`Example 3:`\n",
    "\n",
    "Input: s = \"(]\" <br>\n",
    "Output: false\n",
    " \n",
    "\n",
    "`Constraints:`\n",
    "\n",
    "1 <= s.length <= 10^4 <br>\n",
    "s consists of parentheses only '()[]{}'."
   ]
  },
  {
   "cell_type": "markdown",
   "id": "a0b26e7d-5776-4a7b-9d30-63765f8d0e34",
   "metadata": {},
   "source": [
    "### APPROACH\n",
    "\n",
    "- Filter out odd numbered strings. They can never have a valid pair\n",
    "- Create a stack\n",
    "  - Add to stack if its open face\n",
    "  - match elements from stack \n",
    "    - (if invalid match or stack is empty): `no_match_found`\n",
    "  - If after all iterations, stack is not empty\n",
    "    - no match found"
   ]
  },
  {
   "cell_type": "code",
   "execution_count": 13,
   "id": "3ef6f89f-a8f8-4410-9444-fa4a2422e2dd",
   "metadata": {
    "tags": []
   },
   "outputs": [],
   "source": [
    "class Solution:\n",
    "    def isValid(self, s: str) -> bool:\n",
    "        if len(s) == 0:\n",
    "            return True\n",
    "        if len(s) %2 == 1: # odd sized string can never have a valid parantheses\n",
    "            return False\n",
    "\n",
    "        stack = []\n",
    "        open_brackets = set(['(', '{', '['])\n",
    "        close_brackets = set([')', '}', ']'])\n",
    "        matching_pair = {\n",
    "            '(' : ')',\n",
    "            '{': '}',\n",
    "            '[': ']'\n",
    "            }\n",
    "        for c in s:\n",
    "            if c in open_brackets:\n",
    "                # add to stack if its an open bracket\n",
    "                stack.append(c)\n",
    "            elif c in close_brackets:\n",
    "                # if its close, the last bracket on stack should be a match\n",
    "                if len(stack) > 0:\n",
    "                    c_open = stack[-1]\n",
    "                    if matching_pair[c_open] == c:\n",
    "                        stack = stack[0:-1]\n",
    "                    else:\n",
    "                        return False\n",
    "                else:\n",
    "                    return False\n",
    "        return True if len(stack) == 0 else False\n",
    "\n"
   ]
  },
  {
   "cell_type": "markdown",
   "id": "b1835d12-b86c-4630-9d31-e3f7a113ee3e",
   "metadata": {},
   "source": [
    "## 55. Valid Palindrome\n",
    "\n",
    "[Question Link](https://leetcode.com/problems/valid-palindrome/)"
   ]
  },
  {
   "cell_type": "markdown",
   "id": "ff010593-ad47-4d70-b5fb-b8d3d2d845e6",
   "metadata": {},
   "source": [
    "A phrase is a palindrome if, after converting all uppercase letters into lowercase letters and removing all non-alphanumeric characters, it reads the same forward and backward. Alphanumeric characters include letters and numbers.\n",
    "\n",
    "Given a string s, return true if it is a palindrome, or false otherwise.\n",
    "\n",
    " \n",
    "\n",
    "`Example 1:`\n",
    "\n",
    "Input: s = \"A man, a plan, a canal: Panama\" <br>\n",
    "Output: true <br>\n",
    "Explanation: \"amanaplanacanalpanama\" is a palindrome.\n",
    "\n",
    "\n",
    "`Example 2:`\n",
    "\n",
    "Input: s = \"race a car\" <br>\n",
    "Output: false <br>\n",
    "Explanation: \"raceacar\" is not a palindrome.\n",
    "\n",
    "\n",
    "`Example 3:`\n",
    "\n",
    "Input: s = \" \" <br>\n",
    "Output: true <br>\n",
    "Explanation: s is an empty string \"\" after removing non-alphanumeric characters. <br>\n",
    "Since an empty string reads the same forward and backward, it is a palindrome.\n",
    " \n",
    "\n",
    "`Constraints:`\n",
    "\n",
    "1 <= s.length <= 2 * 10^5 <br>\n",
    "s consists only of printable ASCII characters."
   ]
  },
  {
   "cell_type": "markdown",
   "id": "12a05179-6c8e-48fe-8e57-b7070c077f44",
   "metadata": {},
   "source": [
    "### APPROACH\n",
    "\n",
    "Be careful with pointer comparing conditions"
   ]
  },
  {
   "cell_type": "code",
   "execution_count": 53,
   "id": "a06644aa-cfe3-4396-9f56-82f9282bde58",
   "metadata": {
    "tags": []
   },
   "outputs": [],
   "source": [
    "class Solution:\n",
    "\n",
    "    def is_valid_character(self, x):\n",
    "        # This function can be replaced by inbuilt x.isalnum()\n",
    "        return (x >= 'a' and x <= 'z') or (x >= \"0\" and x <= \"9\")\n",
    "\n",
    "    def isPalindrome(self, s: str) -> bool:\n",
    "        if len(s) < 2:\n",
    "            return True\n",
    "        s = s.lower()\n",
    "        left = 0\n",
    "        right = len(s) - 1\n",
    "        while left < right:\n",
    "            # skip all the invalid characters from left\n",
    "            while left < right and not self.is_valid_character(s[left]):\n",
    "                left += 1\n",
    "\n",
    "            # skip all the invalid characters from right\n",
    "            while right > left and not self.is_valid_character(s[right]):\n",
    "                right -= 1\n",
    "\n",
    "            # check if the pointers are still valid\n",
    "            if left > right:\n",
    "                break\n",
    "\n",
    "            # compare the elements\n",
    "            if s[left] != s[right]:\n",
    "                return False\n",
    "            left += 1\n",
    "            right -= 1\n",
    "        return True"
   ]
  },
  {
   "cell_type": "markdown",
   "id": "2861b148-ca8e-4764-8a99-1894224b9667",
   "metadata": {},
   "source": [
    "## 56. Longest Palindromic Substring\n",
    "\n",
    "[Question Link](https://leetcode.com/problems/longest-palindromic-substring/)"
   ]
  },
  {
   "cell_type": "markdown",
   "id": "0f2dd39d-690a-46cd-89aa-86f93a858eed",
   "metadata": {},
   "source": [
    "Given a string s, return the longest palindromic substring in s.\n",
    "\n",
    "`Example 1:`\n",
    "\n",
    "Input: s = \"babad\" <br>\n",
    "Output: \"bab\"  <br>\n",
    "Explanation: \"aba\" is also a valid answer.\n",
    "\n",
    "\n",
    "`Example 2:`\n",
    "\n",
    "Input: s = \"cbbd\"  <br>\n",
    "Output: \"bb\"\n",
    " \n",
    "\n",
    "`Constraints:`\n",
    "\n",
    "1 <= s.length <= 1000  <br>\n",
    "s consist of only digits and English letters."
   ]
  },
  {
   "cell_type": "markdown",
   "id": "107aeb4b-1280-4938-ae02-b1278861259e",
   "metadata": {},
   "source": [
    "### APPROACH\n",
    "\n",
    "- Use a DP state `dp[i][j]` where its 1 if `str[i: j+1]` is a valid palindrome\n",
    "- We just iterate over the strign indices twice in a loop and update this cache."
   ]
  },
  {
   "cell_type": "code",
   "execution_count": 19,
   "id": "13c628dc-69a3-4d7e-9cf0-67015545e603",
   "metadata": {
    "tags": []
   },
   "outputs": [],
   "source": [
    "class Solution:\n",
    "\n",
    "   \n",
    "    def helper(self, st, en):\n",
    "        if st > en: \n",
    "            return 0\n",
    "        if self.dp[st][en] != -1:\n",
    "            return self.dp[st][en]\n",
    "\n",
    "        cur = int(self.s[st] == self.s[en])\n",
    "        if en - st > 1:\n",
    "            cur = cur & self.helper(st + 1, en -1)\n",
    "        self.dp[st][en]  = cur\n",
    "        if cur:\n",
    "            if en - st + 1 > self.maxlen:\n",
    "                self.maxlen = en - st + 1\n",
    "                self.st = st\n",
    "                self.en = en\n",
    "        return self.dp[st][en]\n",
    "\n",
    "\n",
    "    def longestPalindrome(self, s: str) -> str:\n",
    "        if len(s) < 2:\n",
    "            return s\n",
    "        self.s = s\n",
    "        strlen = len(s)\n",
    "        self.dp = []\n",
    "        for i in range(strlen):\n",
    "            self.dp.append([])\n",
    "            for j in range(strlen):\n",
    "                if i == j: \n",
    "                    self.dp[i].append(1)\n",
    "                else:\n",
    "                    self.dp[i].append(-1)\n",
    "        self.maxlen = 1\n",
    "        self.st = 0\n",
    "        self.en = 0\n",
    "        for i in range(strlen):\n",
    "            for j in range(i+1, strlen):\n",
    "                if self.dp[i][j] == -1:\n",
    "                    self.helper(i, j)\n",
    "        return s[self.st:self.en + 1]\n",
    "\n"
   ]
  },
  {
   "cell_type": "markdown",
   "id": "cbc934d4-5a34-4a06-aa38-5d9ecda20a0a",
   "metadata": {},
   "source": [
    "## 57. Palindromic Substrings\n",
    "\n",
    "[Question Link](https://leetcode.com/problems/palindromic-substrings/)"
   ]
  },
  {
   "cell_type": "markdown",
   "id": "80ef6016-c7ea-4ca6-a286-30c1d83fa068",
   "metadata": {},
   "source": [
    "Given a string s, return the number of palindromic substrings in it.\n",
    "\n",
    "A string is a palindrome when it reads the same backward as forward.\n",
    "\n",
    "A substring is a contiguous sequence of characters within the string.\n",
    "\n",
    " \n",
    "`Example 1:`\n",
    "\n",
    "Input: s = \"abc\" <br>\n",
    "Output: 3 <br>\n",
    "Explanation: Three palindromic strings: \"a\", \"b\", \"c\".\n",
    "\n",
    "\n",
    "`Example 2:`\n",
    "\n",
    "Input: s = \"aaa\" <br>\n",
    "Output: 6 <br>\n",
    "Explanation: Six palindromic strings: \"a\", \"a\", \"a\", \"aa\", \"aa\", \"aaa\".\n",
    " \n",
    "\n",
    "`Constraints:`\n",
    "\n",
    "1 <= s.length <= 1000 <br>\n",
    "s consists of lowercase English letters."
   ]
  },
  {
   "cell_type": "markdown",
   "id": "cbbc24c6-5c40-4051-b8d8-b4fc9ecdaafd",
   "metadata": {},
   "source": [
    "### APPROACH\n",
    "\n",
    "Same approach as previous question.\n",
    "\n",
    "- Use a state `dp[i][j]` where its 1 if `str[i: j+1]` is a valid palindrome\n",
    "- We just iterate over the strign indices twice in a loop and update this cache."
   ]
  },
  {
   "cell_type": "code",
   "execution_count": 20,
   "id": "addd22c9-01be-44f3-8385-a5dce61cd8a2",
   "metadata": {
    "tags": []
   },
   "outputs": [],
   "source": [
    "class Solution:\n",
    "\n",
    "   \n",
    "    def helper(self, st, en):\n",
    "        if st > en: \n",
    "            return 0\n",
    "        if self.dp[st][en] != -1:\n",
    "            return self.dp[st][en]\n",
    "\n",
    "        cur = int(self.s[st] == self.s[en])\n",
    "        if en - st > 1:\n",
    "            cur = cur & self.helper(st + 1, en -1)\n",
    "        self.dp[st][en] = cur\n",
    "        if cur:\n",
    "            self.count += 1\n",
    "        return self.dp[st][en]\n",
    "\n",
    "\n",
    "    def countSubstrings(self, s: str) -> int:\n",
    "        if len(s) < 2:\n",
    "            return len(s)\n",
    "        self.s = s\n",
    "        strlen = len(s)\n",
    "        self.dp = []\n",
    "        self.count = 0\n",
    "        for i in range(strlen):\n",
    "            self.dp.append([])\n",
    "            for j in range(strlen):\n",
    "                if i == j: \n",
    "                    self.dp[i].append(1)\n",
    "                    self.count += 1\n",
    "                else:\n",
    "                    self.dp[i].append(-1)\n",
    "        \n",
    "    \n",
    "        for i in range(strlen):\n",
    "            for j in range(i+1, strlen):\n",
    "                if self.dp[i][j] == -1:\n",
    "                    self.helper(i, j)\n",
    "        return self.count \n",
    "\n"
   ]
  },
  {
   "cell_type": "markdown",
   "id": "f4a46492-4ced-4169-a90f-7d412443c3ed",
   "metadata": {},
   "source": [
    "## 58. Encode and Decode Strings\n",
    "\n",
    "[Question Link](https://leetcode.com/problems/encode-and-decode-strings/)"
   ]
  },
  {
   "cell_type": "markdown",
   "id": "3a917cd9-79ee-49c8-8b15-b78a75d61bf5",
   "metadata": {},
   "source": [
    "Design an algorithm to encode a list of strings to a string. The encoded string is then sent over the network and is decoded back to the original list of strings.\n",
    "\n",
    "Machine 1 (sender) has the function:\n",
    "\n",
    "```\n",
    "string encode(vector<string> strs) {\n",
    "  // ... your code\n",
    "  return encoded_string;\n",
    "}\n",
    "```\n",
    "\n",
    "Machine 2 (receiver) has the function:\n",
    "```\n",
    "vector<string> decode(string s) {\n",
    "  //... your code\n",
    "  return strs;\n",
    "}\n",
    "```\n",
    "So Machine 1 does:\n",
    "\n",
    "```\n",
    "string encoded_string = encode(strs);\n",
    "```\n",
    "\n",
    "and Machine 2 does:\n",
    "\n",
    "```\n",
    "vector<string> strs2 = decode(encoded_string);\n",
    "```\n",
    "\n",
    "`strs2` in Machine 2 should be the same as `strs` in Machine 1.\n",
    "\n",
    "Implement the `encode` and `decode` methods.\n",
    "\n",
    "You are not allowed to solve the problem using any serialize methods (such as `eval`).\n",
    "\n",
    "\n",
    "Example 1:\n",
    "\n",
    "```\n",
    "Input: dummy_input = [\"Hello\",\"World\"]\n",
    "Output: [\"Hello\",\"World\"]\n",
    "Explanation:\n",
    "Machine 1:\n",
    "Codec encoder = new Codec();\n",
    "String msg = encoder.encode(strs);\n",
    "Machine 1 ---msg---> Machine 2\n",
    "\n",
    "Machine 2:\n",
    "Codec decoder = new Codec();\n",
    "String[] strs = decoder.decode(msg);\n",
    "```\n",
    "\n",
    "Example 2:\n",
    "\n",
    "```\n",
    "Input: dummy_input = [\"\"]\n",
    "Output: [\"\"]\n",
    "```\n",
    " \n",
    "\n",
    "Constraints:\n",
    "\n",
    "1 <= strs.length <= 200 <br>\n",
    "0 <= strs[i].length <= 200 <br>\n",
    "strs[i] contains any possible characters out of 256 valid ASCII characters. <br>\n",
    " \n",
    "\n",
    "Follow up: Could you write a generalized algorithm to work on any possible set of characters?"
   ]
  },
  {
   "cell_type": "markdown",
   "id": "eac4d51f-f5ab-4d85-8736-2c34fe57f264",
   "metadata": {
    "tags": []
   },
   "source": [
    "### APPROACH"
   ]
  },
  {
   "cell_type": "markdown",
   "id": "ca3a6671-2671-42d6-995d-ee9984a9d58d",
   "metadata": {},
   "source": [
    "### TODO: CODE IT"
   ]
  },
  {
   "cell_type": "markdown",
   "id": "f09b438c-1e93-4d60-a0b6-c2f7ddd5d3db",
   "metadata": {
    "tags": [],
    "toc-hr-collapsed": true
   },
   "source": [
    "# Concept 9: Trees"
   ]
  },
  {
   "cell_type": "markdown",
   "id": "cd987642-903f-4455-8737-fc9440938ada",
   "metadata": {
    "toc-hr-collapsed": true
   },
   "source": [
    "## 59. Maximum Depth of Binary Tree\n",
    "\n",
    "[Question Link](https://leetcode.com/problems/maximum-depth-of-binary-tree/)"
   ]
  },
  {
   "cell_type": "markdown",
   "id": "d217ef9b-fe59-4f65-9942-200f66b5083f",
   "metadata": {},
   "source": [
    "**Example 1:**\n",
    "\n",
    "<img src=\"../assets/tmp-tree.jpg\" alt=\"Example 1\"> <br>\n",
    "\n"
   ]
  },
  {
   "cell_type": "markdown",
   "id": "c223629b-39c2-47c0-93e4-866b41daef35",
   "metadata": {},
   "source": [
    "Given the root of a binary tree, return its maximum depth.\n",
    "\n",
    "A binary tree's maximum depth is the number of nodes along the longest path from the root node down to the farthest leaf node.\n",
    "\n",
    " \n",
    "\n",
    "`Example 1:`\n",
    "\n",
    "Input: root = [3,9,20,null,null,15,7] <br>\n",
    "Output: 3\n",
    "\n",
    "\n",
    "`Example 2:`\n",
    "\n",
    "Input: root = [1,null,2] <br>\n",
    "Output: 2\n",
    " \n",
    "\n",
    "`Constraints:`\n",
    "\n",
    "The number of nodes in the tree is in the range [0, 10^4]. <br>\n",
    "-100 <= Node.val <= 100"
   ]
  },
  {
   "cell_type": "markdown",
   "id": "10c48019-8d0f-4c45-b9d8-e1e9a6dbaf79",
   "metadata": {},
   "source": [
    "### APPROACH"
   ]
  },
  {
   "cell_type": "code",
   "execution_count": 50,
   "id": "6be41eb4-0ad0-478f-b206-24d9f5371fa2",
   "metadata": {
    "tags": []
   },
   "outputs": [],
   "source": [
    "# Definition for a binary tree node.\n",
    "class TreeNode(object):\n",
    "    def __init__(self, val=0, left=None, right=None):\n",
    "        self.val = val\n",
    "        self.left = left\n",
    "        self.right = right\n",
    "        \n",
    "class Solution(object):\n",
    "    def maxDepth(self, root):\n",
    "        \"\"\"\n",
    "        :type root: TreeNode\n",
    "        :rtype: int\n",
    "        \"\"\"\n",
    "\n",
    "        if root == None:\n",
    "            return 0\n",
    "        \n",
    "        Q = []\n",
    "        idx = 0\n",
    "        max_level = 0\n",
    "        Q.append((root, 1))\n",
    "\n",
    "        def empty(Q, idx):\n",
    "            return idx >= len(Q)\n",
    "\n",
    "\n",
    "        while not empty(Q, idx):\n",
    "            node, level = Q[idx]\n",
    "            if node:\n",
    "                idx += 1\n",
    "            if level > max_level:\n",
    "                max_level += 1\n",
    "            if node.left:\n",
    "                Q.append((node.left, level + 1))\n",
    "            if node.right:\n",
    "                Q.append((node.right, level + 1))\n",
    "        return max_level\n",
    "\n",
    "\n"
   ]
  },
  {
   "cell_type": "markdown",
   "id": "0b36abbd-0510-4c9f-b8c1-4bd1417f6ae8",
   "metadata": {},
   "source": [
    "## 60. Same Tree\n",
    "\n",
    "[Question Link](https://leetcode.com/problems/same-tree/)"
   ]
  },
  {
   "cell_type": "markdown",
   "id": "23bdcc37-5076-4a4f-a97e-61dd7676e73e",
   "metadata": {},
   "source": [
    "\n",
    "\n",
    "**Example 1:**\n",
    "\n",
    "<img src=\"../assets/sametreeex1.jpg\" alt=\"Example 1\"> <br>\n",
    "\n",
    "**Example 2:**\n",
    "\n",
    "<img src=\"../assets/sametreeex2.jpg\" alt=\"Example 2\"> <br>\n",
    "\n",
    "**Example 3:**\n",
    "\n",
    "<img src=\"../assets/sametreeex3.jpg\" alt=\"Example 3\"> <br>\n",
    "\n"
   ]
  },
  {
   "cell_type": "markdown",
   "id": "c5ede63a-7cf2-4d4b-8e27-89ded1f7a058",
   "metadata": {},
   "source": [
    "Given the roots of two binary trees p and q, write a function to check if they are the same or not.\n",
    "\n",
    "Two binary trees are considered the same if they are structurally identical, and the nodes have the same value.\n",
    "\n",
    " \n",
    "\n",
    "`Example 1:`\n",
    "\n",
    "Input: p = [1,2,3], q = [1,2,3] <br>\n",
    "Output: true\n",
    "\n",
    "\n",
    "`Example 2:`\n",
    "\n",
    "Input: p = [1,2], q = [1,null,2] <br>\n",
    "Output: false\n",
    "\n",
    "\n",
    "`Example 3:`\n",
    "\n",
    "Input: p = [1,2,1], q = [1,1,2] <br>\n",
    "Output: false\n",
    " \n",
    "\n",
    "`Constraints:`\n",
    "\n",
    "The number of nodes in both trees is in the range [0, 100]. <br>\n",
    "-10^4 <= Node.val <= 10^4"
   ]
  },
  {
   "cell_type": "markdown",
   "id": "5566a894-960b-4aa8-93f9-7a9c106262b1",
   "metadata": {},
   "source": [
    "### APPROACH\n",
    "\n",
    "1. Check if root1. values i s equal to root2. val:\n",
    "    * compare if the subtrees are also the same"
   ]
  },
  {
   "cell_type": "code",
   "execution_count": 51,
   "id": "b7c2335b-e8b2-4471-a688-e7be4d345d36",
   "metadata": {
    "tags": []
   },
   "outputs": [],
   "source": [
    "# Definition for a binary tree node.\n",
    "# class TreeNode(object):\n",
    "#     def __init__(self, val=0, left=None, right=None):\n",
    "#         self.val = val\n",
    "#         self.left = left\n",
    "#         self.right = right\n",
    "class Solution(object):\n",
    "    def isSameTree(self, p, q):\n",
    "        \"\"\"\n",
    "        :type p: TreeNode\n",
    "        :type q: TreeNode\n",
    "        :rtype: bool\n",
    "        \"\"\"\n",
    "        if p is None and q is None:\n",
    "            return True\n",
    "        if p is None or q is None:\n",
    "            return False\n",
    "        if p.val == q.val:\n",
    "            return self.isSameTree(p.left, q.left) and self.isSameTree(p.right, q.right)\n",
    "        else:\n",
    "            return False"
   ]
  },
  {
   "cell_type": "markdown",
   "id": "fe7818b9-d030-460b-823b-e4628a226c9e",
   "metadata": {},
   "source": [
    "## 61. Invert Binary Tree\n",
    "\n",
    "[Question Link](https://leetcode.com/problems/invert-binary-tree/)"
   ]
  },
  {
   "cell_type": "markdown",
   "id": "cff3e9c1-bd5e-40de-8efe-a4e99d9f492a",
   "metadata": {},
   "source": [
    "\n",
    "\n",
    "**Example 1:**\n",
    "\n",
    "<img src=\"../assets/invert1-tree.jpg\" alt=\"Example 1\"> <br>\n",
    "\n",
    "**Example 2:**\n",
    "\n",
    "<img src=\"../assets/invert2-tree.jpg\" alt=\"Example 2\"> <br>"
   ]
  },
  {
   "cell_type": "markdown",
   "id": "3a84dcf8-5dcf-42e6-b76f-2eefb12048e4",
   "metadata": {},
   "source": [
    "Given the root of a binary tree, invert the tree, and return its root.\n",
    "\n",
    " \n",
    "`Example 1:`\n",
    "\n",
    "\n",
    "Input: root = [4,2,7,1,3,6,9] <br>\n",
    "Output: [4,7,2,9,6,3,1]\n",
    "\n",
    "\n",
    "`Example 2:`\n",
    "\n",
    "\n",
    "Input: root = [2,1,3] <br>\n",
    "Output: [2,3,1]\n",
    "\n",
    "\n",
    "`Example 3:`\n",
    "\n",
    "Input: root = [] <br>\n",
    "Output: []\n",
    " \n",
    "\n",
    "`Constraints:`\n",
    "\n",
    "The number of nodes in the tree is in the range [0, 100] <br>.\n",
    "-100 <= Node.val <= 100"
   ]
  },
  {
   "cell_type": "markdown",
   "id": "efe575ae-903a-4309-8355-b448d920624f",
   "metadata": {},
   "source": [
    "\n",
    "\n",
    "### APPROACH\n",
    "\n",
    "1. FLip the left and subtrees <br>\n",
    "2. Once the left and right subtrees are flipped, assign left tree to right node and vice versa."
   ]
  },
  {
   "cell_type": "code",
   "execution_count": 52,
   "id": "ca26ccd7-aa8c-470f-9afc-b57f92b1ff01",
   "metadata": {
    "tags": []
   },
   "outputs": [],
   "source": [
    "# Definition for a binary tree node.\n",
    "class TreeNode(object):\n",
    "    def __init__(self, val=0, left=None, right=None):\n",
    "        self.val = val\n",
    "        self.left = left\n",
    "        self.right = right\n",
    "class Solution(object):\n",
    "    def invertTree(self, root):\n",
    "        \"\"\"\n",
    "        :type root: TreeNode\n",
    "        :rtype: TreeNode\n",
    "        \"\"\"\n",
    "        if root is None:\n",
    "            return None\n",
    "        left_flip = self.invertTree(root.left)\n",
    "        right_flip = self.invertTree(root.right)\n",
    "        root.left = right_flip\n",
    "        root.right = left_flip\n",
    "        return root"
   ]
  },
  {
   "cell_type": "markdown",
   "id": "2a8344cc-22c1-40b4-873f-6aa911447040",
   "metadata": {},
   "source": [
    "## 62. Binary Tree Maximum Path Sum\n",
    "\n",
    "[Question Link](https://leetcode.com/problems/binary-tree-maximum-path-sum/)"
   ]
  },
  {
   "cell_type": "markdown",
   "id": "5c57ee72-d7b7-42ce-bcd6-de95c7650bb1",
   "metadata": {},
   "source": [
    "**Example 1:**\n",
    "\n",
    "<img src=\"../assets/exx1.jpg\" alt=\"Example 1\"> <br>\n",
    "\n",
    "**Example 2:**\n",
    "\n",
    "<img src=\"../assets/exx2.jpg\" alt=\"Example 2\"> <br>\n",
    "\n"
   ]
  },
  {
   "cell_type": "markdown",
   "id": "fbb0ce89-a469-41ad-b60e-e53502294f74",
   "metadata": {},
   "source": [
    "A path in a binary tree is a sequence of nodes where each pair of adjacent nodes in the sequence has an edge connecting them. A node can only appear in the sequence at most once. Note that the path does not need to pass through the root.\n",
    "\n",
    "The path sum of a path is the sum of the node's values in the path.\n",
    "\n",
    "Given the root of a binary tree, return the maximum path sum of any non-empty path.\n",
    "\n",
    " \n",
    "\n",
    "`Example 1:`\n",
    "\n",
    "Input: root = [1,2,3] <br>\n",
    "Output: 6 <br>\n",
    "Explanation: The optimal path is 2 -> 1 -> 3 with a path sum of 2 + 1 + 3 = 6.\n",
    "\n",
    "\n",
    "`Example 2:`\n",
    "\n",
    "Input: root = [-10,9,20,null,null,15,7] <br>\n",
    "Output: 42 <br>\n",
    "Explanation: The optimal path is 15 -> 20 -> 7 with a path sum of 15 + 20 + 7 = 42. <br>\n",
    " \n",
    "\n",
    "`Constraints:`\n",
    "\n",
    "The number of nodes in the tree is in the range [1, 3 * 10^4]. <br>\n",
    "-1000 <= Node.val <= 1000"
   ]
  },
  {
   "cell_type": "markdown",
   "id": "06c0a0f0-302f-4b29-a9da-cd23ee2e450e",
   "metadata": {},
   "source": [
    "### APPROACH"
   ]
  },
  {
   "cell_type": "code",
   "execution_count": 51,
   "id": "0e77b2df-2ee4-4265-b657-e49691698884",
   "metadata": {
    "tags": []
   },
   "outputs": [],
   "source": [
    "# Definition for a binary tree node.\n",
    "# class TreeNode(object):\n",
    "#     def __init__(self, val=0, left=None, right=None):\n",
    "#         self.val = val\n",
    "#         self.left = left\n",
    "#         self.right = right\n",
    "class Solution(object):\n",
    "    def __init__(self):\n",
    "        self.maxsum = -10000000000\n",
    "\n",
    "    def findSum(self, root):\n",
    "        if root is None:\n",
    "            return 0\n",
    "        left_sum = self.findSum(root.left)\n",
    "        right_sum = self.findSum(root.right)\n",
    "\n",
    "        v1 = left_sum + right_sum + root.val\n",
    "        v2 = left_sum + root.val\n",
    "        v3 = right_sum + root.val\n",
    "        v4 = root.val\n",
    "\n",
    "        if v1 > self.maxsum: self.maxsum = v1\n",
    "        if v2 > self.maxsum: self.maxsum = v2\n",
    "        if v3 > self.maxsum: self.maxsum = v3\n",
    "        if v4 > self.maxsum: self.maxsum = v4\n",
    "        return max(v2, max(v3, v4)) # Very important. While returning, we don't compare v1. That's because, we want to include the current node in the path.\n",
    "        \n",
    "\n",
    "    def maxPathSum(self, root):\n",
    "        \"\"\"\n",
    "        :type root: TreeNode\n",
    "        :rtype: int\n",
    "        \"\"\"\n",
    "        if root is None:\n",
    "            return 0\n",
    "        self.findSum(root)\n",
    "        return self.maxsum\n",
    "\n",
    "\n",
    "\n"
   ]
  },
  {
   "cell_type": "markdown",
   "id": "22812083-027e-4a73-beec-56b01fb29fca",
   "metadata": {},
   "source": [
    "## 63. Binary Tree Level Order Traversal\n",
    "\n",
    "[Question Link](https://leetcode.com/problems/binary-tree-level-order-traversal/)"
   ]
  },
  {
   "cell_type": "markdown",
   "id": "17c72fda-fcdd-440a-8f88-88a9d1c46b28",
   "metadata": {},
   "source": [
    "\n",
    "\n",
    "**Example 1:**\n",
    "\n",
    "<img src=\"../assets/lotrtree1.jpg\" alt=\"Example 1\"> <br>"
   ]
  },
  {
   "cell_type": "markdown",
   "id": "41d8cb6d-a8c1-429f-80b1-0fdbd0cc4e55",
   "metadata": {},
   "source": [
    "Given the root of a binary tree, return the level order traversal of its nodes' values. (i.e., from left to right, level by level).\n",
    "\n",
    " \n",
    "\n",
    "`Example 1:`\n",
    "\n",
    "Input: root = [3,9,20,null,null,15,7]  <br>\n",
    "Output: [[3],[9,20],[15,7]]\n",
    "\n",
    "\n",
    "`Example 2:`\n",
    "\n",
    "Input: root = [1] <br>\n",
    "Output: [[1]]\n",
    "\n",
    "\n",
    "`Example 3:`\n",
    "\n",
    "Input: root = [ ] <br>\n",
    "Output: [ ]\n",
    " \n",
    "\n",
    "`Constraints:`\n",
    "\n",
    "The number of nodes in the tree is in the range [0, 2000]. <br>\n",
    "-1000 <= Node.val <= 1000"
   ]
  },
  {
   "cell_type": "markdown",
   "id": "38f0ed5b-37e2-4887-b269-305362ddb366",
   "metadata": {},
   "source": [
    "### APPROACH"
   ]
  },
  {
   "cell_type": "code",
   "execution_count": 54,
   "id": "01f01c0b-c624-4bf9-9a4b-d57072c364a8",
   "metadata": {
    "tags": []
   },
   "outputs": [],
   "source": [
    "# Definition for a binary tree node.\n",
    "class TreeNode(object):\n",
    "    def __init__(self, val=0, left=None, right=None):\n",
    "        self.val = val\n",
    "        self.left = left\n",
    "        self.right = right\n",
    "        \n",
    "class Solution(object):\n",
    "    def levelOrder(self, root):\n",
    "        \"\"\"\n",
    "        :type root: TreeNode\n",
    "        :rtype: List[List[int]]\n",
    "        \"\"\"\n",
    "        levels = []\n",
    "        if root is None:\n",
    "            return levels\n",
    "        Q = []\n",
    "        idx = 0\n",
    "        Q.append((root, 1))\n",
    "\n",
    "        def isEmpty(Q, idx):\n",
    "            return idx >= len(Q)\n",
    "        \n",
    "        while not isEmpty(Q, idx):\n",
    "            node, level = Q[idx]\n",
    "            idx += 1\n",
    "            if level > len(levels):\n",
    "                levels.append([])\n",
    "            print(level, len(levels))\n",
    "            levels[-1].append(node.val)\n",
    "            if node.left:\n",
    "                Q.append((node.left, level + 1))\n",
    "            if node.right:\n",
    "                Q.append((node.right, level + 1))\n",
    "        return levels\n",
    "\n"
   ]
  },
  {
   "cell_type": "markdown",
   "id": "c9c9faa2-0b14-4fe2-8b8a-a8d52c224f47",
   "metadata": {},
   "source": [
    "## 64. Serialize and Deserialize Binary Tree\n",
    "\n",
    "\n",
    "[Question Link](https://leetcode.com/problems/serialize-and-deserialize-binary-tree/description/)"
   ]
  },
  {
   "cell_type": "markdown",
   "id": "04a77414-4343-4565-a332-dcf5c2c62320",
   "metadata": {},
   "source": [
    "Serialization is the process of converting a data structure or object into a sequence of bits so that it can be stored in a file or memory buffer, or transmitted across a network connection link to be reconstructed later in the same or another computer environment.\n",
    "\n",
    "Design an algorithm to serialize and deserialize a binary tree. There is no restriction on how your serialization/deserialization algorithm should work. You just need to ensure that a binary tree can be serialized to a string and this string can be deserialized to the original tree structure.\n",
    "\n",
    "Clarification: The input/output format is the same as how LeetCode serializes a binary tree. You do not necessarily need to follow this format, so please be creative and come up with different approaches yourself.\n",
    "\n",
    " \n",
    "\n",
    "`Example 1:`\n",
    "\n",
    "Input: root = [1,2,3,null,null,4,5]  <br>\n",
    "Output: [1,2,3,null,null,4,5]\n",
    "\n",
    "\n",
    "`Example 2:`\n",
    "\n",
    "Input: root = [ ]  <br>\n",
    "Output: [ ]\n",
    " \n",
    "\n",
    "`Constraints:`\n",
    "\n",
    "The number of nodes in the tree is in the range [0, 10^4].  <br>\n",
    "-1000 <= Node.val <= 1000"
   ]
  },
  {
   "cell_type": "markdown",
   "id": "6c8a5ce0-66d4-4885-9fc0-fd2d562df53f",
   "metadata": {},
   "source": [
    "### APPROACH"
   ]
  },
  {
   "cell_type": "code",
   "execution_count": 52,
   "id": "827ddc1e-e9d1-4c5d-94ae-4154098b98c6",
   "metadata": {
    "tags": []
   },
   "outputs": [],
   "source": [
    "# Definition for a binary tree node.\n",
    "class TreeNode(object):\n",
    "    def __init__(self, x):\n",
    "        self.val = x\n",
    "        self.left = None\n",
    "        self.right = None\n",
    "\n",
    "class Codec:\n",
    "\n",
    "    def serialize(self, root):\n",
    "        \"\"\"Encodes a tree to a single string.\n",
    "        \n",
    "        :type root: TreeNode\n",
    "        :rtype: str\n",
    "        \"\"\"\n",
    "        ## To serialize, we do a level order traversal of the Tree\n",
    "        s = \"\"\n",
    "        if root is None:\n",
    "            return s\n",
    "        Q = []\n",
    "        idx = 0\n",
    "        Q.append(root)\n",
    "        while idx < len(Q):\n",
    "            node = Q[idx]\n",
    "            idx += 1\n",
    "            if node:\n",
    "                s += str(node.val) + \",\"\n",
    "            else:\n",
    "                s+= \"null,\"\n",
    "            if node:\n",
    "                Q.append(node.left)\n",
    "                Q.append(node.right)\n",
    "        return s\n",
    "        \n",
    "\n",
    "    def deserialize(self, data):\n",
    "        \"\"\"Decodes your encoded data to tree.\n",
    "        \n",
    "        :type data: str\n",
    "        :rtype: TreeNode\n",
    "        \"\"\"\n",
    "        \n",
    "        root = None\n",
    "        tokens = data.split(\",\")\n",
    "        Q = []\n",
    "        if len(data) > 0:\n",
    "            root = TreeNode(tokens[0])\n",
    "            Q.append(root)\n",
    "        else:\n",
    "            return root\n",
    "        idx = 0\n",
    "        token_idx = 1\n",
    "        while idx < len(Q):\n",
    "            node = Q[idx]\n",
    "            idx += 1\n",
    "            print(token_idx, len(tokens))\n",
    "            t1 = tokens[token_idx]\n",
    "            t2 = tokens[token_idx+ 1]\n",
    "            token_idx+= 2\n",
    "            if t1 != \"null\":\n",
    "                node.left = TreeNode(t1)\n",
    "                Q.append(node.left)\n",
    "            if t2 != \"null\":\n",
    "                node.right = TreeNode(t2)\n",
    "                Q.append(node.right)\n",
    "        \n",
    "\n",
    "        return root\n",
    "\n",
    "\n",
    "\n",
    "\n",
    "# Your Codec object will be instantiated and called as such:\n",
    "# ser = Codec()\n",
    "# deser = Codec()\n",
    "# ans = deser.deserialize(ser.serialize(root))"
   ]
  },
  {
   "cell_type": "markdown",
   "id": "52377be0-d9a8-465f-8177-794a82d57866",
   "metadata": {},
   "source": [
    "## 65. Subtree of Another Tree\n",
    "\n",
    "[Question Link](https://leetcode.com/problems/subtree-of-another-tree/)"
   ]
  },
  {
   "cell_type": "markdown",
   "id": "82583a7d-7dc1-42d4-a92c-ed966d34d37b",
   "metadata": {
    "tags": []
   },
   "source": [
    "\n",
    "**Example 1:**\n",
    "\n",
    "<img src=\"../assets/subtree1-tree.jpg\" alt=\"Example 1\"> <br>\n",
    "\n",
    "**Example 2:**\n",
    "\n",
    "<img src=\"../assets/subtree2-tree.jpg\" alt=\"Example 2\"> <br>"
   ]
  },
  {
   "cell_type": "markdown",
   "id": "14db6367-9c32-4530-8229-1f195f4b725f",
   "metadata": {},
   "source": [
    "Given the roots of two binary trees root and subRoot, return true if there is a subtree of root with the same structure and node values of subRoot and false otherwise.\n",
    "\n",
    "A subtree of a binary tree tree is a tree that consists of a node in tree and all of this node's descendants. The tree tree could also be considered as a subtree of itself.\n",
    "\n",
    " \n",
    "\n",
    "`Example 1:`\n",
    "\n",
    "Input: root = [3,4,5,1,2], subRoot = [4,1,2] <br>\n",
    "Output: true\n",
    "\n",
    "\n",
    "`Example 2:`\n",
    "\n",
    "Input: root = [3,4,5,1,2,null,null,null,null,0], subRoot = [4,1,2] <br>\n",
    "Output: false\n",
    " \n",
    "\n",
    "`Constraints:`\n",
    "\n",
    "The number of nodes in the root tree is in the range [1, 2000]. <br>\n",
    "The number of nodes in the subRoot tree is in the range [1, 1000]. <br>\n",
    "-10^4 <= root.val <= 10^4 <br>\n",
    "-10^4 <= subRoot.val <= 10^4"
   ]
  },
  {
   "cell_type": "markdown",
   "id": "6dfa49fa-c523-41e5-a272-66d7aeb4e761",
   "metadata": {},
   "source": [
    "### APPROACH\n",
    "\n",
    "\n",
    "We have a function `helper_identical` which checks if there's an identical match for two trees at root1 and root2 respectively.  <br>\n",
    "And we use the main function to trigger `helper_identical` over different roots. <br>\n",
    "\n",
    "**Base cases:** <br>\n",
    "  *  1. If both roots are None ---> Return true <br>\n",
    "  *  2. If one of them is None ---> Return False <br>\n",
    "\n",
    "If there is an identical match at root: <br>\n",
    "  *  Check for identical match at left subtree and right subtree of both the roots. <br>\n",
    "\n",
    "If there is no identical match at root: <br>\n",
    "   * call the same function for {root1.left and subroot} & {root1.right and subroot} <br>"
   ]
  },
  {
   "cell_type": "code",
   "execution_count": 56,
   "id": "82c195d0-1035-4ddd-bb8a-3f0f693da16b",
   "metadata": {},
   "outputs": [],
   "source": [
    "\n",
    "# Definition for a binary tree node.\n",
    "class TreeNode:\n",
    "    def __init__(self, val=0, left=None, right=None):\n",
    "        self.val = val\n",
    "        self.left = left\n",
    "        self.right = right\n",
    "\n",
    "\n",
    "class Solution:\n",
    "    def isSubtree(self, root: Optional[TreeNode], subRoot: Optional[TreeNode]) -> bool:\n",
    "\n",
    "        def helper_identical(root, subRoot):\n",
    "            \"\"\"\n",
    "            This function returns an IDENTICAL match for 2 trees rooted at root and subroot\n",
    "            \"\"\"\n",
    "            if root is None and subRoot is None:\n",
    "                return True\n",
    "            \n",
    "             # According to problem statement, if either root is None if the other isn't None, its not a valid match\n",
    "            if root is None or subRoot is None:\n",
    "                return False\n",
    "\n",
    "            cur_match = root.val == subRoot.val\n",
    "            if cur_match:\n",
    "                # make sure both left and trees are IDENTICAL MATCH\n",
    "                left = helper_identical(root.left, subRoot.left) \n",
    "                right = helper_identical(root.right, subRoot.right)\n",
    "                return left & right\n",
    "            return False\n",
    "        \n",
    "        \n",
    "        # check for Base cases\n",
    "        if root is None and subRoot is None:\n",
    "            return True\n",
    "    \n",
    "        if root is None or subRoot is None:\n",
    "            return False\n",
    "\n",
    "        # if there is an identical match at root\n",
    "        cur_match = helper_identical(root, subRoot)\n",
    "        if not cur_match:\n",
    "            # if there is no identical match at root, we check if there is an IDENTICAL MATCH at root.child and subRoot\n",
    "            left = self.isSubtree(root.left, subRoot)\n",
    "            right = self.isSubtree(root.right, subRoot)\n",
    "            return left | right\n",
    "        return cur_match"
   ]
  },
  {
   "cell_type": "markdown",
   "id": "131be681-a873-46c6-a0f5-115716be102a",
   "metadata": {},
   "source": [
    "## 66. Construct Binary Tree from Preorder and Inorder Traversal\n",
    "\n",
    "[Question Link](https://leetcode.com/problems/construct-binary-tree-from-preorder-and-inorder-traversal/)"
   ]
  },
  {
   "cell_type": "markdown",
   "id": "30008ac6-012a-40cc-8e8a-bd370771fe32",
   "metadata": {},
   "source": [
    "\n",
    "**Example 1:**\n",
    "\n",
    "<img src=\"../assets/bt_io_po_tree.jpg\" alt=\"Example 1\"> <br>\n"
   ]
  },
  {
   "cell_type": "raw",
   "id": "ef780206-e533-49bb-9136-cd035b45b3d3",
   "metadata": {},
   "source": [
    "Given two integer arrays preorder and inorder where preorder is the preorder traversal of a binary tree and inorder is the inorder traversal of the same tree, construct and return the binary tree.\n",
    "\n",
    " \n",
    "\n",
    "Example 1:\n",
    "\n",
    "Input: preorder = [3,9,20,15,7], inorder = [9,3,15,20,7]\n",
    "Output: [3,9,20,null,null,15,7]\n",
    "\n",
    "\n",
    "Example 2:\n",
    "\n",
    "Input: preorder = [-1], inorder = [-1]\n",
    "Output: [-1]\n",
    " \n",
    "\n",
    "Constraints:\n",
    "\n",
    "1 <= preorder.length <= 3000\n",
    "inorder.length == preorder.length\n",
    "-3000 <= preorder[i], inorder[i] <= 3000\n",
    "preorder and inorder consist of unique values.\n",
    "Each value of inorder also appears in preorder.\n",
    "preorder is guaranteed to be the preorder traversal of the tree.\n",
    "inorder is guaranteed to be the inorder traversal of the tree."
   ]
  },
  {
   "cell_type": "markdown",
   "id": "f1a08330-605b-4651-bd04-e5ba1bdf94f3",
   "metadata": {},
   "source": [
    "### APPROACH\n",
    "\n",
    "1. Since preorder lists root first, we will use it to find the current root.\n",
    "2. Since inorder, lists left | node | right, \n",
    "    * we use the preorder to find the current root value. \n",
    "    * we then find the index of the root value in inorder: $R_i$\n",
    "    * That immediately divides the sequence left of $R_i$ as left subtree and right of $R_i$ as right subtree."
   ]
  },
  {
   "cell_type": "code",
   "execution_count": 57,
   "id": "c34be884-9d31-4af6-b60f-e2cbd34c26fc",
   "metadata": {
    "tags": []
   },
   "outputs": [],
   "source": [
    "### TODO: CODE IT\n",
    "\n",
    "# Definition for a binary tree node.\n",
    "class TreeNode:\n",
    "    def __init__(self, val=0, left=None, right=None):\n",
    "        self.val = val\n",
    "        self.left = left\n",
    "        self.right = right\n",
    "\n",
    "class Solution:\n",
    "    def buildTree(self, preorder: List[int], inorder: List[int]) -> Optional[TreeNode]:\n",
    "        self.pidx = 0\n",
    "        def make_tree(si, ei):\n",
    "            \"\"\"\n",
    "            si: start index of inorder\n",
    "            ei: end index of inorder\n",
    "            \"\"\"\n",
    "            # Base cases\n",
    "            if si == ei:\n",
    "                self.pidx += 1\n",
    "                return TreeNode(inorder[si])\n",
    "            if si > ei:\n",
    "                return None\n",
    "            root_val = preorder[self.pidx]\n",
    "            mid = -1\n",
    "            for i in range(si, ei+1):\n",
    "                if root_val == inorder[i]:\n",
    "                    mid = i\n",
    "                    break\n",
    "            \n",
    "            root = TreeNode(root_val)\n",
    "            self.pidx+= 1 # increment preorder. Everytime we make a node, we increment the index of preorder\n",
    "            root.left = make_tree(si, mid-1)\n",
    "            root.right = make_tree(mid+1, ei)\n",
    "            return root\n",
    "        \n",
    "        return make_tree(0, len(inorder)-1)"
   ]
  },
  {
   "cell_type": "markdown",
   "id": "e901b141-fa7d-4428-ae32-93f63738e49e",
   "metadata": {},
   "source": [
    "## 67. Validate Binary Search Tree\n",
    "\n",
    "[Question Link](https://leetcode.com/problems/validate-binary-search-tree/description/)"
   ]
  },
  {
   "cell_type": "markdown",
   "id": "49e23009-dff3-4a9f-9229-06fc6e25b2f8",
   "metadata": {},
   "source": [
    "Given the root of a binary tree, determine if it is a valid binary search tree (BST).\n",
    "\n",
    "A valid BST is defined as follows:\n",
    "\n",
    "- The left subtree of a node contains only nodes with keys less than the node's key.\n",
    "- The right subtree of a node contains only nodes with keys greater than the node's key.\n",
    "- Both the left and right subtrees must also be binary search trees.\n",
    " \n",
    "\n",
    "`Example 1:`\n",
    "\n",
    "Input: root = [2,1,3]  <br>\n",
    "Output: true\n",
    "\n",
    "\n",
    "`Example 2:`\n",
    "\n",
    "Input: root = [5,1,4,null,null,3,6]  <br>\n",
    "Output: false  <br>\n",
    "Explanation: The root node's value is 5 but its right child's value is 4.\n",
    " \n",
    "\n",
    "`Constraints:`\n",
    "\n",
    "The number of nodes in the tree is in the range [1, 10^4].  <br>\n",
    "-231 <= Node.val <= 231 - 1"
   ]
  },
  {
   "cell_type": "markdown",
   "id": "ecba78f0-236c-42c0-b598-3bb00fc589ec",
   "metadata": {},
   "source": [
    "### APPROACH"
   ]
  },
  {
   "cell_type": "code",
   "execution_count": 58,
   "id": "aea16fcf-b47a-4cd0-988d-83078b4bb8c6",
   "metadata": {
    "tags": []
   },
   "outputs": [],
   "source": [
    "class Solution:\n",
    "\n",
    "    def __init__(self):\n",
    "        pass\n",
    "\n",
    "    def isValidBST(self, root):\n",
    "        stack, prev = [], -float('inf')\n",
    "\n",
    "        while stack or root:\n",
    "            while root:\n",
    "                stack.append(root)\n",
    "                root = root.left\n",
    "            root = stack.pop()\n",
    "            # If next element in inorder traversal\n",
    "            # is smaller than the previous one\n",
    "            # that's not BST.\n",
    "            if root.val <= prev:\n",
    "                return False\n",
    "            prev = root.val\n",
    "            root = root.right\n",
    "\n",
    "        return True"
   ]
  },
  {
   "cell_type": "markdown",
   "id": "210fad5b-f8f4-415f-9976-4188906d8493",
   "metadata": {},
   "source": [
    "## 68. Kth Smallest Element in a BST\n",
    "\n",
    "\n",
    "[Question Link](https://leetcode.com/problems/kth-smallest-element-in-a-bst/)"
   ]
  },
  {
   "cell_type": "markdown",
   "id": "071eb207-c008-4d15-8e22-10088914ca1e",
   "metadata": {},
   "source": [
    "\n",
    "**Example 1:**\n",
    "\n",
    "<img src=\"../assets/kthtree1.jpg\" alt=\"Example 1\"> <br>\n",
    "\n",
    "**Example 2:**\n",
    "\n",
    "<img src=\"../assets/kthtree2.jpg\" alt=\"Example 2\"> <br>\n"
   ]
  },
  {
   "cell_type": "markdown",
   "id": "6506ae76-334c-4c23-8488-1c4d8ca5ffcc",
   "metadata": {},
   "source": [
    "Given the root of a binary search tree, and an integer k, return the kth smallest value (1-indexed) of all the values of the nodes in the tree.\n",
    "\n",
    "\n",
    "`Example 1:`\n",
    "\n",
    "Input: root = [3,1,4,null,2], k = 1 <br>\n",
    "Output: 1\n",
    "\n",
    "\n",
    "`Example 2:`\n",
    "\n",
    "Input: root = [5,3,6,2,4,null,null,1], k = 3 <br>\n",
    "Output: 3\n",
    " \n",
    "\n",
    "`Constraints:`\n",
    "\n",
    "The number of nodes in the tree is n. <br>\n",
    "1 <= k <= n <= 10^4 <br>\n",
    "0 <= Node.val <= 10^4\n",
    " \n",
    "\n",
    "Follow up: If the BST is modified often (i.e., we can do insert and delete operations) and you need to find the kth smallest frequently, how would you optimize?"
   ]
  },
  {
   "cell_type": "markdown",
   "id": "5f91b782-a8b2-4643-81cd-db2a596959af",
   "metadata": {},
   "source": [
    "### APPROACH\n",
    "\n",
    "Maintain a Heap for the elements. Do a preorder traversal and return the kth smallest from heap"
   ]
  },
  {
   "cell_type": "code",
   "execution_count": 59,
   "id": "5a8caf49-bb59-4cd0-96bd-0d99700dfe81",
   "metadata": {
    "tags": []
   },
   "outputs": [],
   "source": [
    "\n",
    "# Definition for a binary tree node.\n",
    "# class TreeNode:\n",
    "#     def __init__(self, val=0, left=None, right=None):\n",
    "#         self.val = val\n",
    "#         self.left = left\n",
    "#         self.right = right\n",
    "\n",
    "class Solution:\n",
    "    def kthSmallest(self, root: Optional[TreeNode], k: int) -> int:\n",
    "        self.H = []\n",
    "        \n",
    "        def preorder(root):\n",
    "            if root is None:\n",
    "                return \n",
    "            \n",
    "            preorder(root.left)\n",
    "            heapq.heappush(self.H, root.val)\n",
    "            preorder(root.right)\n",
    "\n",
    "        preorder(root)\n",
    "        k = k-1\n",
    "        if k > len(self.H):\n",
    "            return False\n",
    "        for i in range(k):\n",
    "            e = heapq.heappop(self.H)\n",
    "        return heapq.heappop(self.H)\n",
    "\n",
    "\n"
   ]
  },
  {
   "cell_type": "markdown",
   "id": "9c3eaecb-703f-435f-b587-869cff577d09",
   "metadata": {},
   "source": [
    "## 69. Lowest Common Ancestor of a Binary Search Tree\n",
    "\n",
    "[Question Link](https://leetcode.com/problems/lowest-common-ancestor-of-a-binary-search-tree/)"
   ]
  },
  {
   "cell_type": "markdown",
   "id": "122ce65b-ae32-452e-a391-6137aaa01130",
   "metadata": {},
   "source": [
    "\n",
    "\n",
    "**Example 1:**\n",
    "\n",
    "<img src=\"../assets/binarysearchtree_improved1.png\" alt=\"Example 1\"> <br>\n",
    "\n",
    "**Example 2:**\n",
    "\n",
    "<img src=\"../assets/binarysearchtree_improved2.png\" alt=\"Example 2\"> <br>\n",
    "\n"
   ]
  },
  {
   "cell_type": "markdown",
   "id": "747ffbd7-cf86-407f-baeb-8c49450e0fb3",
   "metadata": {},
   "source": [
    "Given a binary search tree (BST), find the lowest common ancestor (LCA) node of two given nodes in the BST.\n",
    "\n",
    "According to the definition of LCA on Wikipedia: “The lowest common ancestor is defined between two nodes p and q as the lowest node in T that has both p and q as descendants (where we allow a node to be a descendant of itself).”\n",
    "\n",
    " \n",
    "\n",
    "`Example 1:`\n",
    "\n",
    "Input: root = [6,2,8,0,4,7,9,null,null,3,5], p = 2, q = 8 <br>\n",
    "Output: 6 <br>\n",
    "Explanation: The LCA of nodes 2 and 8 is 6.\n",
    "\n",
    "\n",
    "`Example 2:`\n",
    "\n",
    "Input: root = [6,2,8,0,4,7,9,null,null,3,5], p = 2, q = 4 <br>\n",
    "Output: 2 <br>\n",
    "Explanation: The LCA of nodes 2 and 4 is 2, since a node can be a descendant of itself according to the LCA definition. \n",
    "\n",
    "\n",
    "`Example 3:`\n",
    "\n",
    "Input: root = [2,1], p = 2, q = 1 <br>\n",
    "Output: 2\n",
    " \n",
    "\n",
    "`Constraints:`\n",
    "\n",
    "The number of nodes in the tree is in the range [2, 10^5]. <br>\n",
    "-10^9 <= Node.val <= 10^9 <br>\n",
    "All Node.val are unique. <br>\n",
    "p != q <br>\n",
    "p and q will exist in the BST."
   ]
  },
  {
   "cell_type": "markdown",
   "id": "0eaa8fcb-13be-4fc8-8bcf-37258d6196fb",
   "metadata": {},
   "source": [
    "### APPROACH 1\n",
    "\n",
    "**General Purpose LCA**:\n",
    "\n",
    "    * cond 1: If the root matches either p or q\n",
    "    * cond 2: If the left subtree has either p or q\n",
    "    * cond 3: If the right subtree has either p or q\n",
    "\n",
    "If 1&2 or 2&3 or 1&3 is true, that means, the only possible case it  can happen is if this **current node is an LCA** <br>\n",
    "In other cases, just return if any of the conditions satisfies"
   ]
  },
  {
   "cell_type": "code",
   "execution_count": 60,
   "id": "c45d2bff-718e-4ac2-9a80-d82b4d4564ba",
   "metadata": {
    "tags": []
   },
   "outputs": [],
   "source": [
    "### APPROACH 1:\n",
    "\n",
    "# Definition for a binary tree node.\n",
    "class TreeNode:\n",
    "    def __init__(self, x):\n",
    "        self.val = x\n",
    "        self.left = None\n",
    "        self.right = None\n",
    "\n",
    "class Solution:\n",
    "    def lowestCommonAncestor(self, root: 'TreeNode', p: 'TreeNode', q: 'TreeNode') -> 'TreeNode':\n",
    "        self.LCA = None\n",
    "        def lca(root, p, q):\n",
    "            if root is None:\n",
    "                return False\n",
    "\n",
    "            mid = root.val == p.val or root.val == q.val\n",
    "            left = lca(root.left, p, q)\n",
    "            right = lca(root.right, p, q)\n",
    "\n",
    "            if (mid and left) or (mid and right) or (left and right):\n",
    "                self.LCA = root\n",
    "                return True\n",
    "\n",
    "            return  mid or left or right\n",
    "\n",
    "        ret = lca(root, p, q)\n",
    "        print(ret)\n",
    "        return self.LCA"
   ]
  },
  {
   "cell_type": "markdown",
   "id": "4dfccf2c-50a4-48e1-aa2b-22b005e53e29",
   "metadata": {},
   "source": [
    "### APPROACH 2:\n",
    "\n",
    "Find the first node which is sandwiched between the min and max values of p and q\n",
    "\n",
    "Note: The nodes p and q must exist in the Tree."
   ]
  },
  {
   "cell_type": "code",
   "execution_count": 61,
   "id": "eae1e62e-f579-4db0-8821-2e93887240ed",
   "metadata": {
    "tags": []
   },
   "outputs": [],
   "source": [
    "### APPROACH 1:\n",
    "\n",
    "# Definition for a binary tree node.\n",
    "class TreeNode:\n",
    "    def __init__(self, x):\n",
    "        self.val = x\n",
    "        self.left = None\n",
    "        self.right = None\n",
    "\n",
    "class Solution:\n",
    "    def lowestCommonAncestor(self, root: 'TreeNode', p: 'TreeNode', q: 'TreeNode') -> 'TreeNode':\n",
    "        \"\"\"\n",
    "        For this solution to work, it is important that p and q MUST exist in the tree\n",
    "        \"\"\"\n",
    "        if root is None:\n",
    "            return None\n",
    "\n",
    "        # current node is sandwiched between the min and max values of p and q\n",
    "        cond1 = root.val >= min(p.val, q.val) \n",
    "        cond2 = root.val <= max(p.val, q.val)\n",
    "        if cond1 and cond2: \n",
    "            return root\n",
    "        \n",
    "        left = self.lowestCommonAncestor(root.left, p, q)\n",
    "        right = self.lowestCommonAncestor(root.right, p, q)\n",
    "\n",
    "        if left:\n",
    "            return left\n",
    "        elif right:\n",
    "            return right\n",
    "        return None\n",
    "\n"
   ]
  },
  {
   "cell_type": "markdown",
   "id": "6a225217-371c-4fff-bd7f-6b1f05c4c184",
   "metadata": {},
   "source": [
    "# Concept 10: Tries"
   ]
  },
  {
   "cell_type": "markdown",
   "id": "72364356-4f49-44f5-8c49-061143a42513",
   "metadata": {},
   "source": [
    "## 70. Implement Trie (Prefix Tree)\n",
    "\n",
    "[Question Link](https://leetcode.com/problems/implement-trie-prefix-tree/)"
   ]
  },
  {
   "cell_type": "raw",
   "id": "6532a68e-dea5-47da-90d8-7828477c8139",
   "metadata": {},
   "source": [
    "A trie (pronounced as \"try\") or prefix tree is a tree data structure used to efficiently store and retrieve keys in a dataset of strings. There are various applications of this data structure, such as autocomplete and spellchecker.\n",
    "\n",
    "Implement the Trie class:\n",
    "\n",
    "Trie() Initializes the trie object.\n",
    "void insert(String word) Inserts the string word into the trie.\n",
    "boolean search(String word) Returns true if the string word is in the trie (i.e., was inserted before), and false otherwise.\n",
    "boolean startsWith(String prefix) Returns true if there is a previously inserted string word that has the prefix prefix, and false otherwise.\n",
    " \n",
    "\n",
    "Example 1:\n",
    "\n",
    "Input\n",
    "[\"Trie\", \"insert\", \"search\", \"search\", \"startsWith\", \"insert\", \"search\"]\n",
    "[[], [\"apple\"], [\"apple\"], [\"app\"], [\"app\"], [\"app\"], [\"app\"]]\n",
    "Output\n",
    "[null, null, true, false, true, null, true]\n",
    "\n",
    "Explanation:\n",
    "    \n",
    "Trie trie = new Trie();\n",
    "trie.insert(\"apple\");\n",
    "trie.search(\"apple\");   // return True\n",
    "trie.search(\"app\");     // return False\n",
    "trie.startsWith(\"app\"); // return True\n",
    "trie.insert(\"app\");\n",
    "trie.search(\"app\");     // return True\n",
    " \n",
    "\n",
    "Constraints:\n",
    "\n",
    "1 <= word.length, prefix.length <= 2000\n",
    "word and prefix consist only of lowercase English letters.\n",
    "At most 3 * 104 calls in total will be made to insert, search, and startsWith."
   ]
  },
  {
   "cell_type": "markdown",
   "id": "0e6bfebb-d033-4728-91b5-7546c64fea3c",
   "metadata": {},
   "source": [
    "### APPROACH"
   ]
  },
  {
   "cell_type": "markdown",
   "id": "e054cb34-160e-42bb-a475-90a5737b9790",
   "metadata": {},
   "source": [
    "### TODO: CODE IT"
   ]
  },
  {
   "cell_type": "markdown",
   "id": "03742cb0-2af0-4208-bcd1-d67f1b3c613a",
   "metadata": {},
   "source": [
    "## 71. Design Add and Search Words Data Structure\n",
    "\n",
    "[Question Link](https://leetcode.com/problems/design-add-and-search-words-data-structure/)"
   ]
  },
  {
   "cell_type": "raw",
   "id": "5b97a465-ccb9-4556-b641-2965153ab3b9",
   "metadata": {},
   "source": [
    "Design a data structure that supports adding new words and finding if a string matches any previously added string.\n",
    "\n",
    "Implement the WordDictionary class:\n",
    "\n",
    "WordDictionary() Initializes the object.\n",
    "void addWord(word) Adds word to the data structure, it can be matched later.\n",
    "bool search(word) Returns true if there is any string in the data structure that matches word or false otherwise. word may contain dots '.' where dots can be matched with any letter.\n",
    " \n",
    "\n",
    "Example:\n",
    "\n",
    "Input\n",
    "[\"WordDictionary\",\"addWord\",\"addWord\",\"addWord\",\"search\",\"search\",\"search\",\"search\"]\n",
    "[[],[\"bad\"],[\"dad\"],[\"mad\"],[\"pad\"],[\"bad\"],[\".ad\"],[\"b..\"]]\n",
    "Output\n",
    "[null,null,null,null,false,true,true,true]\n",
    "\n",
    "Explanation:\n",
    "    \n",
    "WordDictionary wordDictionary = new WordDictionary();\n",
    "wordDictionary.addWord(\"bad\");\n",
    "wordDictionary.addWord(\"dad\");\n",
    "wordDictionary.addWord(\"mad\");\n",
    "wordDictionary.search(\"pad\"); // return False\n",
    "wordDictionary.search(\"bad\"); // return True\n",
    "wordDictionary.search(\".ad\"); // return True\n",
    "wordDictionary.search(\"b..\"); // return True\n",
    " \n",
    "\n",
    "Constraints:\n",
    "\n",
    "1 <= word.length <= 25\n",
    "word in addWord consists of lowercase English letters.\n",
    "word in search consist of '.' or lowercase English letters.\n",
    "There will be at most 2 dots in word for search queries.\n",
    "At most 104 calls will be made to addWord and search."
   ]
  },
  {
   "cell_type": "markdown",
   "id": "cece53b8-b942-4b33-ba3a-e6a758eb802c",
   "metadata": {},
   "source": [
    "### APPROACH"
   ]
  },
  {
   "cell_type": "markdown",
   "id": "98ba0641-72e0-41a6-8a4c-43e08e6a3f56",
   "metadata": {},
   "source": [
    "### TODO: CODE IT"
   ]
  },
  {
   "cell_type": "markdown",
   "id": "d13c37f9-a35a-4736-84f5-cca835d5b024",
   "metadata": {},
   "source": [
    "## 72. Word Search II\n",
    "\n",
    "[Question Link](https://leetcode.com/problems/word-search-ii/)"
   ]
  },
  {
   "cell_type": "markdown",
   "id": "d0e96604-e3db-44a8-b4ec-1c2318bd8ac0",
   "metadata": {},
   "source": [
    "**Example 1:**\n",
    "\n",
    "<img src=\"../assets/search1.jpg\" alt=\"Example 1\"> <br>\n",
    "\n",
    "**Example 2:**\n",
    "\n",
    "<img src=\"../assets/search2.jpg\" alt=\"Example 2\"> <br>"
   ]
  },
  {
   "cell_type": "raw",
   "id": "34e4146d-9d0d-43ec-90b6-3b9460530f09",
   "metadata": {},
   "source": [
    "Given an m x n board of characters and a list of strings words, return all words on the board.\n",
    "\n",
    "Each word must be constructed from letters of sequentially adjacent cells, where adjacent cells are horizontally or vertically neighboring. The same letter cell may not be used more than once in a word.\n",
    "\n",
    "Example 1:\n",
    "\n",
    "\n",
    "Input: board = [[\"o\",\"a\",\"a\",\"n\"],[\"e\",\"t\",\"a\",\"e\"],[\"i\",\"h\",\"k\",\"r\"],[\"i\",\"f\",\"l\",\"v\"]], words = [\"oath\",\"pea\",\"eat\",\"rain\"]\n",
    "Output: [\"eat\",\"oath\"]\n",
    "\n",
    "\n",
    "Example 2:\n",
    "\n",
    "Input: board = [[\"a\",\"b\"],[\"c\",\"d\"]], words = [\"abcb\"]\n",
    "Output: []\n",
    " \n",
    "\n",
    "Constraints:\n",
    "\n",
    "m == board.length\n",
    "n == board[i].length\n",
    "1 <= m, n <= 12\n",
    "board[i][j] is a lowercase English letter.\n",
    "1 <= words.length <= 3 * 104\n",
    "1 <= words[i].length <= 10\n",
    "words[i] consists of lowercase English letters.\n",
    "All the strings of words are unique."
   ]
  },
  {
   "cell_type": "markdown",
   "id": "2c19f9ef-c153-4b46-ae0c-6792cf98b800",
   "metadata": {},
   "source": [
    "### APPROACH"
   ]
  },
  {
   "cell_type": "markdown",
   "id": "c4f0054d-1649-41ae-b635-ec6bfd92f0df",
   "metadata": {},
   "source": [
    "### TODO: CODE IT"
   ]
  },
  {
   "cell_type": "markdown",
   "id": "1fa42f0e-4ae2-41b9-9671-426b8e20d28f",
   "metadata": {
    "tags": []
   },
   "source": [
    "# Concept 11: Heap"
   ]
  },
  {
   "cell_type": "markdown",
   "id": "4d8ce9ee-0fe9-45a2-9dc4-c728636f24bc",
   "metadata": {},
   "source": [
    "## 73. Merge k Sorted Lists\n",
    "\n",
    "[Question Link](https://leetcode.com/problems/merge-k-sorted-lists/)"
   ]
  },
  {
   "cell_type": "markdown",
   "id": "9aa7421c-c450-4610-892d-f3d929671250",
   "metadata": {},
   "source": [
    "You are given an array of k linked-lists lists, each linked-list is sorted in ascending order.\n",
    "\n",
    "Merge all the linked-lists into one sorted linked-list and return it.\n",
    "\n",
    " \n",
    "\n",
    "`Example 1:`\n",
    "\n",
    "Input: lists = [[1,4,5],[1,3,4],[2,6]]  <br>\n",
    "Output: [1,1,2,3,4,4,5,6]\n",
    "\n",
    "```\n",
    "Explanation: The linked-lists are:\n",
    "[\n",
    "  1->4->5,\n",
    "  1->3->4,\n",
    "  2->6\n",
    "]\n",
    "merging them into one sorted list:\n",
    "1->1->2->3->4->4->5->6\n",
    "```\n",
    "\n",
    "`Example 2:`\n",
    "\n",
    "Input: lists = [ ] <br>\n",
    "Output: [ ]\n",
    "\n",
    "`Example 3:`\n",
    "\n",
    "Input: lists = [ [ ] ]  <br>\n",
    "Output: [ ]\n",
    " \n",
    "\n",
    "`Constraints:`\n",
    "\n",
    "k == lists.length  <br>\n",
    "0 <= k <= 10^4  <br>\n",
    "0 <= lists[i].length <= 500  <br>\n",
    "-10^4 <= lists[i][j] <= 10^4  <br>\n",
    "lists[i] is sorted in ascending order.  <br>\n",
    "The sum of lists[i].length will not exceed 10^4."
   ]
  },
  {
   "cell_type": "markdown",
   "id": "3981f9d1-53ef-4574-ae84-b68f32e326eb",
   "metadata": {},
   "source": [
    "### APPROACH"
   ]
  },
  {
   "cell_type": "code",
   "execution_count": 62,
   "id": "4257b64f-2108-4c81-a002-98e25e904551",
   "metadata": {
    "tags": []
   },
   "outputs": [],
   "source": [
    "# Definition for singly-linked list.\n",
    "class ListNode(object):\n",
    "    def __init__(self, val=0, next=None):\n",
    "        self.val = val\n",
    "        self.next = next\n",
    "\n",
    "class Solution(object):\n",
    "\n",
    "    def merge2SortedLists(self, list1, list2):\n",
    "        if list1 is None:\n",
    "            return list2\n",
    "        if list2 is None:\n",
    "            return list1\n",
    "        ptr1 = list1\n",
    "        ptr2 = list2\n",
    "        mergehead = list1\n",
    "        if ptr2.val < ptr1.val:\n",
    "            mergehead = ptr2\n",
    "            ptr2 = ptr2.next\n",
    "        else:\n",
    "            ptr1 = ptr1.next\n",
    "        cur = mergehead\n",
    "        while ptr1 and ptr2:\n",
    "            while ptr1 and ptr2 and ptr1.val <= ptr2.val:\n",
    "                cur.next = ptr1\n",
    "                cur = cur.next\n",
    "                ptr1 = ptr1.next\n",
    "            while ptr1 and ptr2 and ptr2.val <= ptr1.val:\n",
    "                cur.next = ptr2\n",
    "                cur = cur.next\n",
    "                ptr2 = ptr2.next\n",
    "        if ptr1:\n",
    "            cur.next = ptr1\n",
    "        else:\n",
    "            cur.next = ptr2\n",
    "        return mergehead\n",
    "\n",
    "\n",
    "    def mergeKLists(self, lists):\n",
    "        \"\"\"\n",
    "        :type lists: List[ListNode]\n",
    "        :rtype: ListNode\n",
    "        \"\"\"\n",
    "        print(len(lists))\n",
    "        if len(lists) == 0:\n",
    "            return None\n",
    "        elif len(lists) == 1:\n",
    "            return lists[0]\n",
    "        elif len(lists) == 2:\n",
    "            head = self.merge2SortedLists(lists[0], lists[1])\n",
    "            print(\"HEAD: \", head)\n",
    "            return head\n",
    "        else:\n",
    "            L = int(len(lists)/2)\n",
    "            return self.merge2SortedLists(\n",
    "                    self.mergeKLists(lists[0: L]),\n",
    "                    self.mergeKLists(lists[L:])\n",
    "                    )\n",
    "        "
   ]
  },
  {
   "cell_type": "markdown",
   "id": "6a4bc971-13a7-48db-885c-cc3ec1a0fd0c",
   "metadata": {},
   "source": [
    "## 74. Top K Frequent Elements\n",
    "\n",
    "[Question Link](https://leetcode.com/problems/top-k-frequent-elements/)\n"
   ]
  },
  {
   "cell_type": "raw",
   "id": "ce7c3c08-71a0-4b63-a4b9-77028cd1cbc2",
   "metadata": {},
   "source": [
    "Given an integer array nums and an integer k, return the k most frequent elements. You may return the answer in any order.\n",
    "\n",
    "\n",
    "Example 1:\n",
    "\n",
    "Input: nums = [1,1,1,2,2,3], k = 2\n",
    "Output: [1,2]\n",
    "\n",
    "\n",
    "Example 2:\n",
    "\n",
    "Input: nums = [1], k = 1\n",
    "Output: [1]\n",
    " \n",
    "\n",
    "Constraints:\n",
    "\n",
    "1 <= nums.length <= 105\n",
    "-104 <= nums[i] <= 104\n",
    "k is in the range [1, the number of unique elements in the array].\n",
    "It is guaranteed that the answer is unique.\n",
    " \n",
    "\n",
    "Follow up: Your algorithm's time complexity must be better than O(n log n), where n is the array's size."
   ]
  },
  {
   "cell_type": "markdown",
   "id": "6cb3d57a-fed3-4803-8ec8-f55db80c861f",
   "metadata": {},
   "source": [
    "### APPROACH"
   ]
  },
  {
   "cell_type": "code",
   "execution_count": 63,
   "id": "8b82436c-aa4d-4a4a-b6c4-efee857a2dc8",
   "metadata": {
    "tags": []
   },
   "outputs": [],
   "source": [
    "class Solution(object):\n",
    "    def topKFrequent(self, nums, k):\n",
    "        \"\"\"\n",
    "        :type nums: List[int]\n",
    "        :type k: int\n",
    "        :rtype: List[int]\n",
    "        \"\"\"\n",
    "        ctr = {}\n",
    "        for n in nums:\n",
    "            if n not in ctr:\n",
    "                ctr[n] = 0\n",
    "            ctr[n] += 1\n",
    "        elements = [(-ctr[i], i) for i in ctr]\n",
    "        heapq.heapify(elements)\n",
    "\n",
    "        topk = []\n",
    "        for i in range(k):\n",
    "            topk.append(heapq.heappop(elements)[1])\n",
    "        return topk"
   ]
  },
  {
   "cell_type": "markdown",
   "id": "3efce4a8-bd24-4bf2-afee-c9a0ef9b248a",
   "metadata": {},
   "source": [
    "## 75. Find Median from Data Stream\n",
    "\n",
    "[Question Link](https://leetcode.com/problems/find-median-from-data-stream/)\n"
   ]
  },
  {
   "cell_type": "raw",
   "id": "548ffb85-41b0-484f-83ca-215f6aff9d1b",
   "metadata": {},
   "source": [
    "The median is the middle value in an ordered integer list. If the size of the list is even, there is no middle value, and the median is the mean of the two middle values.\n",
    "\n",
    "For example, for arr = [2,3,4], the median is 3.\n",
    "For example, for arr = [2,3], the median is (2 + 3) / 2 = 2.5.\n",
    "Implement the MedianFinder class:\n",
    "\n",
    "MedianFinder() initializes the MedianFinder object.\n",
    "void addNum(int num) adds the integer num from the data stream to the data structure.\n",
    "double findMedian() returns the median of all elements so far. Answers within 10-5 of the actual answer will be accepted.\n",
    " \n",
    "\n",
    "Example 1:\n",
    "\n",
    "Input\n",
    "[\"MedianFinder\", \"addNum\", \"addNum\", \"findMedian\", \"addNum\", \"findMedian\"]\n",
    "[[], [1], [2], [], [3], []]\n",
    "Output\n",
    "[null, null, null, 1.5, null, 2.0]\n",
    "\n",
    "Explanation:\n",
    "MedianFinder medianFinder = new MedianFinder();\n",
    "medianFinder.addNum(1);    // arr = [1]\n",
    "medianFinder.addNum(2);    // arr = [1, 2]\n",
    "medianFinder.findMedian(); // return 1.5 (i.e., (1 + 2) / 2)\n",
    "medianFinder.addNum(3);    // arr[1, 2, 3]\n",
    "medianFinder.findMedian(); // return 2.0\n",
    " \n",
    "\n",
    "Constraints:\n",
    "\n",
    "-105 <= num <= 105\n",
    "There will be at least one element in the data structure before calling findMedian.\n",
    "At most 5 * 104 calls will be made to addNum and findMedian.\n",
    " \n",
    "\n",
    "Follow up:\n",
    "\n",
    "If all integer numbers from the stream are in the range [0, 100], how would you optimize your solution?\n",
    "If 99% of all integer numbers from the stream are in the range [0, 100], how would you optimize your solution?"
   ]
  },
  {
   "cell_type": "markdown",
   "id": "d70d272b-d197-4dae-ab17-9567d1bb1fa6",
   "metadata": {},
   "source": [
    "### APPROACH "
   ]
  },
  {
   "cell_type": "markdown",
   "id": "0c2760fa-b8f2-41a6-bdfc-70bf2e017149",
   "metadata": {},
   "source": [
    "### TODO: CODE IT"
   ]
  },
  {
   "cell_type": "code",
   "execution_count": null,
   "id": "1f10b9e9-23af-49a0-a54c-cff0259de6cf",
   "metadata": {},
   "outputs": [],
   "source": []
  }
 ],
 "metadata": {
  "kernelspec": {
   "display_name": "Python 3 (ipykernel)",
   "language": "python",
   "name": "python3"
  },
  "language_info": {
   "codemirror_mode": {
    "name": "ipython",
    "version": 3
   },
   "file_extension": ".py",
   "mimetype": "text/x-python",
   "name": "python",
   "nbconvert_exporter": "python",
   "pygments_lexer": "ipython3",
   "version": "3.9.19"
  }
 },
 "nbformat": 4,
 "nbformat_minor": 5
}
